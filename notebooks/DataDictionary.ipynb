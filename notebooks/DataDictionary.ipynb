{
 "cells": [
  {
   "cell_type": "code",
   "execution_count": 1,
   "metadata": {},
   "outputs": [],
   "source": [
    "import pandas as pd"
   ]
  },
  {
   "cell_type": "code",
   "execution_count": 2,
   "metadata": {},
   "outputs": [],
   "source": [
    "dd = pd.read_excel(\"../data/external/General Indicators/WDI/Data_Extract_From_World_Development_Indicators_Metadata.xlsx\")[[\"Code\",\"Indicator Name\"]]"
   ]
  },
  {
   "cell_type": "code",
   "execution_count": 3,
   "metadata": {},
   "outputs": [],
   "source": [
    "dd = pd.concat([dd, pd.read_excel(\"../data/external/Urbanization/UNPD/Data_Extract_From_World_Development_Indicators_Metadata.xlsx\")[[\"Code\",\"Indicator Name\"]]])"
   ]
  },
  {
   "cell_type": "code",
   "execution_count": 4,
   "metadata": {},
   "outputs": [],
   "source": [
    "dd = pd.concat([dd,pd.read_excel(\"../data/external/Labor/WDI/Data_Extract_From_World_Development_Indicators_Metadata.xlsx\")[[\"Code\",\"Indicator Name\"]]])"
   ]
  },
  {
   "cell_type": "code",
   "execution_count": 5,
   "metadata": {},
   "outputs": [],
   "source": [
    "dd = pd.concat([dd,pd.read_excel(\"../data/external/Inequality/WDI/Data_Extract_From_Poverty_and_Equity_Metadata.xlsx\",sheet_name=\"Series - Metadata\")[[\"Code\",\"Indicator Name\"]]])"
   ]
  },
  {
   "cell_type": "code",
   "execution_count": 6,
   "metadata": {},
   "outputs": [],
   "source": [
    "dd = pd.concat([dd,pd.read_excel(\"../data/external/Education/WDI/Data_Extract_From_World_Development_Indicators_Metadata.xlsx\")[[\"Code\",\"Indicator Name\"]]])"
   ]
  },
  {
   "cell_type": "code",
   "execution_count": 7,
   "metadata": {},
   "outputs": [],
   "source": [
    "dd = pd.concat([dd,pd.read_excel(\"../data/external/Economy/WDI/Data_Extract_From_World_Development_Indicators_Metadata.xlsx\")[[\"Code\",\"Indicator Name\"]]])"
   ]
  },
  {
   "cell_type": "code",
   "execution_count": 8,
   "metadata": {},
   "outputs": [],
   "source": [
    "dd = pd.concat([dd,pd.read_pickle(\"../data/interim/WDI_DD.pickle\").rename({\"Series Code\":\"Code\",\"Series Name\":\"Indicator Name\"},axis=\"columns\")])"
   ]
  },
  {
   "cell_type": "code",
   "execution_count": 9,
   "metadata": {},
   "outputs": [],
   "source": [
    "dd = pd.concat([dd,\n",
    "pd.DataFrame([\n",
    "    [\"Country Code\",\"The ISO 3-character country code for a nation\"],\n",
    "    [\"Year\",\"The year of the data\"],\n",
    "    [\"Tourist Defecit\",\"The difference in outbound-inbound tourists for a country\"],\n",
    "    [\"Tourism Net\",\"The difference in tourism recepts-expenditures\"],\n",
    "    [\"Tourist Avg Net\",\"The average net income per tourist\"],\n",
    "    [\"Population Estimate\",\"The UNPD estimated population for the country\"],\n",
    "    [\"ST.INT.ARVL.PER.CAPITA\",\"Inbound tourists per resident\"],\n",
    "    [\"ST.INT.DPRT.PER.CAPITA\",\"Outbound tourists per resident\"],\n",
    "    [\"Maddison GDPPC\",\"Real GDP per capita in 2011US$, 2011 benchmark (suitable for cross-country growth comparisons)\"]\n",
    "],columns=dd.columns)])"
   ]
  },
  {
   "cell_type": "code",
   "execution_count": 10,
   "metadata": {},
   "outputs": [],
   "source": [
    "dd = pd.concat([dd,\n",
    "pd.DataFrame({\n",
    "    \"Code\": [\"q1\",\"q2\",\"q3\",\"q4\",\"q5\",\"d1\",\"d2\",\"d3\",\"d4\",\"d5\",\"d6\",\"d7\",\"d8\",\"d9\",\"d10\"],\n",
    "    \"Indicator Name\": [\"Quintile group shares of resource\",\"Quintile group shares of resource\",\"Quintile group shares of resource\",\"Quintile group shares of resource\",\"Quintile group shares of resource\",\"Decile group shares of resource\",\"Decile group shares of resource\",\"Decile group shares of resource\",\"Decile group shares of resource\",\"Decile group shares of resource\",\"Decile group shares of resource\",\"Decile group shares of resource\",\"Decile group shares of resource\",\"Decile group shares of resource\",\"Decile group shares of resource\"]\n",
    "})])"
   ]
  },
  {
   "cell_type": "code",
   "execution_count": 11,
   "metadata": {},
   "outputs": [],
   "source": [
    "dd = pd.concat([dd, pd.DataFrame([\n",
    "  [\"id\",\"Identifier\"  ],\n",
    "  [\"country\",\"Country/area\"  ],\n",
    "  [\"c3\",\"3-digit country code in ISO 3166-1 alpha-3 format\"  ],\n",
    "  [\"c2\",\"2-digit country code in ISO 3166-1 alpha-2 format\"  ],\n",
    "  [\"year\",\"Year. Note that when a survey continues for more than a year, the year when it is finished is considered\"  ],\n",
    "  [\"gini_reported\",\"Gini coefficient as reported by the source (in most cases based on microdata, in some older observations estimates derive from grouped data)\"  ],\n",
    "  [\"bottom5\",\"Bottom five percent group shares of resource\"  ],\n",
    "  [\"top5\",\"Top five percent group shares of resource\"  ],\n",
    "  [\"resource\",\"Resource concept\"  ],\n",
    "  [\"resource_detailed\",\"Detailed resource concept\"  ],\n",
    "  [\"scale\",\"Equivalence scale\"  ],\n",
    "  [\"scale_detailed\",\"Detailed equivalence scale\"  ],\n",
    "  [\"sharing_unit\",\"Income sharing unit/statistical unit\"  ],\n",
    "  [\"reference_unit\",\"Unit of analysis, indicates whether the data has been weighted with a person or a household weight\"  ],\n",
    "  [\"areacovr\",\"Area coverage. The land area which was included in the original sample surveys etc.\"  ],\n",
    "  [\"areacovr_detailed\",\"Detailed area coverage\"  ],\n",
    "  [\"popcovr\",\"Population coverage. The population covered in the sample surveys in the land area (all, rural, urban etc.) which was included\"  ],\n",
    "  [\"popcovr_detailed\",\"Detailed population coverage, including age coverage information in certain cases\"  ],\n",
    "  [\"region_un\",\"Regional grouping based on United Nations geoscheme\"  ],\n",
    "  [\"region_un_sub\",\"Sub-regional grouping based on United Nations geoscheme\"  ],\n",
    "  [\"region_wb\",\"Regional grouping based on World Bank classification\"  ],\n",
    "  [\"eu\",\"Current EU member state\"  ],\n",
    "  [\"oecd\",\"Current OECD member state\"  ],\n",
    "  [\"incomegroup\",\"World Bank classification by country income\"  ],\n",
    "  [\"mean\",\"Survey mean given with the same underlying definitions as the Gini coefficient and the share data\"  ],\n",
    "  [\"median\",\"Survey median given with the same underlying definitions as the Gini coefficient and the share data\"  ],\n",
    "  [\"currency\",\"Currency for the mean and median values. If the reference is US$2011PPP it means that the currency is in 2011 US dollar per month, with purchasing power parity applied on it.\"  ],\n",
    "  [\"reference_period\",\"Time period for measuring mean and median values\"  ],\n",
    "  [\"exchangerate\",\"Conversion rate from local currency units (LCU) to United States Dollars (USD)\"  ],\n",
    "  [\"mean_usd\",\"Mean measure in United States Dollar (USD)\"  ],\n",
    "  [\"median_usd\",\"Median measure in United States Dollar (USD)\"  ],\n",
    "  [\"gdp_ppp_pc_usd2011\",\"Gross Domestic Product (GDP) is converted to United States Dollars (USD) using purchasing power parity rates and divided by total population. Data are in constant 2011 United States Dollar (USD)\"  ]\n",
    "],columns=dd.columns)])"
   ]
  },
  {
   "cell_type": "code",
   "execution_count": 12,
   "metadata": {},
   "outputs": [],
   "source": [
    "dd.to_csv(\"../data/production/data_dictionary.csv\")"
   ]
  }
 ],
 "metadata": {
  "kernelspec": {
   "display_name": "Python 3",
   "language": "python",
   "name": "python3"
  },
  "language_info": {
   "codemirror_mode": {
    "name": "ipython",
    "version": 3
   },
   "file_extension": ".py",
   "mimetype": "text/x-python",
   "name": "python",
   "nbconvert_exporter": "python",
   "pygments_lexer": "ipython3",
   "version": "3.7.3"
  }
 },
 "nbformat": 4,
 "nbformat_minor": 2
}
