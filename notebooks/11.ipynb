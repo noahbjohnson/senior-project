{
  "cells": [
    {
      "cell_type": "markdown",
      "metadata": {
        "pycharm": {}
      },
      "source": "# General Indicators Data Processing (WDI)\n## Data Dictionary\n| **Code**                     | **Indicator Name**                                                                                                                               |\n|--------------------------|----------------------------------------------------------------------------------------------------------------------------------------------|\n| SP.DYN.LE00.IN           | Life expectancy at birth, total (years)                                                                                                      |\n| EG.ELC.ACCS.ZS           | Access to electricity (% of population)                                                                                                      |\n| SH.STA.HYGN.ZS           | People with basic handwashing facilities including soap and water (% of population)                                                          |\n| SH.H2O.SMDW.ZS           | People using safely managed drinking water services (% of population)                                                                        |\n| SH.H2O.BASW.ZS           | People using at least basic drinking water services (% of population)                                                                        |\n| EN.ATM.CO2E.PC           | CO2 emissions (metric tons per capita)                                                                                                       |\n| EN.CO2.TRAN.ZS           | CO2 emissions from transport (% of total fuel combustion)                                                                                    |\n| ER.LND.PTLD.ZS           | Terrestrial protected areas (% of total land area)                                                                                           |\n| DT.DOD.PVLX.GN.ZS        | Present value of external debt (% of GNI)                                                                                                    |\n| FB.ATM.TOTL.P5           | Automated teller machines (ATMs) (per 100,000 adults)                                                                                        |\n| FB.CBK.BRCH.P5           | Commercial bank branches (per 100,000 adults)                                                                                                |\n| FB.CBK.DPTR.P3           | Depositors with commercial banks (per 1,000 adults)                                                                                          |\n| FB.CBK.BRWR.P3           | Borrowers from commercial banks (per 1,000 adults)                                                                                           |\n| SG.VAW.1549.ZS           | Proportion of women subjected to physical and/or sexual violence in the last 12 months (% of women age 15-49)                                |\n| SG.DMK.ALLD.FN.ZS        | Women participating in the three decisions (own health care, major household purchases, and visiting family) (% of women age 15-49)          |\n| SG.DMK.SRCR.FN.ZS        | Women making their own informed decisions regarding sexual relations, contraceptive use and reproductive health care  (% of women age 15-49) |\n| SH.STA.SUIC.P5           | Suicide mortality rate (per 100,000 population)                                                                                              |\n| SH.STA.WASH.P5           | Mortality rate attributed to unsafe water, unsafe sanitation and lack of hygiene (per 100,000 population)                                    |\n| SP.DYN.IMRT.IN           | Mortality rate, infant (per 1,000 live births)                                                                                               |\n| SH.STA.BRTW.ZS           | Low-birthweight babies (% of births)                                                                                                         |\n| SH.ANM.CHLD.ZS           | Prevalence of anemia among children (% of children under 5)                                                                                  |\n| SH.STA.ANVC.ZS           | Pregnant women receiving prenatal care (%)                                                                                                   |\n| SH.STA.FGMS.ZS           | Female genital mutilation prevalence (%)                                                                                                     |\n| SH.PRV.SMOK              | Smoking prevalence, total (ages 15+)                                                                                                         |\n| SH.ALC.PCAP.LI           | Total alcohol consumption per capita (liters of pure alcohol, projected estimates, 15+ years of age)                                         |\n| IT.NET.BBND.P2           | Fixed broadband subscriptions (per 100 people)                                                                                               |\n| IT.NET.USER.ZS           | Individuals using the Internet (% of population)                                                                                             |\n| IT.CEL.SETS.P2           | Mobile cellular subscriptions (per 100 people)                                                                                               |\n| SM.POP.REFG.OR           | Refugee population by country or territory of origin                                                                                         |\n| per_si_allsi.cov_pop_tot | Coverage of social insurance programs (% of population)                                                                                      |\n| VC.IHR.PSRC.P5           | Intentional homicides (per 100,000 people)                                                                                                   |\n| MS.MIL.TOTL.TF.ZS        | Armed forces personnel (% of total labor force)                                                                                              |\n| HD.HCI.OVRL              | Human capital index (HCI) (scale 0-1)                                                                                                        |"
    },
    {
      "cell_type": "code",
      "execution_count": 1,
      "metadata": {
        "pycharm": {}
      },
      "outputs": [],
      "source": [
        "import re\n",
        "\n",
        "import numpy as np\n",
        "import pandas as pd\n",
        "import pycountry\n",
        "\n",
        "%matplotlib inline\n",
        "\n",
        "pd.set_option(\u0027display.float_format\u0027, lambda x: \u0027%.3f\u0027 % x)"
      ]
    },
    {
      "cell_type": "markdown",
      "metadata": {
        "pycharm": {}
      },
      "source": [
        "## Load The File"
      ]
    },
    {
      "cell_type": "code",
      "execution_count": 5,
      "metadata": {
        "pycharm": {
          "is_executing": false
        }
      },
      "outputs": [
        {
          "traceback": [
            "\u001b[0;31m---------------------------------------------------------------------------\u001b[0m",
            "\u001b[0;31mNameError\u001b[0m                                 Traceback (most recent call last)",
            "\u001b[0;32m\u003cipython-input-5-136fa08dfc97\u003e\u001b[0m in \u001b[0;36m\u003cmodule\u003e\u001b[0;34m\u001b[0m\n\u001b[0;32m----\u003e 1\u001b[0;31m \u001b[0mdf\u001b[0m \u001b[0;34m\u003d\u001b[0m \u001b[0mpd\u001b[0m\u001b[0;34m.\u001b[0m\u001b[0mread_excel\u001b[0m\u001b[0;34m(\u001b[0m\u001b[0;34m\"../data/external/General Indicators/WDI/Data_Extract_From_World_Development_Indicators.xlsx\"\u001b[0m\u001b[0;34m)\u001b[0m\u001b[0;34m\u001b[0m\u001b[0;34m\u001b[0m\u001b[0m\n\u001b[0m",
            "\u001b[0;31mNameError\u001b[0m: name \u0027pd\u0027 is not defined"
          ],
          "ename": "NameError",
          "evalue": "name \u0027pd\u0027 is not defined",
          "output_type": "error"
        }
      ],
      "source": "df \u003d pd.read_excel(\"../data/external/General Indicators/WDI/Data_Extract_From_World_Development_Indicators.xlsx\")"
    },
    {
      "cell_type": "code",
      "execution_count": 2,
      "metadata": {
        "pycharm": {
          "is_executing": false
        }
      },
      "outputs": [
        {
          "traceback": [
            "\u001b[0;31m---------------------------------------------------------------------------\u001b[0m",
            "\u001b[0;31mNameError\u001b[0m                                 Traceback (most recent call last)",
            "\u001b[0;32m\u003cipython-input-2-b2aa74db348b\u003e\u001b[0m in \u001b[0;36m\u003cmodule\u003e\u001b[0;34m\u001b[0m\n\u001b[0;32m----\u003e 1\u001b[0;31m \u001b[0mdf\u001b[0m\u001b[0;34m.\u001b[0m\u001b[0msample\u001b[0m\u001b[0;34m(\u001b[0m\u001b[0;36m5\u001b[0m\u001b[0;34m)\u001b[0m\u001b[0;34m\u001b[0m\u001b[0;34m\u001b[0m\u001b[0m\n\u001b[0m",
            "\u001b[0;31mNameError\u001b[0m: name \u0027df\u0027 is not defined"
          ],
          "ename": "NameError",
          "evalue": "name \u0027df\u0027 is not defined",
          "output_type": "error"
        }
      ],
      "source": [
        "df.sample(5)"
      ]
    },
    {
      "cell_type": "markdown",
      "metadata": {
        "pycharm": {}
      },
      "source": [
        "## Standardize Country Codes"
      ]
    },
    {
      "cell_type": "code",
      "execution_count": 6,
      "metadata": {
        "pycharm": {
          "is_executing": false
        }
      },
      "outputs": [
        {
          "traceback": [
            "\u001b[0;31m---------------------------------------------------------------------------\u001b[0m",
            "\u001b[0;31mNameError\u001b[0m                                 Traceback (most recent call last)",
            "\u001b[0;32m\u003cipython-input-6-73da7b816ee9\u003e\u001b[0m in \u001b[0;36m\u003cmodule\u003e\u001b[0;34m\u001b[0m\n\u001b[1;32m      2\u001b[0m \"\"\"\n\u001b[1;32m      3\u001b[0m \u001b[0mcountry_locations\u001b[0m \u001b[0;34m\u003d\u001b[0m \u001b[0;34m[\u001b[0m\u001b[0;34m]\u001b[0m\u001b[0;34m\u001b[0m\u001b[0;34m\u001b[0m\u001b[0m\n\u001b[0;32m----\u003e 4\u001b[0;31m \u001b[0;32mfor\u001b[0m \u001b[0mcountry\u001b[0m \u001b[0;32min\u001b[0m \u001b[0mdf\u001b[0m\u001b[0;34m[\u001b[0m\u001b[0;34m\u0027Country Code\u0027\u001b[0m\u001b[0;34m]\u001b[0m\u001b[0;34m:\u001b[0m\u001b[0;34m\u001b[0m\u001b[0;34m\u001b[0m\u001b[0m\n\u001b[0m\u001b[1;32m      5\u001b[0m     \u001b[0;32mtry\u001b[0m\u001b[0;34m:\u001b[0m\u001b[0;34m\u001b[0m\u001b[0;34m\u001b[0m\u001b[0m\n\u001b[1;32m      6\u001b[0m         \u001b[0mpycountry\u001b[0m\u001b[0;34m.\u001b[0m\u001b[0mcountries\u001b[0m\u001b[0;34m.\u001b[0m\u001b[0mlookup\u001b[0m\u001b[0;34m(\u001b[0m\u001b[0mcountry\u001b[0m\u001b[0;34m)\u001b[0m\u001b[0;34m\u001b[0m\u001b[0;34m\u001b[0m\u001b[0m\n",
            "\u001b[0;31mNameError\u001b[0m: name \u0027df\u0027 is not defined"
          ],
          "ename": "NameError",
          "evalue": "name \u0027df\u0027 is not defined",
          "output_type": "error"
        }
      ],
      "source": [
        "\"\"\" Only Select rows with valid country codes\n",
        "\"\"\"\n",
        "country_locations \u003d []\n",
        "for country in df[\u0027Country Code\u0027]:\n",
        "    try:\n",
        "        pycountry.countries.lookup(country)\n",
        "        country_locations.append(True)\n",
        "    except LookupError:\n",
        "        country_locations.append(False)\n",
        "df \u003d df[country_locations]"
      ]
    },
    {
      "cell_type": "markdown",
      "metadata": {
        "pycharm": {}
      },
      "source": [
        "## Standardize Indexes"
      ]
    },
    {
      "cell_type": "code",
      "execution_count": 5,
      "metadata": {
        "pycharm": {}
      },
      "outputs": [],
      "source": [
        "df.rename(\n",
        "    {\n",
        "        \"Time\": \"Year\"\n",
        "    },\n",
        "    axis\u003d\u0027columns\u0027,\n",
        "    inplace\u003dTrue)"
      ]
    },
    {
      "cell_type": "code",
      "execution_count": 6,
      "metadata": {
        "pycharm": {}
      },
      "outputs": [],
      "source": [
        "df.set_index([\"Country Code\", \"Year\"], inplace\u003dTrue)"
      ]
    },
    {
      "cell_type": "markdown",
      "metadata": {
        "pycharm": {}
      },
      "source": [
        "## Clean Data"
      ]
    },
    {
      "cell_type": "markdown",
      "metadata": {
        "pycharm": {}
      },
      "source": [
        "### Header"
      ]
    },
    {
      "cell_type": "code",
      "execution_count": 7,
      "metadata": {
        "pycharm": {}
      },
      "outputs": [],
      "source": [
        "df.drop([\"Time Code\", \"Country Name\"],\n",
        "        axis\u003d\u0027columns\u0027,\n",
        "        inplace\u003dTrue)"
      ]
    },
    {
      "cell_type": "code",
      "execution_count": 8,
      "metadata": {
        "pycharm": {}
      },
      "outputs": [],
      "source": [
        "c \u003d [ re.search(r\"\\[(\\w+\\.)+\\w+\\]\",d)[0].replace(\"[\",\"\").replace(\"]\",\"\") for d in df.columns ]"
      ]
    },
    {
      "cell_type": "code",
      "execution_count": 9,
      "metadata": {
        "pycharm": {}
      },
      "outputs": [],
      "source": [
        "c_names \u003d {}\n",
        "for x in range(len(c)):\n",
        "    c_names[df.columns[x]] \u003d c[x]"
      ]
    },
    {
      "cell_type": "code",
      "execution_count": 10,
      "metadata": {
        "pycharm": {}
      },
      "outputs": [],
      "source": [
        "df.rename(c_names,axis\u003d\u0027columns\u0027,inplace\u003dTrue)"
      ]
    },
    {
      "cell_type": "markdown",
      "metadata": {
        "pycharm": {}
      },
      "source": [
        "### Data Types"
      ]
    },
    {
      "cell_type": "code",
      "execution_count": 11,
      "metadata": {
        "pycharm": {}
      },
      "outputs": [],
      "source": [
        "\"\"\" Replace \u0027..\u0027 with np.nan for better parsing\n",
        "\"\"\"\n",
        "df \u003d df.replace(\u0027..\u0027, np.NaN)"
      ]
    },
    {
      "cell_type": "code",
      "execution_count": 12,
      "metadata": {
        "pycharm": {}
      },
      "outputs": [],
      "source": [
        "df \u003d df.astype(float)"
      ]
    },
    {
      "cell_type": "code",
      "execution_count": 13,
      "metadata": {
        "pycharm": {}
      },
      "outputs": [
        {
          "data": {
            "text/html": [
              "\u003cdiv\u003e\n",
              "\u003cstyle scoped\u003e\n",
              "    .dataframe tbody tr th:only-of-type {\n",
              "        vertical-align: middle;\n",
              "    }\n",
              "\n",
              "    .dataframe tbody tr th {\n",
              "        vertical-align: top;\n",
              "    }\n",
              "\n",
              "    .dataframe thead th {\n",
              "        text-align: right;\n",
              "    }\n",
              "\u003c/style\u003e\n",
              "\u003ctable border\u003d\"1\" class\u003d\"dataframe\"\u003e\n",
              "  \u003cthead\u003e\n",
              "    \u003ctr style\u003d\"text-align: right;\"\u003e\n",
              "      \u003cth\u003e\u003c/th\u003e\n",
              "      \u003cth\u003e\u003c/th\u003e\n",
              "      \u003cth\u003eSL.TLF.ACTI.1524.FE.ZS\u003c/th\u003e\n",
              "      \u003cth\u003eSL.TLF.CACT.ZS\u003c/th\u003e\n",
              "      \u003cth\u003eSL.TLF.CACT.FM.ZS\u003c/th\u003e\n",
              "      \u003cth\u003eSL.TLF.0714.SW.TM\u003c/th\u003e\n",
              "      \u003cth\u003eSL.TLF.0714.WK.TM\u003c/th\u003e\n",
              "      \u003cth\u003eSL.EMP.MPYR.ZS\u003c/th\u003e\n",
              "      \u003cth\u003eSL.AGR.EMPL.ZS\u003c/th\u003e\n",
              "      \u003cth\u003eSL.IND.EMPL.ZS\u003c/th\u003e\n",
              "      \u003cth\u003eSL.SRV.EMPL.ZS\u003c/th\u003e\n",
              "      \u003cth\u003eSL.ISV.IFRM.ZS\u003c/th\u003e\n",
              "      \u003cth\u003eSL.UEM.TOTL.ZS\u003c/th\u003e\n",
              "      \u003cth\u003eSL.EMP.SELF.ZS\u003c/th\u003e\n",
              "      \u003cth\u003eper_lm_alllm.cov_pop_tot\u003c/th\u003e\n",
              "    \u003c/tr\u003e\n",
              "    \u003ctr\u003e\n",
              "      \u003cth\u003eCountry Code\u003c/th\u003e\n",
              "      \u003cth\u003eYear\u003c/th\u003e\n",
              "      \u003cth\u003e\u003c/th\u003e\n",
              "      \u003cth\u003e\u003c/th\u003e\n",
              "      \u003cth\u003e\u003c/th\u003e\n",
              "      \u003cth\u003e\u003c/th\u003e\n",
              "      \u003cth\u003e\u003c/th\u003e\n",
              "      \u003cth\u003e\u003c/th\u003e\n",
              "      \u003cth\u003e\u003c/th\u003e\n",
              "      \u003cth\u003e\u003c/th\u003e\n",
              "      \u003cth\u003e\u003c/th\u003e\n",
              "      \u003cth\u003e\u003c/th\u003e\n",
              "      \u003cth\u003e\u003c/th\u003e\n",
              "      \u003cth\u003e\u003c/th\u003e\n",
              "      \u003cth\u003e\u003c/th\u003e\n",
              "    \u003c/tr\u003e\n",
              "  \u003c/thead\u003e\n",
              "  \u003ctbody\u003e\n",
              "    \u003ctr\u003e\n",
              "      \u003cth\u003eSVK\u003c/th\u003e\n",
              "      \u003cth\u003e2000\u003c/th\u003e\n",
              "      \u003ctd\u003e41.751\u003c/td\u003e\n",
              "      \u003ctd\u003e59.750\u003c/td\u003e\n",
              "      \u003ctd\u003e77.098\u003c/td\u003e\n",
              "      \u003ctd\u003enan\u003c/td\u003e\n",
              "      \u003ctd\u003enan\u003c/td\u003e\n",
              "      \u003ctd\u003e2.528\u003c/td\u003e\n",
              "      \u003ctd\u003e6.935\u003c/td\u003e\n",
              "      \u003ctd\u003e37.252\u003c/td\u003e\n",
              "      \u003ctd\u003e55.813\u003c/td\u003e\n",
              "      \u003ctd\u003enan\u003c/td\u003e\n",
              "      \u003ctd\u003e19.062\u003c/td\u003e\n",
              "      \u003ctd\u003e7.905\u003c/td\u003e\n",
              "      \u003ctd\u003enan\u003c/td\u003e\n",
              "    \u003c/tr\u003e\n",
              "    \u003ctr\u003e\n",
              "      \u003cth\u003eBOL\u003c/th\u003e\n",
              "      \u003cth\u003e2001\u003c/th\u003e\n",
              "      \u003ctd\u003e44.784\u003c/td\u003e\n",
              "      \u003ctd\u003e70.810\u003c/td\u003e\n",
              "      \u003ctd\u003e73.179\u003c/td\u003e\n",
              "      \u003ctd\u003enan\u003c/td\u003e\n",
              "      \u003ctd\u003enan\u003c/td\u003e\n",
              "      \u003ctd\u003e2.183\u003c/td\u003e\n",
              "      \u003ctd\u003e44.204\u003c/td\u003e\n",
              "      \u003ctd\u003e15.692\u003c/td\u003e\n",
              "      \u003ctd\u003e40.104\u003c/td\u003e\n",
              "      \u003ctd\u003enan\u003c/td\u003e\n",
              "      \u003ctd\u003e3.418\u003c/td\u003e\n",
              "      \u003ctd\u003e66.392\u003c/td\u003e\n",
              "      \u003ctd\u003enan\u003c/td\u003e\n",
              "    \u003c/tr\u003e\n",
              "    \u003ctr\u003e\n",
              "      \u003cth\u003eJPN\u003c/th\u003e\n",
              "      \u003cth\u003e2018\u003c/th\u003e\n",
              "      \u003ctd\u003e45.106\u003c/td\u003e\n",
              "      \u003ctd\u003e60.732\u003c/td\u003e\n",
              "      \u003ctd\u003e72.709\u003c/td\u003e\n",
              "      \u003ctd\u003enan\u003c/td\u003e\n",
              "      \u003ctd\u003enan\u003c/td\u003e\n",
              "      \u003ctd\u003e1.975\u003c/td\u003e\n",
              "      \u003ctd\u003e3.409\u003c/td\u003e\n",
              "      \u003ctd\u003e24.501\u003c/td\u003e\n",
              "      \u003ctd\u003e72.089\u003c/td\u003e\n",
              "      \u003ctd\u003enan\u003c/td\u003e\n",
              "      \u003ctd\u003e2.445\u003c/td\u003e\n",
              "      \u003ctd\u003e10.368\u003c/td\u003e\n",
              "      \u003ctd\u003enan\u003c/td\u003e\n",
              "    \u003c/tr\u003e\n",
              "    \u003ctr\u003e\n",
              "      \u003cth\u003eCUW\u003c/th\u003e\n",
              "      \u003cth\u003e2011\u003c/th\u003e\n",
              "      \u003ctd\u003enan\u003c/td\u003e\n",
              "      \u003ctd\u003enan\u003c/td\u003e\n",
              "      \u003ctd\u003enan\u003c/td\u003e\n",
              "      \u003ctd\u003enan\u003c/td\u003e\n",
              "      \u003ctd\u003enan\u003c/td\u003e\n",
              "      \u003ctd\u003enan\u003c/td\u003e\n",
              "      \u003ctd\u003enan\u003c/td\u003e\n",
              "      \u003ctd\u003enan\u003c/td\u003e\n",
              "      \u003ctd\u003enan\u003c/td\u003e\n",
              "      \u003ctd\u003enan\u003c/td\u003e\n",
              "      \u003ctd\u003enan\u003c/td\u003e\n",
              "      \u003ctd\u003enan\u003c/td\u003e\n",
              "      \u003ctd\u003enan\u003c/td\u003e\n",
              "    \u003c/tr\u003e\n",
              "    \u003ctr\u003e\n",
              "      \u003cth\u003eSWZ\u003c/th\u003e\n",
              "      \u003cth\u003e2007\u003c/th\u003e\n",
              "      \u003ctd\u003e28.465\u003c/td\u003e\n",
              "      \u003ctd\u003e49.305\u003c/td\u003e\n",
              "      \u003ctd\u003e55.907\u003c/td\u003e\n",
              "      \u003ctd\u003enan\u003c/td\u003e\n",
              "      \u003ctd\u003enan\u003c/td\u003e\n",
              "      \u003ctd\u003e1.841\u003c/td\u003e\n",
              "      \u003ctd\u003e14.376\u003c/td\u003e\n",
              "      \u003ctd\u003e25.587\u003c/td\u003e\n",
              "      \u003ctd\u003e60.037\u003c/td\u003e\n",
              "      \u003ctd\u003enan\u003c/td\u003e\n",
              "      \u003ctd\u003e28.240\u003c/td\u003e\n",
              "      \u003ctd\u003e28.431\u003c/td\u003e\n",
              "      \u003ctd\u003enan\u003c/td\u003e\n",
              "    \u003c/tr\u003e\n",
              "  \u003c/tbody\u003e\n",
              "\u003c/table\u003e\n",
              "\u003c/div\u003e"
            ],
            "text/plain": [
              "                   SL.TLF.ACTI.1524.FE.ZS  SL.TLF.CACT.ZS  SL.TLF.CACT.FM.ZS  \\\n",
              "Country Code Year                                                              \n",
              "SVK          2000                  41.751          59.750             77.098   \n",
              "BOL          2001                  44.784          70.810             73.179   \n",
              "JPN          2018                  45.106          60.732             72.709   \n",
              "CUW          2011                     nan             nan                nan   \n",
              "SWZ          2007                  28.465          49.305             55.907   \n",
              "\n",
              "                   SL.TLF.0714.SW.TM  SL.TLF.0714.WK.TM  SL.EMP.MPYR.ZS  \\\n",
              "Country Code Year                                                         \n",
              "SVK          2000                nan                nan           2.528   \n",
              "BOL          2001                nan                nan           2.183   \n",
              "JPN          2018                nan                nan           1.975   \n",
              "CUW          2011                nan                nan             nan   \n",
              "SWZ          2007                nan                nan           1.841   \n",
              "\n",
              "                   SL.AGR.EMPL.ZS  SL.IND.EMPL.ZS  SL.SRV.EMPL.ZS  \\\n",
              "Country Code Year                                                   \n",
              "SVK          2000           6.935          37.252          55.813   \n",
              "BOL          2001          44.204          15.692          40.104   \n",
              "JPN          2018           3.409          24.501          72.089   \n",
              "CUW          2011             nan             nan             nan   \n",
              "SWZ          2007          14.376          25.587          60.037   \n",
              "\n",
              "                   SL.ISV.IFRM.ZS  SL.UEM.TOTL.ZS  SL.EMP.SELF.ZS  \\\n",
              "Country Code Year                                                   \n",
              "SVK          2000             nan          19.062           7.905   \n",
              "BOL          2001             nan           3.418          66.392   \n",
              "JPN          2018             nan           2.445          10.368   \n",
              "CUW          2011             nan             nan             nan   \n",
              "SWZ          2007             nan          28.240          28.431   \n",
              "\n",
              "                   per_lm_alllm.cov_pop_tot  \n",
              "Country Code Year                            \n",
              "SVK          2000                       nan  \n",
              "BOL          2001                       nan  \n",
              "JPN          2018                       nan  \n",
              "CUW          2011                       nan  \n",
              "SWZ          2007                       nan  "
            ]
          },
          "execution_count": 13,
          "metadata": {},
          "output_type": "execute_result"
        }
      ],
      "source": [
        "df.sample(5)"
      ]
    },
    {
      "cell_type": "markdown",
      "metadata": {
        "pycharm": {}
      },
      "source": [
        "## Save Data"
      ]
    },
    {
      "cell_type": "code",
      "execution_count": 14,
      "metadata": {
        "pycharm": {}
      },
      "outputs": [],
      "source": "df.to_pickle(\"../data/processed/General_WDI.pickle\")"
    }
  ],
  "metadata": {
    "hide_input": false,
    "kernelspec": {
      "display_name": "Python 3",
      "language": "python",
      "name": "python3"
    },
    "language_info": {
      "codemirror_mode": {
        "name": "ipython",
        "version": 3
      },
      "file_extension": ".py",
      "mimetype": "text/x-python",
      "name": "python",
      "nbconvert_exporter": "python",
      "pygments_lexer": "ipython3",
      "version": "3.7.1"
    }
  },
  "nbformat": 4,
  "nbformat_minor": 2
}