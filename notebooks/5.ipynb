{
 "cells": [
  {
   "cell_type": "markdown",
   "metadata": {},
   "source": [
    "# Economic Data Processing (WDI)\n",
    "## Data Dictionary\n",
    "| Code | Indicator Name |\n",
    "|----------------|---------------------------------------------------------------------------------|\n",
    "| DT.DOD.DIMF.CD | Use of IMF credit (DOD, current US\\$) |\n",
    "| DT.DOD.PVLX.CD | Present value of external debt (current US\\$) |\n",
    "| NY.GNP.PCAP.CD | GNI per capita, Atlas method (current US\\$) |\n",
    "| NY.GNP.ATLS.CD | GNI, Atlas method (current US\\$) |\n",
    "| DT.DIS.IDAG.CD | IDA grants (current US\\$) |\n",
    "| DT.ODA.ODAT.CD | Net official development assistance received (current US\\$) |\n",
    "| SI.POV.NAHC | Poverty headcount ratio at national poverty lines (% of population) |\n",
    "| SI.POV.URHC | Urban poverty headcount ratio at national poverty lines (% of urban population) |\n",
    "| SI.POV.RUHC | Rural poverty headcount ratio at national poverty lines (% of rural population) |\n",
    "| SI.POV.NAGP | Poverty gap at national poverty lines (%) |\n",
    "| SI.POV.GINI | GINI index (World Bank estimate) |"
   ]
  },
  {
   "cell_type": "code",
   "execution_count": 1,
   "metadata": {},
   "outputs": [],
   "source": [
    "import re\n",
    "\n",
    "import numpy as np\n",
    "import pandas as pd\n",
    "import pycountry\n",
    "\n",
    "%matplotlib inline\n",
    "\n",
    "pd.set_option('display.float_format', lambda x: '%.3f' % x)"
   ]
  },
  {
   "cell_type": "markdown",
   "metadata": {},
   "source": [
    "## Load The File"
   ]
  },
  {
   "cell_type": "code",
   "execution_count": 2,
   "metadata": {},
   "outputs": [],
   "source": [
    "df = pd.read_excel(\"../data/external/Economy/WDI/Data_Extract_From_World_Development_Indicators.xlsx\")"
   ]
  },
  {
   "cell_type": "code",
   "execution_count": 3,
   "metadata": {},
   "outputs": [
    {
     "data": {
      "text/html": [
       "<div>\n",
       "<style scoped>\n",
       "    .dataframe tbody tr th:only-of-type {\n",
       "        vertical-align: middle;\n",
       "    }\n",
       "\n",
       "    .dataframe tbody tr th {\n",
       "        vertical-align: top;\n",
       "    }\n",
       "\n",
       "    .dataframe thead th {\n",
       "        text-align: right;\n",
       "    }\n",
       "</style>\n",
       "<table border=\"1\" class=\"dataframe\">\n",
       "  <thead>\n",
       "    <tr style=\"text-align: right;\">\n",
       "      <th></th>\n",
       "      <th>Time</th>\n",
       "      <th>Time Code</th>\n",
       "      <th>Country Name</th>\n",
       "      <th>Country Code</th>\n",
       "      <th>Use of IMF credit (DOD, current US$) [DT.DOD.DIMF.CD]</th>\n",
       "      <th>Present value of external debt (current US$) [DT.DOD.PVLX.CD]</th>\n",
       "      <th>GNI per capita, Atlas method (current US$) [NY.GNP.PCAP.CD]</th>\n",
       "      <th>GNI, Atlas method (current US$) [NY.GNP.ATLS.CD]</th>\n",
       "      <th>IDA grants (current US$) [DT.DIS.IDAG.CD]</th>\n",
       "      <th>Net official development assistance received (current US$) [DT.ODA.ODAT.CD]</th>\n",
       "      <th>Poverty headcount ratio at national poverty lines (% of population) [SI.POV.NAHC]</th>\n",
       "      <th>Urban poverty headcount ratio at national poverty lines (% of urban population) [SI.POV.URHC]</th>\n",
       "      <th>Rural poverty headcount ratio at national poverty lines (% of rural population) [SI.POV.RUHC]</th>\n",
       "      <th>Poverty gap at national poverty lines (%) [SI.POV.NAGP]</th>\n",
       "      <th>GINI index (World Bank estimate) [SI.POV.GINI]</th>\n",
       "    </tr>\n",
       "  </thead>\n",
       "  <tbody>\n",
       "    <tr>\n",
       "      <th>272</th>\n",
       "      <td>1996</td>\n",
       "      <td>YR1996</td>\n",
       "      <td>Armenia</td>\n",
       "      <td>ARM</td>\n",
       "      <td>116474762.400</td>\n",
       "      <td>..</td>\n",
       "      <td>520</td>\n",
       "      <td>1641685571.546</td>\n",
       "      <td>0</td>\n",
       "      <td>292280000</td>\n",
       "      <td>..</td>\n",
       "      <td>..</td>\n",
       "      <td>..</td>\n",
       "      <td>..</td>\n",
       "      <td>..</td>\n",
       "    </tr>\n",
       "    <tr>\n",
       "      <th>4773</th>\n",
       "      <td>2013</td>\n",
       "      <td>YR2013</td>\n",
       "      <td>Bermuda</td>\n",
       "      <td>BMU</td>\n",
       "      <td>..</td>\n",
       "      <td>..</td>\n",
       "      <td>106140</td>\n",
       "      <td>6899462134.798</td>\n",
       "      <td>..</td>\n",
       "      <td>..</td>\n",
       "      <td>..</td>\n",
       "      <td>..</td>\n",
       "      <td>..</td>\n",
       "      <td>..</td>\n",
       "      <td>..</td>\n",
       "    </tr>\n",
       "    <tr>\n",
       "      <th>4202</th>\n",
       "      <td>2010</td>\n",
       "      <td>YR2010</td>\n",
       "      <td>Low &amp; middle income</td>\n",
       "      <td>LMY</td>\n",
       "      <td>148920234365.600</td>\n",
       "      <td>..</td>\n",
       "      <td>3284.892</td>\n",
       "      <td>18835842751599.348</td>\n",
       "      <td>2201576761.420</td>\n",
       "      <td>130272200000</td>\n",
       "      <td>..</td>\n",
       "      <td>..</td>\n",
       "      <td>..</td>\n",
       "      <td>..</td>\n",
       "      <td>..</td>\n",
       "    </tr>\n",
       "    <tr>\n",
       "      <th>4615</th>\n",
       "      <td>2012</td>\n",
       "      <td>YR2012</td>\n",
       "      <td>Mexico</td>\n",
       "      <td>MEX</td>\n",
       "      <td>4382059019</td>\n",
       "      <td>..</td>\n",
       "      <td>9750</td>\n",
       "      <td>1178346291391.847</td>\n",
       "      <td>0</td>\n",
       "      <td>407930000</td>\n",
       "      <td>45.500</td>\n",
       "      <td>48.300</td>\n",
       "      <td>62.800</td>\n",
       "      <td>0.400</td>\n",
       "      <td>45.400</td>\n",
       "    </tr>\n",
       "    <tr>\n",
       "      <th>3954</th>\n",
       "      <td>2009</td>\n",
       "      <td>YR2009</td>\n",
       "      <td>South Asia (IDA &amp; IBRD)</td>\n",
       "      <td>TSA</td>\n",
       "      <td>..</td>\n",
       "      <td>..</td>\n",
       "      <td>1058.830</td>\n",
       "      <td>1702242274033.618</td>\n",
       "      <td>..</td>\n",
       "      <td>14434160000</td>\n",
       "      <td>..</td>\n",
       "      <td>..</td>\n",
       "      <td>..</td>\n",
       "      <td>..</td>\n",
       "      <td>..</td>\n",
       "    </tr>\n",
       "  </tbody>\n",
       "</table>\n",
       "</div>"
      ],
      "text/plain": [
       "      Time Time Code             Country Name Country Code  \\\n",
       "272   1996    YR1996                  Armenia          ARM   \n",
       "4773  2013    YR2013                  Bermuda          BMU   \n",
       "4202  2010    YR2010      Low & middle income          LMY   \n",
       "4615  2012    YR2012                   Mexico          MEX   \n",
       "3954  2009    YR2009  South Asia (IDA & IBRD)          TSA   \n",
       "\n",
       "     Use of IMF credit (DOD, current US$) [DT.DOD.DIMF.CD]  \\\n",
       "272                                       116474762.400      \n",
       "4773                                                 ..      \n",
       "4202                                   148920234365.600      \n",
       "4615                                         4382059019      \n",
       "3954                                                 ..      \n",
       "\n",
       "     Present value of external debt (current US$) [DT.DOD.PVLX.CD]  \\\n",
       "272                                                  ..              \n",
       "4773                                                 ..              \n",
       "4202                                                 ..              \n",
       "4615                                                 ..              \n",
       "3954                                                 ..              \n",
       "\n",
       "     GNI per capita, Atlas method (current US$) [NY.GNP.PCAP.CD]  \\\n",
       "272                                                 520            \n",
       "4773                                             106140            \n",
       "4202                                           3284.892            \n",
       "4615                                               9750            \n",
       "3954                                           1058.830            \n",
       "\n",
       "     GNI, Atlas method (current US$) [NY.GNP.ATLS.CD]  \\\n",
       "272                                    1641685571.546   \n",
       "4773                                   6899462134.798   \n",
       "4202                               18835842751599.348   \n",
       "4615                                1178346291391.847   \n",
       "3954                                1702242274033.618   \n",
       "\n",
       "     IDA grants (current US$) [DT.DIS.IDAG.CD]  \\\n",
       "272                                          0   \n",
       "4773                                        ..   \n",
       "4202                            2201576761.420   \n",
       "4615                                         0   \n",
       "3954                                        ..   \n",
       "\n",
       "     Net official development assistance received (current US$) [DT.ODA.ODAT.CD]  \\\n",
       "272                                           292280000                            \n",
       "4773                                                 ..                            \n",
       "4202                                       130272200000                            \n",
       "4615                                          407930000                            \n",
       "3954                                        14434160000                            \n",
       "\n",
       "     Poverty headcount ratio at national poverty lines (% of population) [SI.POV.NAHC]  \\\n",
       "272                                                  ..                                  \n",
       "4773                                                 ..                                  \n",
       "4202                                                 ..                                  \n",
       "4615                                             45.500                                  \n",
       "3954                                                 ..                                  \n",
       "\n",
       "     Urban poverty headcount ratio at national poverty lines (% of urban population) [SI.POV.URHC]  \\\n",
       "272                                                  ..                                              \n",
       "4773                                                 ..                                              \n",
       "4202                                                 ..                                              \n",
       "4615                                             48.300                                              \n",
       "3954                                                 ..                                              \n",
       "\n",
       "     Rural poverty headcount ratio at national poverty lines (% of rural population) [SI.POV.RUHC]  \\\n",
       "272                                                  ..                                              \n",
       "4773                                                 ..                                              \n",
       "4202                                                 ..                                              \n",
       "4615                                             62.800                                              \n",
       "3954                                                 ..                                              \n",
       "\n",
       "     Poverty gap at national poverty lines (%) [SI.POV.NAGP]  \\\n",
       "272                                                  ..        \n",
       "4773                                                 ..        \n",
       "4202                                                 ..        \n",
       "4615                                              0.400        \n",
       "3954                                                 ..        \n",
       "\n",
       "     GINI index (World Bank estimate) [SI.POV.GINI]  \n",
       "272                                              ..  \n",
       "4773                                             ..  \n",
       "4202                                             ..  \n",
       "4615                                         45.400  \n",
       "3954                                             ..  "
      ]
     },
     "execution_count": 3,
     "metadata": {},
     "output_type": "execute_result"
    }
   ],
   "source": [
    "df.sample(5)"
   ]
  },
  {
   "cell_type": "markdown",
   "metadata": {},
   "source": [
    "## Standardize Country Codes"
   ]
  },
  {
   "cell_type": "code",
   "execution_count": 4,
   "metadata": {},
   "outputs": [],
   "source": [
    "\"\"\" Only Select rows with valid country codes\n",
    "\"\"\"\n",
    "country_locations = []\n",
    "for country in df['Country Code']:\n",
    "    try:\n",
    "        pycountry.countries.lookup(country)\n",
    "        country_locations.append(True)\n",
    "    except LookupError:\n",
    "        country_locations.append(False)\n",
    "df = df[country_locations]"
   ]
  },
  {
   "cell_type": "markdown",
   "metadata": {},
   "source": [
    "## Standardize Indexes"
   ]
  },
  {
   "cell_type": "code",
   "execution_count": 5,
   "metadata": {},
   "outputs": [],
   "source": [
    "df.rename(\n",
    "    {\n",
    "        \"Time\": \"Year\"\n",
    "    },\n",
    "    axis='columns',\n",
    "    inplace=True)"
   ]
  },
  {
   "cell_type": "code",
   "execution_count": 6,
   "metadata": {},
   "outputs": [],
   "source": [
    "df.set_index([\"Country Code\", \"Year\"], inplace=True)"
   ]
  },
  {
   "cell_type": "markdown",
   "metadata": {},
   "source": [
    "## Clean Data"
   ]
  },
  {
   "cell_type": "markdown",
   "metadata": {},
   "source": [
    "### Header"
   ]
  },
  {
   "cell_type": "code",
   "execution_count": 7,
   "metadata": {},
   "outputs": [],
   "source": [
    "df.drop([\"Time Code\", \"Country Name\"],\n",
    "        axis='columns',\n",
    "        inplace=True)"
   ]
  },
  {
   "cell_type": "code",
   "execution_count": 14,
   "metadata": {},
   "outputs": [],
   "source": [
    "c = [ re.search(r\"\\[(\\w+\\.)+\\w+\\]\",d)[0].replace(\"[\",\"\").replace(\"]\",\"\") for d in df.columns ]"
   ]
  },
  {
   "cell_type": "code",
   "execution_count": 16,
   "metadata": {},
   "outputs": [],
   "source": [
    "c_names = {}\n",
    "for x in range(len(c)):\n",
    "    c_names[df.columns[x]] = c[x]"
   ]
  },
  {
   "cell_type": "code",
   "execution_count": 18,
   "metadata": {},
   "outputs": [],
   "source": [
    "df.rename(c_names,axis='columns',inplace=True)"
   ]
  },
  {
   "cell_type": "markdown",
   "metadata": {},
   "source": [
    "### Data Types"
   ]
  },
  {
   "cell_type": "code",
   "execution_count": 23,
   "metadata": {},
   "outputs": [],
   "source": [
    "\"\"\" Replace '..' with np.nan for better parsing\n",
    "\"\"\"\n",
    "df = df.replace('..', np.NaN)"
   ]
  },
  {
   "cell_type": "code",
   "execution_count": 26,
   "metadata": {},
   "outputs": [],
   "source": [
    "df = df.astype(float)"
   ]
  },
  {
   "cell_type": "markdown",
   "metadata": {},
   "source": [
    "## Save Data"
   ]
  },
  {
   "cell_type": "code",
   "execution_count": 29,
   "metadata": {},
   "outputs": [],
   "source": [
    "df.to_pickle(\"../data/processed/Economic_WDI.pickle\")"
   ]
  }
 ],
 "metadata": {
  "hide_input": false,
  "kernelspec": {
   "display_name": "Python 3",
   "language": "python",
   "name": "python3"
  },
  "language_info": {
   "codemirror_mode": {
    "name": "ipython",
    "version": 3
   },
   "file_extension": ".py",
   "mimetype": "text/x-python",
   "name": "python",
   "nbconvert_exporter": "python",
   "pygments_lexer": "ipython3",
   "version": "3.7.1"
  }
 },
 "nbformat": 4,
 "nbformat_minor": 2
}
