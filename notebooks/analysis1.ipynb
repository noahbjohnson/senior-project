{
 "cells": [
  {
   "cell_type": "markdown",
   "metadata": {},
   "source": [
    "# Tourism & Economic Analysis"
   ]
  },
  {
   "cell_type": "code",
   "execution_count": 1,
   "metadata": {},
   "outputs": [],
   "source": [
    "import IPython.display as disp\n",
    "import matplotlib.pyplot as plt\n",
    "import numpy as np\n",
    "import pandas as pd\n",
    "import pandas_profiling\n",
    "import pycountry\n",
    "import seaborn as sns\n",
    "from scipy.stats import boxcox, kurtosis, kurtosistest, skew, skewtest\n",
    "from sklearn import preprocessing\n",
    "from sklearn.decomposition import PCA, FactorAnalysis\n",
    "from sklearn.linear_model import LinearRegression\n",
    "from scipy.stats.stats import pearsonr\n",
    "\n",
    "%matplotlib inline\n",
    "pd.set_option('display.float_format', lambda x: '%.3f' % x)\n",
    "t_df = pd.read_pickle(\"../data/processed/Tourism.pickle\")\n",
    "e_m_df = pd.read_pickle(\"../data/processed/Economic_MADDISON.pickle\")\n",
    "e_w_df = pd.read_pickle(\"../data/processed/Economic_WDI.pickle\")"
   ]
  },
  {
   "cell_type": "markdown",
   "metadata": {},
   "source": [
    "## MADDISON Real GDP"
   ]
  },
  {
   "cell_type": "markdown",
   "metadata": {},
   "source": [
    "### Join sources into dataframe"
   ]
  },
  {
   "cell_type": "code",
   "execution_count": 2,
   "metadata": {
    "code_folding": [
     0
    ]
   },
   "outputs": [],
   "source": [
    "# Join Maddison data onto tourism data\n",
    "m_t_df = t_df.join(e_m_df)"
   ]
  },
  {
   "cell_type": "code",
   "execution_count": 3,
   "metadata": {
    "code_folding": [
     0
    ]
   },
   "outputs": [],
   "source": [
    "# Drop records without Maddison data\n",
    "m_t_df.dropna(subset=['Maddison GDPPC'],inplace=True)\n",
    "x = m_t_df.drop('Maddison GDPPC', axis='columns')\n",
    "y = m_t_df['Maddison GDPPC']"
   ]
  },
  {
   "cell_type": "markdown",
   "metadata": {},
   "source": [
    "### Descriptive Statistics"
   ]
  },
  {
   "cell_type": "code",
   "execution_count": 4,
   "metadata": {},
   "outputs": [
    {
     "data": {
      "text/html": [
       "<div>\n",
       "<style scoped>\n",
       "    .dataframe tbody tr th:only-of-type {\n",
       "        vertical-align: middle;\n",
       "    }\n",
       "\n",
       "    .dataframe tbody tr th {\n",
       "        vertical-align: top;\n",
       "    }\n",
       "\n",
       "    .dataframe thead th {\n",
       "        text-align: right;\n",
       "    }\n",
       "</style>\n",
       "<table border=\"1\" class=\"dataframe\">\n",
       "  <thead>\n",
       "    <tr style=\"text-align: right;\">\n",
       "      <th></th>\n",
       "      <th>ST.INT.ARVL</th>\n",
       "      <th>ST.INT.XPND.MP.ZS</th>\n",
       "      <th>ST.INT.XPND.CD</th>\n",
       "      <th>ST.INT.DPRT</th>\n",
       "      <th>ST.INT.RCPT.XP.ZS</th>\n",
       "      <th>ST.INT.RCPT.CD</th>\n",
       "      <th>Tourist Defecit</th>\n",
       "      <th>Tourism Net</th>\n",
       "      <th>Tourist Avg Net</th>\n",
       "      <th>Population Estimate</th>\n",
       "      <th>ST.INT.ARVL.PER.CAPITA</th>\n",
       "      <th>ST.INT.DPRT.PER.CAPITA</th>\n",
       "      <th>Maddison GDPPC</th>\n",
       "    </tr>\n",
       "  </thead>\n",
       "  <tbody>\n",
       "    <tr>\n",
       "      <th>count</th>\n",
       "      <td>3369.000</td>\n",
       "      <td>3104.000</td>\n",
       "      <td>3327.000</td>\n",
       "      <td>2001.000</td>\n",
       "      <td>3102.000</td>\n",
       "      <td>3388.000</td>\n",
       "      <td>1996.000</td>\n",
       "      <td>3308.000</td>\n",
       "      <td>3264.000</td>\n",
       "      <td>3308.000</td>\n",
       "      <td>3184.000</td>\n",
       "      <td>1901.000</td>\n",
       "      <td>3505.000</td>\n",
       "    </tr>\n",
       "    <tr>\n",
       "      <th>mean</th>\n",
       "      <td>5241600.712</td>\n",
       "      <td>6.349</td>\n",
       "      <td>5465610097.445</td>\n",
       "      <td>8412258.156</td>\n",
       "      <td>13.160</td>\n",
       "      <td>5595134479.184</td>\n",
       "      <td>-568146.979</td>\n",
       "      <td>242438851.656</td>\n",
       "      <td>1000.404</td>\n",
       "      <td>41424853.446</td>\n",
       "      <td>0.464</td>\n",
       "      <td>0.446</td>\n",
       "      <td>14701.433</td>\n",
       "    </tr>\n",
       "    <tr>\n",
       "      <th>std</th>\n",
       "      <td>11027533.235</td>\n",
       "      <td>4.216</td>\n",
       "      <td>15797819021.536</td>\n",
       "      <td>16163083.501</td>\n",
       "      <td>13.744</td>\n",
       "      <td>15570291398.402</td>\n",
       "      <td>13280531.602</td>\n",
       "      <td>10200598410.732</td>\n",
       "      <td>851.342</td>\n",
       "      <td>146223039.400</td>\n",
       "      <td>0.796</td>\n",
       "      <td>0.515</td>\n",
       "      <td>17328.473</td>\n",
       "    </tr>\n",
       "    <tr>\n",
       "      <th>min</th>\n",
       "      <td>700.000</td>\n",
       "      <td>0.183</td>\n",
       "      <td>310000.000</td>\n",
       "      <td>2700.000</td>\n",
       "      <td>0.001</td>\n",
       "      <td>100000.000</td>\n",
       "      <td>-75860000.000</td>\n",
       "      <td>-205680000000.000</td>\n",
       "      <td>0.282</td>\n",
       "      <td>69670.000</td>\n",
       "      <td>0.000</td>\n",
       "      <td>0.000</td>\n",
       "      <td>432.000</td>\n",
       "    </tr>\n",
       "    <tr>\n",
       "      <th>25%</th>\n",
       "      <td>319000.000</td>\n",
       "      <td>3.599</td>\n",
       "      <td>146500000.000</td>\n",
       "      <td>662000.000</td>\n",
       "      <td>4.021</td>\n",
       "      <td>178800000.000</td>\n",
       "      <td>-1301000.000</td>\n",
       "      <td>-102000000.000</td>\n",
       "      <td>471.891</td>\n",
       "      <td>3679013.750</td>\n",
       "      <td>0.031</td>\n",
       "      <td>0.054</td>\n",
       "      <td>2756.000</td>\n",
       "    </tr>\n",
       "    <tr>\n",
       "      <th>50%</th>\n",
       "      <td>1204000.000</td>\n",
       "      <td>5.434</td>\n",
       "      <td>583000000.000</td>\n",
       "      <td>2294000.000</td>\n",
       "      <td>8.175</td>\n",
       "      <td>888500000.000</td>\n",
       "      <td>43500.000</td>\n",
       "      <td>63000000.000</td>\n",
       "      <td>821.986</td>\n",
       "      <td>9387730.500</td>\n",
       "      <td>0.168</td>\n",
       "      <td>0.209</td>\n",
       "      <td>8173.000</td>\n",
       "    </tr>\n",
       "    <tr>\n",
       "      <th>75%</th>\n",
       "      <td>4856000.000</td>\n",
       "      <td>7.752</td>\n",
       "      <td>3624000000.000</td>\n",
       "      <td>8030000.000</td>\n",
       "      <td>17.225</td>\n",
       "      <td>4564250000.000</td>\n",
       "      <td>1322250.000</td>\n",
       "      <td>919500000.000</td>\n",
       "      <td>1258.107</td>\n",
       "      <td>27036160.750</td>\n",
       "      <td>0.554</td>\n",
       "      <td>0.704</td>\n",
       "      <td>20912.000</td>\n",
       "    </tr>\n",
       "    <tr>\n",
       "      <th>max</th>\n",
       "      <td>84452000.000</td>\n",
       "      <td>42.441</td>\n",
       "      <td>250112000000.000</td>\n",
       "      <td>135130000.000</td>\n",
       "      <td>81.789</td>\n",
       "      <td>249183000000.000</td>\n",
       "      <td>59910000.000</td>\n",
       "      <td>99139000000.000</td>\n",
       "      <td>6675.197</td>\n",
       "      <td>1403500365.000</td>\n",
       "      <td>9.632</td>\n",
       "      <td>3.456</td>\n",
       "      <td>156144.000</td>\n",
       "    </tr>\n",
       "  </tbody>\n",
       "</table>\n",
       "</div>"
      ],
      "text/plain": [
       "       ST.INT.ARVL  ST.INT.XPND.MP.ZS   ST.INT.XPND.CD   ST.INT.DPRT  \\\n",
       "count     3369.000           3104.000         3327.000      2001.000   \n",
       "mean   5241600.712              6.349   5465610097.445   8412258.156   \n",
       "std   11027533.235              4.216  15797819021.536  16163083.501   \n",
       "min        700.000              0.183       310000.000      2700.000   \n",
       "25%     319000.000              3.599    146500000.000    662000.000   \n",
       "50%    1204000.000              5.434    583000000.000   2294000.000   \n",
       "75%    4856000.000              7.752   3624000000.000   8030000.000   \n",
       "max   84452000.000             42.441 250112000000.000 135130000.000   \n",
       "\n",
       "       ST.INT.RCPT.XP.ZS   ST.INT.RCPT.CD  Tourist Defecit       Tourism Net  \\\n",
       "count           3102.000         3388.000         1996.000          3308.000   \n",
       "mean              13.160   5595134479.184      -568146.979     242438851.656   \n",
       "std               13.744  15570291398.402     13280531.602   10200598410.732   \n",
       "min                0.001       100000.000    -75860000.000 -205680000000.000   \n",
       "25%                4.021    178800000.000     -1301000.000    -102000000.000   \n",
       "50%                8.175    888500000.000        43500.000      63000000.000   \n",
       "75%               17.225   4564250000.000      1322250.000     919500000.000   \n",
       "max               81.789 249183000000.000     59910000.000   99139000000.000   \n",
       "\n",
       "       Tourist Avg Net  Population Estimate  ST.INT.ARVL.PER.CAPITA  \\\n",
       "count         3264.000             3308.000                3184.000   \n",
       "mean          1000.404         41424853.446                   0.464   \n",
       "std            851.342        146223039.400                   0.796   \n",
       "min              0.282            69670.000                   0.000   \n",
       "25%            471.891          3679013.750                   0.031   \n",
       "50%            821.986          9387730.500                   0.168   \n",
       "75%           1258.107         27036160.750                   0.554   \n",
       "max           6675.197       1403500365.000                   9.632   \n",
       "\n",
       "       ST.INT.DPRT.PER.CAPITA  Maddison GDPPC  \n",
       "count                1901.000        3505.000  \n",
       "mean                    0.446       14701.433  \n",
       "std                     0.515       17328.473  \n",
       "min                     0.000         432.000  \n",
       "25%                     0.054        2756.000  \n",
       "50%                     0.209        8173.000  \n",
       "75%                     0.704       20912.000  \n",
       "max                     3.456      156144.000  "
      ]
     },
     "execution_count": 4,
     "metadata": {},
     "output_type": "execute_result"
    }
   ],
   "source": [
    "m_t_df.describe()"
   ]
  },
  {
   "cell_type": "markdown",
   "metadata": {},
   "source": [
    "### Basic Correlations"
   ]
  },
  {
   "cell_type": "code",
   "execution_count": 5,
   "metadata": {},
   "outputs": [
    {
     "data": {
      "text/plain": [
       "<matplotlib.axes._subplots.AxesSubplot at 0x120976da0>"
      ]
     },
     "execution_count": 5,
     "metadata": {},
     "output_type": "execute_result"
    },
    {
     "data": {
      "image/png": "[encoded data removed]",
      "text/plain": [
       "<Figure size 432x288 with 2 Axes>"
      ]
     },
     "metadata": {
      "needs_background": "light"
     },
     "output_type": "display_data"
    }
   ],
   "source": [
    "sns.heatmap(m_t_df.corr())"
   ]
  },
  {
   "cell_type": "markdown",
   "metadata": {},
   "source": [
    "### Outlier Detection"
   ]
  },
  {
   "cell_type": "code",
   "execution_count": 6,
   "metadata": {},
   "outputs": [],
   "source": [
    "skews = m_t_df.skew(axis=1)"
   ]
  },
  {
   "cell_type": "code",
   "execution_count": 7,
   "metadata": {},
   "outputs": [
    {
     "data": {
      "text/plain": [
       "Country Code  Year\n",
       "TJK           2014   3.154\n",
       "              2015   3.143\n",
       "UGA           2002   3.066\n",
       "              2001   3.066\n",
       "              2003   3.050\n",
       "              2000   3.047\n",
       "              1999   3.034\n",
       "SAU           2002   3.000\n",
       "CUB           2015   3.000\n",
       "              2005   3.000\n",
       "              2012   3.000\n",
       "              2013   3.000\n",
       "              2008   3.000\n",
       "              2014   3.000\n",
       "              2011   3.000\n",
       "              2006   3.000\n",
       "              2007   3.000\n",
       "              2010   3.000\n",
       "              2009   3.000\n",
       "              2004   3.000\n",
       "              2003   3.000\n",
       "              2000   3.000\n",
       "              1999   3.000\n",
       "              2001   3.000\n",
       "              1998   3.000\n",
       "              2002   3.000\n",
       "              1997   3.000\n",
       "              1996   3.000\n",
       "              1995   2.999\n",
       "ZWE           2007   2.993\n",
       "              2006   2.992\n",
       "              2008   2.989\n",
       "              1999   2.981\n",
       "              2004   2.977\n",
       "              2005   2.912\n",
       "BDI           1999   2.837\n",
       "ZWE           2003   2.788\n",
       "TJK           2001   2.646\n",
       "              1999   2.646\n",
       "              2000   2.646\n",
       "TCD           2010   2.646\n",
       "              2008   2.646\n",
       "              2016   2.646\n",
       "              2009   2.645\n",
       "              2011   2.645\n",
       "              2012   2.645\n",
       "TKM           2004   2.645\n",
       "              2005   2.645\n",
       "              2006   2.645\n",
       "              2003   2.645\n",
       "dtype: float64"
      ]
     },
     "execution_count": 7,
     "metadata": {},
     "output_type": "execute_result"
    }
   ],
   "source": [
    "skews.sort_values(ascending=False).head(50)"
   ]
  },
  {
   "cell_type": "markdown",
   "metadata": {},
   "source": [
    "### Exploratory Modeling"
   ]
  },
  {
   "cell_type": "code",
   "execution_count": 8,
   "metadata": {},
   "outputs": [
    {
     "name": "stdout",
     "output_type": "stream",
     "text": [
      "ST.INT.ARVL              3369.000\n",
      "ST.INT.XPND.MP.ZS        3104.000\n",
      "ST.INT.XPND.CD           3327.000\n",
      "ST.INT.DPRT              2001.000\n",
      "ST.INT.RCPT.XP.ZS        3102.000\n",
      "ST.INT.RCPT.CD           3388.000\n",
      "Tourist Defecit          1996.000\n",
      "Tourism Net              3308.000\n",
      "Tourist Avg Net          3264.000\n",
      "Population Estimate      3308.000\n",
      "ST.INT.ARVL.PER.CAPITA   3184.000\n",
      "ST.INT.DPRT.PER.CAPITA   1901.000\n",
      "Maddison GDPPC           3505.000\n",
      "Name: count, dtype: float64\n"
     ]
    }
   ],
   "source": [
    "# Drop large n/a variables                    \n",
    "print(m_t_df.describe().transpose()['count'])\n",
    "m_t_df = m_t_df.drop(['ST.INT.DPRT','Tourist Defecit','ST.INT.DPRT.PER.CAPITA'],axis='columns').dropna(how='any')"
   ]
  },
  {
   "cell_type": "markdown",
   "metadata": {},
   "source": [
    "#### Linear Regression"
   ]
  },
  {
   "cell_type": "code",
   "execution_count": 9,
   "metadata": {},
   "outputs": [
    {
     "ename": "ValueError",
     "evalue": "Input contains NaN, infinity or a value too large for dtype('float64').",
     "output_type": "error",
     "traceback": [
      "\u001b[0;31m---------------------------------------------------------------------------\u001b[0m",
      "\u001b[0;31mValueError\u001b[0m                                Traceback (most recent call last)",
      "\u001b[0;32m<ipython-input-9-eeb560b94333>\u001b[0m in \u001b[0;36m<module>\u001b[0;34m\u001b[0m\n\u001b[1;32m      1\u001b[0m \u001b[0mregression\u001b[0m \u001b[0;34m=\u001b[0m \u001b[0mLinearRegression\u001b[0m\u001b[0;34m(\u001b[0m\u001b[0;34m)\u001b[0m\u001b[0;34m\u001b[0m\u001b[0;34m\u001b[0m\u001b[0m\n\u001b[0;32m----> 2\u001b[0;31m \u001b[0mregression\u001b[0m\u001b[0;34m.\u001b[0m\u001b[0mfit\u001b[0m\u001b[0;34m(\u001b[0m\u001b[0mx\u001b[0m\u001b[0;34m,\u001b[0m\u001b[0my\u001b[0m\u001b[0;34m)\u001b[0m\u001b[0;34m\u001b[0m\u001b[0;34m\u001b[0m\u001b[0m\n\u001b[0m\u001b[1;32m      3\u001b[0m \u001b[0mprint\u001b[0m\u001b[0;34m(\u001b[0m\u001b[0mregression\u001b[0m\u001b[0;34m.\u001b[0m\u001b[0mscore\u001b[0m\u001b[0;34m(\u001b[0m\u001b[0mx\u001b[0m\u001b[0;34m,\u001b[0m \u001b[0my\u001b[0m\u001b[0;34m)\u001b[0m\u001b[0;34m)\u001b[0m\u001b[0;34m\u001b[0m\u001b[0;34m\u001b[0m\u001b[0m\n",
      "\u001b[0;32m/anaconda3/lib/python3.7/site-packages/sklearn/linear_model/base.py\u001b[0m in \u001b[0;36mfit\u001b[0;34m(self, X, y, sample_weight)\u001b[0m\n\u001b[1;32m    456\u001b[0m         \u001b[0mn_jobs_\u001b[0m \u001b[0;34m=\u001b[0m \u001b[0mself\u001b[0m\u001b[0;34m.\u001b[0m\u001b[0mn_jobs\u001b[0m\u001b[0;34m\u001b[0m\u001b[0;34m\u001b[0m\u001b[0m\n\u001b[1;32m    457\u001b[0m         X, y = check_X_y(X, y, accept_sparse=['csr', 'csc', 'coo'],\n\u001b[0;32m--> 458\u001b[0;31m                          y_numeric=True, multi_output=True)\n\u001b[0m\u001b[1;32m    459\u001b[0m \u001b[0;34m\u001b[0m\u001b[0m\n\u001b[1;32m    460\u001b[0m         \u001b[0;32mif\u001b[0m \u001b[0msample_weight\u001b[0m \u001b[0;32mis\u001b[0m \u001b[0;32mnot\u001b[0m \u001b[0;32mNone\u001b[0m \u001b[0;32mand\u001b[0m \u001b[0mnp\u001b[0m\u001b[0;34m.\u001b[0m\u001b[0matleast_1d\u001b[0m\u001b[0;34m(\u001b[0m\u001b[0msample_weight\u001b[0m\u001b[0;34m)\u001b[0m\u001b[0;34m.\u001b[0m\u001b[0mndim\u001b[0m \u001b[0;34m>\u001b[0m \u001b[0;36m1\u001b[0m\u001b[0;34m:\u001b[0m\u001b[0;34m\u001b[0m\u001b[0;34m\u001b[0m\u001b[0m\n",
      "\u001b[0;32m/anaconda3/lib/python3.7/site-packages/sklearn/utils/validation.py\u001b[0m in \u001b[0;36mcheck_X_y\u001b[0;34m(X, y, accept_sparse, accept_large_sparse, dtype, order, copy, force_all_finite, ensure_2d, allow_nd, multi_output, ensure_min_samples, ensure_min_features, y_numeric, warn_on_dtype, estimator)\u001b[0m\n\u001b[1;32m    754\u001b[0m                     \u001b[0mensure_min_features\u001b[0m\u001b[0;34m=\u001b[0m\u001b[0mensure_min_features\u001b[0m\u001b[0;34m,\u001b[0m\u001b[0;34m\u001b[0m\u001b[0;34m\u001b[0m\u001b[0m\n\u001b[1;32m    755\u001b[0m                     \u001b[0mwarn_on_dtype\u001b[0m\u001b[0;34m=\u001b[0m\u001b[0mwarn_on_dtype\u001b[0m\u001b[0;34m,\u001b[0m\u001b[0;34m\u001b[0m\u001b[0;34m\u001b[0m\u001b[0m\n\u001b[0;32m--> 756\u001b[0;31m                     estimator=estimator)\n\u001b[0m\u001b[1;32m    757\u001b[0m     \u001b[0;32mif\u001b[0m \u001b[0mmulti_output\u001b[0m\u001b[0;34m:\u001b[0m\u001b[0;34m\u001b[0m\u001b[0;34m\u001b[0m\u001b[0m\n\u001b[1;32m    758\u001b[0m         y = check_array(y, 'csr', force_all_finite=True, ensure_2d=False,\n",
      "\u001b[0;32m/anaconda3/lib/python3.7/site-packages/sklearn/utils/validation.py\u001b[0m in \u001b[0;36mcheck_array\u001b[0;34m(array, accept_sparse, accept_large_sparse, dtype, order, copy, force_all_finite, ensure_2d, allow_nd, ensure_min_samples, ensure_min_features, warn_on_dtype, estimator)\u001b[0m\n\u001b[1;32m    571\u001b[0m         \u001b[0;32mif\u001b[0m \u001b[0mforce_all_finite\u001b[0m\u001b[0;34m:\u001b[0m\u001b[0;34m\u001b[0m\u001b[0;34m\u001b[0m\u001b[0m\n\u001b[1;32m    572\u001b[0m             _assert_all_finite(array,\n\u001b[0;32m--> 573\u001b[0;31m                                allow_nan=force_all_finite == 'allow-nan')\n\u001b[0m\u001b[1;32m    574\u001b[0m \u001b[0;34m\u001b[0m\u001b[0m\n\u001b[1;32m    575\u001b[0m     \u001b[0mshape_repr\u001b[0m \u001b[0;34m=\u001b[0m \u001b[0m_shape_repr\u001b[0m\u001b[0;34m(\u001b[0m\u001b[0marray\u001b[0m\u001b[0;34m.\u001b[0m\u001b[0mshape\u001b[0m\u001b[0;34m)\u001b[0m\u001b[0;34m\u001b[0m\u001b[0;34m\u001b[0m\u001b[0m\n",
      "\u001b[0;32m/anaconda3/lib/python3.7/site-packages/sklearn/utils/validation.py\u001b[0m in \u001b[0;36m_assert_all_finite\u001b[0;34m(X, allow_nan)\u001b[0m\n\u001b[1;32m     54\u001b[0m                 not allow_nan and not np.isfinite(X).all()):\n\u001b[1;32m     55\u001b[0m             \u001b[0mtype_err\u001b[0m \u001b[0;34m=\u001b[0m \u001b[0;34m'infinity'\u001b[0m \u001b[0;32mif\u001b[0m \u001b[0mallow_nan\u001b[0m \u001b[0;32melse\u001b[0m \u001b[0;34m'NaN, infinity'\u001b[0m\u001b[0;34m\u001b[0m\u001b[0;34m\u001b[0m\u001b[0m\n\u001b[0;32m---> 56\u001b[0;31m             \u001b[0;32mraise\u001b[0m \u001b[0mValueError\u001b[0m\u001b[0;34m(\u001b[0m\u001b[0mmsg_err\u001b[0m\u001b[0;34m.\u001b[0m\u001b[0mformat\u001b[0m\u001b[0;34m(\u001b[0m\u001b[0mtype_err\u001b[0m\u001b[0;34m,\u001b[0m \u001b[0mX\u001b[0m\u001b[0;34m.\u001b[0m\u001b[0mdtype\u001b[0m\u001b[0;34m)\u001b[0m\u001b[0;34m)\u001b[0m\u001b[0;34m\u001b[0m\u001b[0;34m\u001b[0m\u001b[0m\n\u001b[0m\u001b[1;32m     57\u001b[0m \u001b[0;34m\u001b[0m\u001b[0m\n\u001b[1;32m     58\u001b[0m \u001b[0;34m\u001b[0m\u001b[0m\n",
      "\u001b[0;31mValueError\u001b[0m: Input contains NaN, infinity or a value too large for dtype('float64')."
     ]
    }
   ],
   "source": [
    "regression = LinearRegression()\n",
    "regression.fit(x,y)\n",
    "print(regression.score(x, y))"
   ]
  },
  {
   "cell_type": "code",
   "execution_count": 57,
   "metadata": {},
   "outputs": [
    {
     "name": "stdout",
     "output_type": "stream",
     "text": [
      "['ST.INT.ARVL:0.0', 'ST.INT.XPND.MP.ZS:596.33', 'ST.INT.XPND.CD:0.0', 'ST.INT.RCPT.XP.ZS:-395.58', 'ST.INT.RCPT.CD:-0.0', 'Tourism Net:0.0', 'Tourist Avg Net:6.87', 'Population Estimate:-0.0', 'ST.INT.ARVL.PER.CAPITA:8703.82']\n"
     ]
    }
   ],
   "source": [
    "print([a + ':' + str(round(b, 2)) for a, b in zip(\n",
    "    x.columns, regression.coef_,)])"
   ]
  },
  {
   "cell_type": "code",
   "execution_count": 55,
   "metadata": {},
   "outputs": [
    {
     "data": {
      "text/plain": [
       "array([[-0.46505309, -0.97427928, -0.34534248, ..., -0.91282038,\n",
       "        -0.27249565, -0.46345671],\n",
       "       [-0.46649918, -0.97961435, -0.34498653, ..., -0.80290084,\n",
       "        -0.27258823, -0.46963057],\n",
       "       [-0.48078994, -1.06252846, -0.34569843, ..., -0.85015355,\n",
       "        -0.27258304, -0.53621449],\n",
       "       ...,\n",
       "       [-0.33099213, -0.21589888, -0.31971398, ..., -1.06123658,\n",
       "        -0.19397167, -0.43388531],\n",
       "       [-0.31593579,  0.23261135, -0.3134255 , ..., -1.06811058,\n",
       "        -0.19163747, -0.42360424],\n",
       "       [-0.30649368, -0.02641465, -0.32238361, ..., -1.07191942,\n",
       "        -0.18925773, -0.41887138]])"
      ]
     },
     "execution_count": 55,
     "metadata": {},
     "output_type": "execute_result"
    }
   ],
   "source": []
  },
  {
   "cell_type": "code",
   "execution_count": null,
   "metadata": {},
   "outputs": [],
   "source": []
  }
 ],
 "metadata": {
  "hide_input": false,
  "kernelspec": {
   "display_name": "Python 3",
   "language": "python",
   "name": "python3"
  },
  "language_info": {
   "codemirror_mode": {
    "name": "ipython",
    "version": 3
   },
   "file_extension": ".py",
   "mimetype": "text/x-python",
   "name": "python",
   "nbconvert_exporter": "python",
   "pygments_lexer": "ipython3",
   "version": "3.7.1"
  },
  "notify_time": "5"
 },
 "nbformat": 4,
 "nbformat_minor": 2
}
