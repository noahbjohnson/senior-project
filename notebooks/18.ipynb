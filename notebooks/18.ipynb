{
 "cells": [
  {
   "cell_type": "markdown",
   "metadata": {},
   "source": [
    "# Inequality Data Analysis"
   ]
  },
  {
   "cell_type": "code",
   "execution_count": 1,
   "metadata": {},
   "outputs": [],
   "source": [
    "%matplotlib inline\n",
    "import numpy as np\n",
    "import matplotlib.pyplot as plt\n",
    "import seaborn as sns; sns.set()\n",
    "import pandas as pd\n",
    "import plotly.plotly as py\n",
    "import cufflinks as cf\n",
    "import plotly.graph_objs as go\n",
    "from sklearn.cluster import KMeans\n",
    "from sklearn.preprocessing import LabelEncoder\n",
    "from sklearn.preprocessing import MinMaxScaler\n",
    "from scipy.stats import pearsonr, spearmanr\n",
    "%matplotlib inline\n",
    "\n",
    "cf.set_config_file(theme='space',offline=True)\n",
    "pd.set_option('display.max_colwidth', -1)"
   ]
  },
  {
   "cell_type": "markdown",
   "metadata": {},
   "source": [
    "## Data Importing"
   ]
  },
  {
   "cell_type": "code",
   "execution_count": 2,
   "metadata": {},
   "outputs": [
    {
     "name": "stderr",
     "output_type": "stream",
     "text": [
      "/opt/conda/lib/python3.7/site-packages/ipykernel_launcher.py:2: FutureWarning:\n",
      "\n",
      "\n",
      "Passing list-likes to .loc or [] with any missing label will raise\n",
      "KeyError in the future, you can use .reindex() as an alternative.\n",
      "\n",
      "See the documentation here:\n",
      "https://pandas.pydata.org/pandas-docs/stable/indexing.html#deprecate-loc-reindex-listlike\n",
      "\n"
     ]
    }
   ],
   "source": [
    "df = pd.read_csv(\"../data/production/subject/Inequality.csv\").set_index([\"Country Code\",\"Year\"])\n",
    "dd = pd.read_csv(\"../data/production/data_dictionary.csv\").set_index(\"Code\").loc[df.columns]\n",
    "tourism_columns = ['ST.INT.ARVL', 'ST.INT.XPND.MP.ZS', 'ST.INT.XPND.CD', 'ST.INT.DPRT',\n",
    "       'ST.INT.RCPT.XP.ZS', 'ST.INT.RCPT.CD', 'Tourist Defecit', 'Tourism Net',\n",
    "       'Tourist Avg Net', 'Population Estimate', 'ST.INT.ARVL.PER.CAPITA',\n",
    "       'ST.INT.DPRT.PER.CAPITA']\n",
    "df.drop([\"population\",\"gdp_ppp_pc_usd2011\",\"id\",\"quality_score\"],axis=\"columns\",inplace=True)"
   ]
  },
  {
   "cell_type": "code",
   "execution_count": 3,
   "metadata": {},
   "outputs": [
    {
     "data": {
      "text/html": [
       "<div>\n",
       "<style scoped>\n",
       "    .dataframe tbody tr th:only-of-type {\n",
       "        vertical-align: middle;\n",
       "    }\n",
       "\n",
       "    .dataframe tbody tr th {\n",
       "        vertical-align: top;\n",
       "    }\n",
       "\n",
       "    .dataframe thead th {\n",
       "        text-align: right;\n",
       "    }\n",
       "</style>\n",
       "<table border=\"1\" class=\"dataframe\">\n",
       "  <thead>\n",
       "    <tr style=\"text-align: right;\">\n",
       "      <th></th>\n",
       "      <th>Indicator Name</th>\n",
       "    </tr>\n",
       "    <tr>\n",
       "      <th>Code</th>\n",
       "      <th></th>\n",
       "    </tr>\n",
       "  </thead>\n",
       "  <tbody>\n",
       "    <tr>\n",
       "      <th>ST.INT.ARVL</th>\n",
       "      <td>International tourism, number of arrivals</td>\n",
       "    </tr>\n",
       "    <tr>\n",
       "      <th>ST.INT.XPND.MP.ZS</th>\n",
       "      <td>International tourism, expenditures (% of total imports)</td>\n",
       "    </tr>\n",
       "    <tr>\n",
       "      <th>ST.INT.XPND.CD</th>\n",
       "      <td>International tourism, expenditures (current US$)</td>\n",
       "    </tr>\n",
       "    <tr>\n",
       "      <th>ST.INT.DPRT</th>\n",
       "      <td>International tourism, number of departures</td>\n",
       "    </tr>\n",
       "    <tr>\n",
       "      <th>ST.INT.RCPT.XP.ZS</th>\n",
       "      <td>International tourism, receipts (% of total exports)</td>\n",
       "    </tr>\n",
       "    <tr>\n",
       "      <th>ST.INT.RCPT.CD</th>\n",
       "      <td>International tourism, receipts (current US$)</td>\n",
       "    </tr>\n",
       "    <tr>\n",
       "      <th>Tourist Defecit</th>\n",
       "      <td>The difference in outbound-inbound tourists for a country</td>\n",
       "    </tr>\n",
       "    <tr>\n",
       "      <th>Tourism Net</th>\n",
       "      <td>The difference in tourism recepts-expenditures</td>\n",
       "    </tr>\n",
       "    <tr>\n",
       "      <th>Tourist Avg Net</th>\n",
       "      <td>The average net income per tourist</td>\n",
       "    </tr>\n",
       "    <tr>\n",
       "      <th>Population Estimate</th>\n",
       "      <td>The UNPD estimated population for the country</td>\n",
       "    </tr>\n",
       "    <tr>\n",
       "      <th>ST.INT.ARVL.PER.CAPITA</th>\n",
       "      <td>Inbound tourists per resident</td>\n",
       "    </tr>\n",
       "    <tr>\n",
       "      <th>ST.INT.DPRT.PER.CAPITA</th>\n",
       "      <td>Outbound tourists per resident</td>\n",
       "    </tr>\n",
       "    <tr>\n",
       "      <th>SI.POV.GINI</th>\n",
       "      <td>GINI index (World Bank estimate)</td>\n",
       "    </tr>\n",
       "    <tr>\n",
       "      <th>SI.POV.GINI</th>\n",
       "      <td>GINI index (World Bank estimate)</td>\n",
       "    </tr>\n",
       "    <tr>\n",
       "      <th>SI.DST.10TH.10</th>\n",
       "      <td>Income share held by highest 10%</td>\n",
       "    </tr>\n",
       "    <tr>\n",
       "      <th>SI.DST.FRST.10</th>\n",
       "      <td>Income share held by lowest 10%</td>\n",
       "    </tr>\n",
       "    <tr>\n",
       "      <th>id</th>\n",
       "      <td>Identifier</td>\n",
       "    </tr>\n",
       "    <tr>\n",
       "      <th>gini_reported</th>\n",
       "      <td>Gini coefficient as reported by the source (in most cases based on microdata, in some older observations estimates derive from grouped data)</td>\n",
       "    </tr>\n",
       "    <tr>\n",
       "      <th>q1</th>\n",
       "      <td>Quintile group shares of resource</td>\n",
       "    </tr>\n",
       "    <tr>\n",
       "      <th>q2</th>\n",
       "      <td>Quintile group shares of resource</td>\n",
       "    </tr>\n",
       "    <tr>\n",
       "      <th>q3</th>\n",
       "      <td>Quintile group shares of resource</td>\n",
       "    </tr>\n",
       "    <tr>\n",
       "      <th>q4</th>\n",
       "      <td>Quintile group shares of resource</td>\n",
       "    </tr>\n",
       "    <tr>\n",
       "      <th>q5</th>\n",
       "      <td>Quintile group shares of resource</td>\n",
       "    </tr>\n",
       "    <tr>\n",
       "      <th>d1</th>\n",
       "      <td>Decile group shares of resource</td>\n",
       "    </tr>\n",
       "    <tr>\n",
       "      <th>d2</th>\n",
       "      <td>Decile group shares of resource</td>\n",
       "    </tr>\n",
       "    <tr>\n",
       "      <th>d3</th>\n",
       "      <td>Decile group shares of resource</td>\n",
       "    </tr>\n",
       "    <tr>\n",
       "      <th>d4</th>\n",
       "      <td>Decile group shares of resource</td>\n",
       "    </tr>\n",
       "    <tr>\n",
       "      <th>d5</th>\n",
       "      <td>Decile group shares of resource</td>\n",
       "    </tr>\n",
       "    <tr>\n",
       "      <th>d6</th>\n",
       "      <td>Decile group shares of resource</td>\n",
       "    </tr>\n",
       "    <tr>\n",
       "      <th>d7</th>\n",
       "      <td>Decile group shares of resource</td>\n",
       "    </tr>\n",
       "    <tr>\n",
       "      <th>d8</th>\n",
       "      <td>Decile group shares of resource</td>\n",
       "    </tr>\n",
       "    <tr>\n",
       "      <th>d9</th>\n",
       "      <td>Decile group shares of resource</td>\n",
       "    </tr>\n",
       "    <tr>\n",
       "      <th>d10</th>\n",
       "      <td>Decile group shares of resource</td>\n",
       "    </tr>\n",
       "    <tr>\n",
       "      <th>mean</th>\n",
       "      <td>Survey mean given with the same underlying definitions as the Gini coefficient and the share data</td>\n",
       "    </tr>\n",
       "    <tr>\n",
       "      <th>median</th>\n",
       "      <td>Survey median given with the same underlying definitions as the Gini coefficient and the share data</td>\n",
       "    </tr>\n",
       "    <tr>\n",
       "      <th>exchangerate</th>\n",
       "      <td>Conversion rate from local currency units (LCU) to United States Dollars (USD)</td>\n",
       "    </tr>\n",
       "    <tr>\n",
       "      <th>gdp_ppp_pc_usd2011</th>\n",
       "      <td>Gross Domestic Product (GDP) is converted to United States Dollars (USD) using purchasing power parity rates and divided by total population. Data are in constant 2011 United States Dollar (USD)</td>\n",
       "    </tr>\n",
       "    <tr>\n",
       "      <th>population</th>\n",
       "      <td>NaN</td>\n",
       "    </tr>\n",
       "    <tr>\n",
       "      <th>quality_score</th>\n",
       "      <td>NaN</td>\n",
       "    </tr>\n",
       "  </tbody>\n",
       "</table>\n",
       "</div>"
      ],
      "text/plain": [
       "                                                                                                                                                                                                            Indicator Name\n",
       "Code                                                                                                                                                                                                                      \n",
       "ST.INT.ARVL             International tourism, number of arrivals                                                                                                                                                         \n",
       "ST.INT.XPND.MP.ZS       International tourism, expenditures (% of total imports)                                                                                                                                          \n",
       "ST.INT.XPND.CD          International tourism, expenditures (current US$)                                                                                                                                                 \n",
       "ST.INT.DPRT             International tourism, number of departures                                                                                                                                                       \n",
       "ST.INT.RCPT.XP.ZS       International tourism, receipts (% of total exports)                                                                                                                                              \n",
       "ST.INT.RCPT.CD          International tourism, receipts (current US$)                                                                                                                                                     \n",
       "Tourist Defecit         The difference in outbound-inbound tourists for a country                                                                                                                                         \n",
       "Tourism Net             The difference in tourism recepts-expenditures                                                                                                                                                    \n",
       "Tourist Avg Net         The average net income per tourist                                                                                                                                                                \n",
       "Population Estimate     The UNPD estimated population for the country                                                                                                                                                     \n",
       "ST.INT.ARVL.PER.CAPITA  Inbound tourists per resident                                                                                                                                                                     \n",
       "ST.INT.DPRT.PER.CAPITA  Outbound tourists per resident                                                                                                                                                                    \n",
       "SI.POV.GINI             GINI index (World Bank estimate)                                                                                                                                                                  \n",
       "SI.POV.GINI             GINI index (World Bank estimate)                                                                                                                                                                  \n",
       "SI.DST.10TH.10          Income share held by highest 10%                                                                                                                                                                  \n",
       "SI.DST.FRST.10          Income share held by lowest 10%                                                                                                                                                                   \n",
       "id                      Identifier                                                                                                                                                                                        \n",
       "gini_reported           Gini coefficient as reported by the source (in most cases based on microdata, in some older observations estimates derive from grouped data)                                                      \n",
       "q1                      Quintile group shares of resource                                                                                                                                                                 \n",
       "q2                      Quintile group shares of resource                                                                                                                                                                 \n",
       "q3                      Quintile group shares of resource                                                                                                                                                                 \n",
       "q4                      Quintile group shares of resource                                                                                                                                                                 \n",
       "q5                      Quintile group shares of resource                                                                                                                                                                 \n",
       "d1                      Decile group shares of resource                                                                                                                                                                   \n",
       "d2                      Decile group shares of resource                                                                                                                                                                   \n",
       "d3                      Decile group shares of resource                                                                                                                                                                   \n",
       "d4                      Decile group shares of resource                                                                                                                                                                   \n",
       "d5                      Decile group shares of resource                                                                                                                                                                   \n",
       "d6                      Decile group shares of resource                                                                                                                                                                   \n",
       "d7                      Decile group shares of resource                                                                                                                                                                   \n",
       "d8                      Decile group shares of resource                                                                                                                                                                   \n",
       "d9                      Decile group shares of resource                                                                                                                                                                   \n",
       "d10                     Decile group shares of resource                                                                                                                                                                   \n",
       "mean                    Survey mean given with the same underlying definitions as the Gini coefficient and the share data                                                                                                 \n",
       "median                  Survey median given with the same underlying definitions as the Gini coefficient and the share data                                                                                               \n",
       "exchangerate            Conversion rate from local currency units (LCU) to United States Dollars (USD)                                                                                                                    \n",
       "gdp_ppp_pc_usd2011      Gross Domestic Product (GDP) is converted to United States Dollars (USD) using purchasing power parity rates and divided by total population. Data are in constant 2011 United States Dollar (USD)\n",
       "population              NaN                                                                                                                                                                                               \n",
       "quality_score           NaN                                                                                                                                                                                               "
      ]
     },
     "execution_count": 3,
     "metadata": {},
     "output_type": "execute_result"
    }
   ],
   "source": [
    "dd"
   ]
  },
  {
   "cell_type": "markdown",
   "metadata": {},
   "source": [
    "## Correlations"
   ]
  },
  {
   "cell_type": "code",
   "execution_count": 4,
   "metadata": {},
   "outputs": [],
   "source": [
    "corr = df.corr().drop(tourism_columns,axis=\"columns\").loc[tourism_columns]"
   ]
  },
  {
   "cell_type": "code",
   "execution_count": 5,
   "metadata": {},
   "outputs": [
    {
     "name": "stderr",
     "output_type": "stream",
     "text": [
      "/opt/conda/lib/python3.7/site-packages/IPython/core/display.py:689: UserWarning:\n",
      "\n",
      "Consider using IPython.display.IFrame instead\n",
      "\n"
     ]
    },
    {
     "data": {
      "text/html": [
       "<iframe id=\"igraph\" scrolling=\"no\" style=\"border:none;\" seamless=\"seamless\" src=\"https://plot.ly/~NoahtTristan/11.embed\" height=\"500px\" width=\"640px\"></iframe>"
      ],
      "text/plain": [
       "<chart_studio.tools.PlotlyDisplay object>"
      ]
     },
     "execution_count": 5,
     "metadata": {},
     "output_type": "execute_result"
    }
   ],
   "source": [
    "corr.iplot(kind='heatmap',colorscale='-rdbu',\n",
    "                                filename='economic-heatmap',\n",
    "          title=\"Correlations between Tourism indicators and economic\",\n",
    "          zerolinecolor=\"white\",\n",
    "          dimensions=(640,500),margin=(150,150,150,50))"
   ]
  },
  {
   "cell_type": "markdown",
   "metadata": {},
   "source": [
    "## Variable Distributions"
   ]
  },
  {
   "cell_type": "code",
   "execution_count": 6,
   "metadata": {},
   "outputs": [
    {
     "name": "stderr",
     "output_type": "stream",
     "text": [
      "/opt/conda/lib/python3.7/site-packages/IPython/core/display.py:689: UserWarning:\n",
      "\n",
      "Consider using IPython.display.IFrame instead\n",
      "\n"
     ]
    },
    {
     "data": {
      "text/html": [
       "<iframe id=\"igraph\" scrolling=\"no\" style=\"border:none;\" seamless=\"seamless\" src=\"https://plot.ly/~NoahtTristan/48.embed\" height=\"525px\" width=\"100%\"></iframe>"
      ],
      "text/plain": [
       "<chart_studio.tools.PlotlyDisplay object>"
      ]
     },
     "execution_count": 6,
     "metadata": {},
     "output_type": "execute_result"
    }
   ],
   "source": [
    "def draw_histograms(dataframe):\n",
    "    ax = dataframe.iplot(kind='histogram', subplots=True, shape=(9,4))\n",
    "    return ax\n",
    "\n",
    "draw_histograms(df)"
   ]
  },
  {
   "cell_type": "markdown",
   "metadata": {},
   "source": [
    "### Normalize"
   ]
  },
  {
   "cell_type": "code",
   "execution_count": 7,
   "metadata": {},
   "outputs": [
    {
     "name": "stderr",
     "output_type": "stream",
     "text": [
      "/opt/conda/lib/python3.7/site-packages/IPython/core/display.py:689: UserWarning:\n",
      "\n",
      "Consider using IPython.display.IFrame instead\n",
      "\n"
     ]
    },
    {
     "data": {
      "text/html": [
       "<iframe id=\"igraph\" scrolling=\"no\" style=\"border:none;\" seamless=\"seamless\" src=\"https://plot.ly/~NoahtTristan/50.embed\" height=\"525px\" width=\"100%\"></iframe>"
      ],
      "text/plain": [
       "<chart_studio.tools.PlotlyDisplay object>"
      ]
     },
     "execution_count": 7,
     "metadata": {},
     "output_type": "execute_result"
    }
   ],
   "source": [
    "df_norm = (df - df.mean()) / (df.max() - df.min())\n",
    "draw_histograms(df_norm)"
   ]
  },
  {
   "cell_type": "markdown",
   "metadata": {},
   "source": [
    "## Analysis"
   ]
  },
  {
   "cell_type": "markdown",
   "metadata": {},
   "source": [
    "### Inequality Correlation with Tourism Variables"
   ]
  },
  {
   "cell_type": "markdown",
   "metadata": {},
   "source": [
    "\n",
    "\n",
    "#### A Bigger market share for tourism results in higher equality\n",
    "$H_0: \\rho = 0$\n",
    ">There is not a significant linear relationship between x and y\n",
    "\n",
    "$H_a: \\rho \\neq 0$\n",
    ">There is a significant linear relationship between x and y\n",
    "\n",
    "$\\alpha = 0.01$"
   ]
  },
  {
   "cell_type": "code",
   "execution_count": 8,
   "metadata": {},
   "outputs": [
    {
     "name": "stdout",
     "output_type": "stream",
     "text": [
      "The two variables have a spearman correlation of 0.007586460697844305 with a pvalue of 0.6066161826004317.\n"
     ]
    }
   ],
   "source": [
    "x = df_norm['ST.INT.RCPT.XP.ZS']\n",
    "y = df_norm['SI.POV.GINI']\n",
    "c = spearmanr(x,y)\n",
    "print(\"The two variables have a spearman correlation of {} with a pvalue of {}.\".format(c.correlation,c.pvalue))"
   ]
  },
  {
   "cell_type": "markdown",
   "metadata": {},
   "source": [
    "$\\rho \\equiv 0$ at $\\alpha = .01$\n",
    "\n",
    "We fail to reject the null hypothesis"
   ]
  },
  {
   "cell_type": "code",
   "execution_count": 9,
   "metadata": {},
   "outputs": [
    {
     "data": {
      "image/png": "[encoded data removed]",
      "text/plain": [
       "<Figure size 432x288 with 1 Axes>"
      ]
     },
     "metadata": {
      "needs_background": "light"
     },
     "output_type": "display_data"
    }
   ],
   "source": [
    "plt.scatter(x,y)\n",
    "plt.xlabel(\"International tourism, receipts (% of total exports)\")\n",
    "plt.ylabel(\"GINI index\");"
   ]
  },
  {
   "cell_type": "markdown",
   "metadata": {},
   "source": [
    "\n",
    "\n",
    "#### A Bigger market share for tourism results in higher equality (round 2)\n",
    "$H_0: \\rho = 0$\n",
    ">There is not a significant linear relationship between x and y\n",
    "\n",
    "$H_a: \\rho \\neq 0$\n",
    ">There is a significant linear relationship between x and y\n",
    "\n",
    "$\\alpha = 0.01$"
   ]
  },
  {
   "cell_type": "code",
   "execution_count": 10,
   "metadata": {},
   "outputs": [
    {
     "name": "stdout",
     "output_type": "stream",
     "text": [
      "The two variables have a spearman correlation of 0.05641561711062179 with a pvalue of 0.00012708108793161872.\n"
     ]
    }
   ],
   "source": [
    "x = df_norm['ST.INT.RCPT.XP.ZS']\n",
    "y = df_norm['SI.DST.FRST.10']\n",
    "c = spearmanr(x,y)\n",
    "print(\"The two variables have a spearman correlation of {} with a pvalue of {}.\".format(c.correlation,c.pvalue))"
   ]
  },
  {
   "cell_type": "markdown",
   "metadata": {},
   "source": [
    "$\\rho = 0$ at $\\alpha = .01$\n",
    "\n",
    "The null hypothesis is rejected, and the variables are slightly correlated."
   ]
  },
  {
   "cell_type": "code",
   "execution_count": 11,
   "metadata": {},
   "outputs": [
    {
     "data": {
      "image/png": "[encoded data removed]",
      "text/plain": [
       "<Figure size 432x288 with 1 Axes>"
      ]
     },
     "metadata": {
      "needs_background": "light"
     },
     "output_type": "display_data"
    }
   ],
   "source": [
    "plt.scatter(x,y)\n",
    "plt.xlabel(\"International tourism, receipts (% of total exports)\")\n",
    "plt.ylabel(\"Income share held by lowest 10%\");"
   ]
  },
  {
   "cell_type": "markdown",
   "metadata": {},
   "source": [
    "\n",
    "\n",
    "#### A Bigger market share for tourism results in lower equality\n",
    "$H_0: \\rho = 0$\n",
    ">There is not a significant linear relationship between x and y\n",
    "\n",
    "$H_a: \\rho \\neq 0$\n",
    ">There is a significant linear relationship between x and y\n",
    "\n",
    "$\\alpha = 0.01$"
   ]
  },
  {
   "cell_type": "code",
   "execution_count": 12,
   "metadata": {},
   "outputs": [
    {
     "name": "stdout",
     "output_type": "stream",
     "text": [
      "The two variables have a spearman correlation of 0.04620014371945418 with a pvalue of 0.0017049151198087406.\n"
     ]
    }
   ],
   "source": [
    "x = df_norm['ST.INT.RCPT.XP.ZS']\n",
    "y = df_norm['SI.DST.10TH.10']\n",
    "c = spearmanr(x,y)\n",
    "print(\"The two variables have a spearman correlation of {} with a pvalue of {}.\".format(c.correlation,c.pvalue))"
   ]
  },
  {
   "cell_type": "markdown",
   "metadata": {},
   "source": [
    "$\\rho = 0$ at $\\alpha = .01$\n",
    "\n",
    "The null hypothesis is rejected, and the variables are slightly correlated."
   ]
  },
  {
   "cell_type": "code",
   "execution_count": 13,
   "metadata": {},
   "outputs": [
    {
     "data": {
      "image/png": "[encoded data removed]",
      "text/plain": [
       "<Figure size 432x288 with 1 Axes>"
      ]
     },
     "metadata": {
      "needs_background": "light"
     },
     "output_type": "display_data"
    }
   ],
   "source": [
    "plt.scatter(x,y)\n",
    "plt.xlabel(\"International tourism, receipts (% of total exports)\")\n",
    "plt.ylabel(\"Income share held by richest 10%\");"
   ]
  }
 ],
 "metadata": {
  "kernelspec": {
   "display_name": "Python 3",
   "language": "python",
   "name": "python3"
  },
  "language_info": {
   "codemirror_mode": {
    "name": "ipython",
    "version": 3
   },
   "file_extension": ".py",
   "mimetype": "text/x-python",
   "name": "python",
   "nbconvert_exporter": "python",
   "pygments_lexer": "ipython3",
   "version": "3.7.3"
  }
 },
 "nbformat": 4,
 "nbformat_minor": 2
}
