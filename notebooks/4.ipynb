{
 "cells": [
  {
   "cell_type": "markdown",
   "metadata": {},
   "source": [
    "# Economic Data Processing (MADDISON)\n",
    "\n",
    ">Maddison Project Database, version 2018. Bolt, Jutta, Robert Inklaar, Herman de Jong and Jan Luiten van Zanden (2018), “Rebasing ‘Maddison’: new income comparisons and the shape of long-run economic development”, Maddison Project Working paper 10\n",
    "\n",
    "## Data Dictionary\n",
    "\n",
    "| Full data | Data in  single table |\n",
    "|-------------------|---------------------------------------------------------------------------------------------------------------------------------------------------------------------------|\n",
    "| countrycode | 3-letter ISO country code |\n",
    "| country | Country name |\n",
    "| year | Year |\n",
    "| cgdppc | Real GDP per capita in 2011US\\$, multiple benchmarks (suitable for cross-country income comparisons) |\n",
    "| rgdpnapc | Real GDP per capita in 2011US\\$, 2011 benchmark (suitable for cross-country growth comparisons) |\n",
    "| pop | Population, mid-year (thousands) |\n",
    "| i_cig | 0/1/2: observation is extrapolated (0), benchmark (1), or interpolated (2) |\n",
    "| i_bm | For benchmark observations: 1: ICP PPP estimates, 2: Historical income benchmarks, 3: Real wages and urbanization, 4: Multiple of subsistence, 5: Braithwaite (1968) PPPs |\n",
    "| Partial countries | Data for selected sub-national units with long time series |"
   ]
  },
  {
   "cell_type": "code",
   "execution_count": 1,
   "metadata": {},
   "outputs": [],
   "source": [
    "import pandas as pd\n",
    "import pycountry\n",
    "\n",
    "%matplotlib inline\n",
    "\n",
    "pd.set_option('display.float_format', lambda x: '%.3f' % x)"
   ]
  },
  {
   "cell_type": "markdown",
   "metadata": {},
   "source": [
    "## Load The File"
   ]
  },
  {
   "cell_type": "code",
   "execution_count": 2,
   "metadata": {},
   "outputs": [],
   "source": [
    "df = pd.read_excel(\"../data/external/Economy/MADDISON/mpd2018.xlsx\",\n",
    "                   sheet_name='Full data')"
   ]
  },
  {
   "cell_type": "code",
   "execution_count": 3,
   "metadata": {},
   "outputs": [
    {
     "data": {
      "text/html": [
       "<div>\n",
       "<style scoped>\n",
       "    .dataframe tbody tr th:only-of-type {\n",
       "        vertical-align: middle;\n",
       "    }\n",
       "\n",
       "    .dataframe tbody tr th {\n",
       "        vertical-align: top;\n",
       "    }\n",
       "\n",
       "    .dataframe thead th {\n",
       "        text-align: right;\n",
       "    }\n",
       "</style>\n",
       "<table border=\"1\" class=\"dataframe\">\n",
       "  <thead>\n",
       "    <tr style=\"text-align: right;\">\n",
       "      <th></th>\n",
       "      <th>countrycode</th>\n",
       "      <th>country</th>\n",
       "      <th>year</th>\n",
       "      <th>cgdppc</th>\n",
       "      <th>rgdpnapc</th>\n",
       "      <th>pop</th>\n",
       "      <th>i_cig</th>\n",
       "      <th>i_bm</th>\n",
       "    </tr>\n",
       "  </thead>\n",
       "  <tbody>\n",
       "    <tr>\n",
       "      <th>15194</th>\n",
       "      <td>PRY</td>\n",
       "      <td>Paraguay</td>\n",
       "      <td>1910</td>\n",
       "      <td>nan</td>\n",
       "      <td>nan</td>\n",
       "      <td>554.000</td>\n",
       "      <td>NaN</td>\n",
       "      <td>NaN</td>\n",
       "    </tr>\n",
       "    <tr>\n",
       "      <th>11609</th>\n",
       "      <td>MMR</td>\n",
       "      <td>Myanmar</td>\n",
       "      <td>2016</td>\n",
       "      <td>6139.000</td>\n",
       "      <td>5284.000</td>\n",
       "      <td>55174.000</td>\n",
       "      <td>Extrapolated</td>\n",
       "      <td>NaN</td>\n",
       "    </tr>\n",
       "    <tr>\n",
       "      <th>19456</th>\n",
       "      <td>YUG</td>\n",
       "      <td>Former Yugoslavia</td>\n",
       "      <td>2014</td>\n",
       "      <td>15524.000</td>\n",
       "      <td>14627.000</td>\n",
       "      <td>21946.000</td>\n",
       "      <td>Benchmark</td>\n",
       "      <td>ICP PPP estimates</td>\n",
       "    </tr>\n",
       "    <tr>\n",
       "      <th>11706</th>\n",
       "      <td>MNG</td>\n",
       "      <td>Mongolia</td>\n",
       "      <td>1976</td>\n",
       "      <td>1393.000</td>\n",
       "      <td>3809.000</td>\n",
       "      <td>1487.000</td>\n",
       "      <td>Extrapolated</td>\n",
       "      <td>NaN</td>\n",
       "    </tr>\n",
       "    <tr>\n",
       "      <th>9006</th>\n",
       "      <td>ITA</td>\n",
       "      <td>Italy</td>\n",
       "      <td>1939</td>\n",
       "      <td>3196.000</td>\n",
       "      <td>6076.000</td>\n",
       "      <td>43865.000</td>\n",
       "      <td>Interpolated</td>\n",
       "      <td>NaN</td>\n",
       "    </tr>\n",
       "  </tbody>\n",
       "</table>\n",
       "</div>"
      ],
      "text/plain": [
       "      countrycode            country  year    cgdppc  rgdpnapc       pop  \\\n",
       "15194         PRY           Paraguay  1910       nan       nan   554.000   \n",
       "11609         MMR            Myanmar  2016  6139.000  5284.000 55174.000   \n",
       "19456         YUG  Former Yugoslavia  2014 15524.000 14627.000 21946.000   \n",
       "11706         MNG           Mongolia  1976  1393.000  3809.000  1487.000   \n",
       "9006          ITA              Italy  1939  3196.000  6076.000 43865.000   \n",
       "\n",
       "              i_cig               i_bm  \n",
       "15194           NaN                NaN  \n",
       "11609  Extrapolated                NaN  \n",
       "19456     Benchmark  ICP PPP estimates  \n",
       "11706  Extrapolated                NaN  \n",
       "9006   Interpolated                NaN  "
      ]
     },
     "execution_count": 3,
     "metadata": {},
     "output_type": "execute_result"
    }
   ],
   "source": [
    "df.sample(5)"
   ]
  },
  {
   "cell_type": "markdown",
   "metadata": {},
   "source": [
    "## Standardize Country Codes"
   ]
  },
  {
   "cell_type": "code",
   "execution_count": 4,
   "metadata": {},
   "outputs": [],
   "source": [
    "\"\"\" Only Select rows with valid country codes\n",
    "\"\"\"\n",
    "country_locations = []\n",
    "for country in df['countrycode']:\n",
    "    try:\n",
    "        pycountry.countries.lookup(country)\n",
    "        country_locations.append(True)\n",
    "    except LookupError:\n",
    "        country_locations.append(False)\n",
    "df = df[country_locations]"
   ]
  },
  {
   "cell_type": "markdown",
   "metadata": {},
   "source": [
    "## Standardize Indexes"
   ]
  },
  {
   "cell_type": "markdown",
   "metadata": {},
   "source": [
    "### Years (1995≤ x ≥2017)"
   ]
  },
  {
   "cell_type": "code",
   "execution_count": 5,
   "metadata": {},
   "outputs": [],
   "source": [
    "df = df[df['year'] >= 1995]\n",
    "df = df[df['year'] <= 2017]"
   ]
  },
  {
   "cell_type": "markdown",
   "metadata": {},
   "source": [
    "### Reindex & Rename"
   ]
  },
  {
   "cell_type": "code",
   "execution_count": 6,
   "metadata": {},
   "outputs": [],
   "source": [
    "df.rename(\n",
    "    {\n",
    "        \"year\": \"Year\",\n",
    "        \"countrycode\": \"Country Code\",\n",
    "        \"cgdppc\": \"Maddison GDPPC\"\n",
    "    },\n",
    "    axis='columns',\n",
    "    inplace=True)"
   ]
  },
  {
   "cell_type": "code",
   "execution_count": 7,
   "metadata": {},
   "outputs": [],
   "source": [
    "df.set_index([\"Country Code\", \"Year\"], inplace=True)"
   ]
  },
  {
   "cell_type": "markdown",
   "metadata": {},
   "source": [
    "## Clean Data\n",
    "### Remove unneeded variables"
   ]
  },
  {
   "cell_type": "code",
   "execution_count": 8,
   "metadata": {},
   "outputs": [],
   "source": [
    "df.drop([\"country\", \"i_cig\", \"i_bm\", \"rgdpnapc\", \"pop\"],\n",
    "        axis='columns',\n",
    "        inplace=True)"
   ]
  },
  {
   "cell_type": "markdown",
   "metadata": {},
   "source": [
    "### Data Types"
   ]
  },
  {
   "cell_type": "code",
   "execution_count": 9,
   "metadata": {},
   "outputs": [
    {
     "data": {
      "text/plain": [
       "Maddison GDPPC    float64\n",
       "dtype: object"
      ]
     },
     "execution_count": 9,
     "metadata": {},
     "output_type": "execute_result"
    }
   ],
   "source": [
    "df.dtypes"
   ]
  },
  {
   "cell_type": "markdown",
   "metadata": {},
   "source": [
    "## Save Data"
   ]
  },
  {
   "cell_type": "code",
   "execution_count": 10,
   "metadata": {},
   "outputs": [],
   "source": [
    "df.to_pickle(\"../data/processed/Economic_MADDISON.pickle\")"
   ]
  }
 ],
 "metadata": {
  "hide_input": false,
  "kernelspec": {
   "display_name": "Python 3",
   "language": "python",
   "name": "python3"
  },
  "language_info": {
   "codemirror_mode": {
    "name": "ipython",
    "version": 3
   },
   "file_extension": ".py",
   "mimetype": "text/x-python",
   "name": "python",
   "nbconvert_exporter": "python",
   "pygments_lexer": "ipython3",
   "version": "3.7.1"
  }
 },
 "nbformat": 4,
 "nbformat_minor": 2
}
