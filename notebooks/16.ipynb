{
 "cells": [
  {
   "cell_type": "markdown",
   "metadata": {},
   "source": [
    "# Subject Dataset Cleaning and Imputation"
   ]
  },
  {
   "cell_type": "code",
   "execution_count": 1,
   "metadata": {},
   "outputs": [
    {
     "name": "stderr",
     "output_type": "stream",
     "text": [
      "Using TensorFlow backend.\n"
     ]
    }
   ],
   "source": [
    "import pandas as pd\n",
    "from fancyimpute import IterativeImputer\n",
    "import numpy as np"
   ]
  },
  {
   "cell_type": "code",
   "execution_count": 2,
   "metadata": {},
   "outputs": [],
   "source": [
    "# Import the datasets\n",
    "General = pd.read_csv(\"../data/processed/General.csv\")\n",
    "Labor = pd.read_csv(\"../data/processed/Labor.csv\")\n",
    "Urbanization = pd.read_csv(\"../data/processed/Urbanization.csv\")\n",
    "Education = pd.read_csv(\"../data/processed/Education.csv\")\n",
    "Inequality = pd.read_csv(\"../data/processed/Inequality.csv\")\n",
    "Economic = pd.read_csv(\"../data/processed/Economic.csv\")"
   ]
  },
  {
   "cell_type": "markdown",
   "metadata": {},
   "source": [
    "## Remove Sparse Variables"
   ]
  },
  {
   "cell_type": "code",
   "execution_count": 3,
   "metadata": {},
   "outputs": [
    {
     "name": "stdout",
     "output_type": "stream",
     "text": [
      "['SH.STA.HYGN.ZS', 'SH.H2O.SMDW.ZS', 'ER.LND.PTLD.ZS', 'DT.DOD.PVLX.GN.ZS', 'FB.CBK.DPTR.P3', 'FB.CBK.BRWR.P3', 'SG.VAW.1549.ZS', 'SG.DMK.ALLD.FN.ZS', 'SG.DMK.SRCR.FN.ZS', 'SH.STA.SUIC.P5', 'SH.STA.WASH.P5', 'SH.STA.BRTW.ZS', 'SH.STA.ANVC.ZS', 'SH.STA.FGMS.ZS', 'SH.PRV.SMOK', 'SH.ALC.PCAP.LI', 'per_si_allsi.cov_pop_tot', 'HD.HCI.OVRL']\n",
      "['SL.TLF.0714.SW.TM', 'SL.TLF.0714.WK.TM', 'SL.ISV.IFRM.ZS', 'per_lm_alllm.cov_pop_tot']\n",
      "['EN.POP.SLUM.UR.ZS']\n",
      "['SE.ADT.LITR.ZS', 'SE.SEC.NENR']\n",
      "['SI.POV.GINI', 'SI.POV.RUGP', 'SI.POV.URGP', 'SI.POV.NAGP', 'SI.DST.10TH.10', 'SI.DST.FRST.10', 'id', 'gini_reported', 'q1', 'q2', 'q3', 'q4', 'q5', 'd1', 'd2', 'd3', 'd4', 'd5', 'd6', 'd7', 'd8', 'd9', 'd10', 'bottom5', 'top5', 'mean', 'median', 'exchangerate', 'mean_usd', 'median_usd', 'gdp_ppp_pc_usd2011', 'population', 'quality_score']\n",
      "['DT.DOD.PVLX.CD', 'SI.POV.NAHC', 'SI.POV.URHC', 'SI.POV.RUHC', 'SI.POV.NAGP', 'SI.POV.GINI']\n"
     ]
    }
   ],
   "source": [
    "for df in [General,\n",
    "            Labor,\n",
    "            Urbanization,\n",
    "            Education,\n",
    "            Inequality,\n",
    "            Economic]:\n",
    "    ds = df.describe().transpose()\n",
    "    # columns with <50% values\n",
    "    sparse = ds[(ds[\"count\"] < 2000)].index.values.tolist()\n",
    "    print(sparse)\n",
    "    df.drop(sparse,axis=1,inplace=True)"
   ]
  },
  {
   "cell_type": "code",
   "execution_count": 4,
   "metadata": {},
   "outputs": [
    {
     "name": "stdout",
     "output_type": "stream",
     "text": [
      "29\n",
      "23\n",
      "18\n",
      "19\n",
      "14\n",
      "20\n"
     ]
    }
   ],
   "source": [
    "for df in [General,\n",
    "            Labor,\n",
    "            Urbanization,\n",
    "            Education,\n",
    "            Inequality,\n",
    "            Economic]:\n",
    "    print(len(df.columns))"
   ]
  },
  {
   "cell_type": "markdown",
   "metadata": {},
   "source": [
    "## Impute Remaining NaNs"
   ]
  },
  {
   "cell_type": "code",
   "execution_count": 5,
   "metadata": {},
   "outputs": [],
   "source": [
    "for df in [General,\n",
    "            Labor,\n",
    "            Urbanization,\n",
    "            Education,\n",
    "            Inequality,\n",
    "            Economic]:\n",
    "    df.set_index([\"Country Code\", \"Year\"], inplace=True)"
   ]
  },
  {
   "cell_type": "code",
   "execution_count": 6,
   "metadata": {},
   "outputs": [
    {
     "name": "stdout",
     "output_type": "stream",
     "text": [
      "Imputing set 1 of 5\n",
      "Imputing set 2 of 5\n",
      "Imputing set 3 of 5\n",
      "Imputing set 4 of 5\n",
      "Imputing set 5 of 5\n",
      "Imputing set 1 of 5\n",
      "Imputing set 2 of 5\n",
      "Imputing set 3 of 5\n",
      "Imputing set 4 of 5\n",
      "Imputing set 5 of 5\n",
      "Imputing set 1 of 5\n",
      "Imputing set 2 of 5\n",
      "Imputing set 3 of 5\n",
      "Imputing set 4 of 5\n",
      "Imputing set 5 of 5\n",
      "Imputing set 1 of 5\n",
      "Imputing set 2 of 5\n",
      "Imputing set 3 of 5\n",
      "Imputing set 4 of 5\n",
      "Imputing set 5 of 5\n",
      "Imputing set 1 of 5\n",
      "Imputing set 2 of 5\n",
      "Imputing set 3 of 5\n",
      "Imputing set 4 of 5\n",
      "Imputing set 5 of 5\n",
      "Imputing set 1 of 5\n",
      "Imputing set 2 of 5\n",
      "Imputing set 3 of 5\n",
      "Imputing set 4 of 5\n",
      "Imputing set 5 of 5\n"
     ]
    }
   ],
   "source": [
    "General_imputed = General.copy()\n",
    "Labor_imputed = Labor.copy()\n",
    "Urbanization_imputed = Urbanization.copy()\n",
    "Education_imputed = Education.copy()\n",
    "Inequality_imputed = Inequality.copy()\n",
    "Economic_imputed = Economic.copy()\n",
    "for df in [General_imputed,\n",
    "            Labor_imputed,\n",
    "            Urbanization_imputed,\n",
    "            Education_imputed,\n",
    "            Inequality_imputed,\n",
    "            Economic_imputed]:\n",
    "    XY_incomplete = df.values\n",
    "    n_imputations = 5\n",
    "    XY_completed = []\n",
    "    for i in range(n_imputations):\n",
    "        print(\"Imputing set {} of 5\".format(i+1))\n",
    "        imputer = IterativeImputer(n_iter=10, sample_posterior=True, random_state=i, initial_strategy=\"median\")\n",
    "        XY_completed.append(imputer.fit_transform(XY_incomplete))\n",
    "\n",
    "    XY_completed_mean = np.mean(XY_completed, 0)\n",
    "    XY_completed_std = np.std(XY_completed, 0)\n",
    "    \n",
    "    df[:] = XY_completed_mean"
   ]
  },
  {
   "cell_type": "markdown",
   "metadata": {},
   "source": [
    "## Check The Integrity of Imputed Dataframes"
   ]
  },
  {
   "cell_type": "code",
   "execution_count": 7,
   "metadata": {},
   "outputs": [],
   "source": [
    "def dfDiff(pair: tuple):\n",
    "    \"\"\"\n",
    "    Takes a tuple of two pandas.DataFrames and returns a dataframe with changed values \n",
    "    \n",
    "    Source: https://wellsr.com/python/pandas-compare-two-data-frames/\n",
    "    \n",
    "    IN:\n",
    "    (\n",
    "    Index | Col \n",
    "    ------|-----\n",
    "    0     |0  \n",
    "    1     |1  \n",
    "    2     |0  \n",
    "    3     |1  \n",
    "    4     |1  \n",
    "    ,\n",
    "    Index | Col \n",
    "    ------|-----\n",
    "    0     |1  \n",
    "    1     |1  \n",
    "    2     |1  \n",
    "    3     |1  \n",
    "    4     |0  \n",
    "    )\n",
    "    \n",
    "    OUT:\n",
    "    Index | Col | Old | New\n",
    "    ------|-----|-----|-----\n",
    "    0     |num  |0    |1\n",
    "    2     |num  |0    |1\n",
    "    4     |num  |1    |0\n",
    "    \"\"\"\n",
    "    oldFrame, newFrame = pair\n",
    "    dfBool = (oldFrame != newFrame).stack()\n",
    "    diff = pd.concat([oldFrame.stack()[dfBool], newFrame.stack()[dfBool]], axis=1)\n",
    "    diff.columns=[\"Old\", \"New\"]\n",
    "    return diff"
   ]
  },
  {
   "cell_type": "code",
   "execution_count": 8,
   "metadata": {},
   "outputs": [],
   "source": [
    "diffs = [] # This will hold the computed difference dataframes\n",
    "combinations = [(General_imputed, General),\n",
    "            (Labor_imputed, Labor),\n",
    "            (Urbanization_imputed, Urbanization),\n",
    "            (Education_imputed, Education),\n",
    "            (Inequality_imputed, Inequality),\n",
    "            (Economic_imputed, Economic)] # All possible combinations of two dataframes"
   ]
  },
  {
   "cell_type": "code",
   "execution_count": 9,
   "metadata": {},
   "outputs": [],
   "source": [
    "for pair in combinations:\n",
    "    diffs.append(dfDiff(pair))"
   ]
  },
  {
   "cell_type": "code",
   "execution_count": 10,
   "metadata": {},
   "outputs": [],
   "source": [
    "changed = [len(diff) for diff in diffs]"
   ]
  },
  {
   "cell_type": "code",
   "execution_count": 11,
   "metadata": {},
   "outputs": [
    {
     "data": {
      "text/html": [
       "<div>\n",
       "<style scoped>\n",
       "    .dataframe tbody tr th:only-of-type {\n",
       "        vertical-align: middle;\n",
       "    }\n",
       "\n",
       "    .dataframe tbody tr th {\n",
       "        vertical-align: top;\n",
       "    }\n",
       "\n",
       "    .dataframe thead th {\n",
       "        text-align: right;\n",
       "    }\n",
       "</style>\n",
       "<table border=\"1\" class=\"dataframe\">\n",
       "  <thead>\n",
       "    <tr style=\"text-align: right;\">\n",
       "      <th></th>\n",
       "      <th>0</th>\n",
       "    </tr>\n",
       "  </thead>\n",
       "  <tbody>\n",
       "    <tr>\n",
       "      <th>0</th>\n",
       "      <td>33926</td>\n",
       "    </tr>\n",
       "    <tr>\n",
       "      <th>1</th>\n",
       "      <td>24037</td>\n",
       "    </tr>\n",
       "    <tr>\n",
       "      <th>2</th>\n",
       "      <td>18937</td>\n",
       "    </tr>\n",
       "    <tr>\n",
       "      <th>3</th>\n",
       "      <td>24801</td>\n",
       "    </tr>\n",
       "    <tr>\n",
       "      <th>4</th>\n",
       "      <td>14102</td>\n",
       "    </tr>\n",
       "    <tr>\n",
       "      <th>5</th>\n",
       "      <td>22065</td>\n",
       "    </tr>\n",
       "  </tbody>\n",
       "</table>\n",
       "</div>"
      ],
      "text/plain": [
       "       0\n",
       "0  33926\n",
       "1  24037\n",
       "2  18937\n",
       "3  24801\n",
       "4  14102\n",
       "5  22065"
      ]
     },
     "execution_count": 11,
     "metadata": {},
     "output_type": "execute_result"
    }
   ],
   "source": [
    "pd.DataFrame(changed).head(20)"
   ]
  },
  {
   "cell_type": "markdown",
   "metadata": {},
   "source": [
    "## Save the Data Frames"
   ]
  },
  {
   "cell_type": "code",
   "execution_count": 12,
   "metadata": {},
   "outputs": [],
   "source": [
    "General.to_csv(\"../data/production/subject/General.csv\")\n",
    "Labor.to_csv(\"../data/production/subject/Labor.csv\")\n",
    "Urbanization.to_csv(\"../data/production/subject/Urbanization.csv\")\n",
    "Education.to_csv(\"../data/production/subject/Education.csv\")\n",
    "Inequality.to_csv(\"../data/production/subject/Inequality.csv\")\n",
    "Economic.to_csv(\"../data/production/subject/Economic.csv\")"
   ]
  }
 ],
 "metadata": {
  "kernelspec": {
   "display_name": "Python 3",
   "language": "python",
   "name": "python3"
  },
  "language_info": {
   "codemirror_mode": {
    "name": "ipython",
    "version": 3
   },
   "file_extension": ".py",
   "mimetype": "text/x-python",
   "name": "python",
   "nbconvert_exporter": "python",
   "pygments_lexer": "ipython3",
   "version": "3.7.3"
  }
 },
 "nbformat": 4,
 "nbformat_minor": 2
}
