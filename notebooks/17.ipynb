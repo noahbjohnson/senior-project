{
 "cells": [
  {
   "cell_type": "markdown",
   "metadata": {},
   "source": [
    "# Economic Data Analysis"
   ]
  },
  {
   "cell_type": "code",
   "execution_count": 1,
   "metadata": {},
   "outputs": [],
   "source": [
    "%matplotlib inline\n",
    "import numpy as np\n",
    "import matplotlib.pyplot as plt\n",
    "import seaborn as sns; sns.set()\n",
    "import pandas as pd\n",
    "import plotly.plotly as py\n",
    "import cufflinks as cf\n",
    "import plotly.graph_objs as go\n",
    "from sklearn.cluster import KMeans\n",
    "from sklearn.preprocessing import LabelEncoder\n",
    "from sklearn.preprocessing import MinMaxScaler\n",
    "from scipy.stats import pearsonr, spearmanr\n",
    "%matplotlib inline\n",
    "\n",
    "cf.set_config_file(theme='space',offline=True)\n",
    "pd.set_option('display.max_colwidth', -1)"
   ]
  },
  {
   "cell_type": "markdown",
   "metadata": {},
   "source": [
    "## Data Importing"
   ]
  },
  {
   "cell_type": "code",
   "execution_count": 2,
   "metadata": {},
   "outputs": [],
   "source": [
    "df = pd.read_csv(\"../data/production/subject/Economic.csv\").set_index([\"Country Code\",\"Year\"])\n",
    "dd = pd.read_csv(\"../data/production/data_dictionary.csv\").set_index(\"Code\").loc[df.columns]\n",
    "tourism_columns = ['ST.INT.ARVL', 'ST.INT.XPND.MP.ZS', 'ST.INT.XPND.CD', 'ST.INT.DPRT',\n",
    "       'ST.INT.RCPT.XP.ZS', 'ST.INT.RCPT.CD', 'Tourist Defecit', 'Tourism Net',\n",
    "       'Tourist Avg Net', 'Population Estimate', 'ST.INT.ARVL.PER.CAPITA',\n",
    "       'ST.INT.DPRT.PER.CAPITA']"
   ]
  },
  {
   "cell_type": "code",
   "execution_count": 3,
   "metadata": {},
   "outputs": [
    {
     "data": {
      "text/html": [
       "<div>\n",
       "<style scoped>\n",
       "    .dataframe tbody tr th:only-of-type {\n",
       "        vertical-align: middle;\n",
       "    }\n",
       "\n",
       "    .dataframe tbody tr th {\n",
       "        vertical-align: top;\n",
       "    }\n",
       "\n",
       "    .dataframe thead th {\n",
       "        text-align: right;\n",
       "    }\n",
       "</style>\n",
       "<table border=\"1\" class=\"dataframe\">\n",
       "  <thead>\n",
       "    <tr style=\"text-align: right;\">\n",
       "      <th></th>\n",
       "      <th>Indicator Name</th>\n",
       "    </tr>\n",
       "    <tr>\n",
       "      <th>Code</th>\n",
       "      <th></th>\n",
       "    </tr>\n",
       "  </thead>\n",
       "  <tbody>\n",
       "    <tr>\n",
       "      <th>ST.INT.ARVL</th>\n",
       "      <td>International tourism, number of arrivals</td>\n",
       "    </tr>\n",
       "    <tr>\n",
       "      <th>ST.INT.XPND.MP.ZS</th>\n",
       "      <td>International tourism, expenditures (% of total imports)</td>\n",
       "    </tr>\n",
       "    <tr>\n",
       "      <th>ST.INT.XPND.CD</th>\n",
       "      <td>International tourism, expenditures (current US$)</td>\n",
       "    </tr>\n",
       "    <tr>\n",
       "      <th>ST.INT.DPRT</th>\n",
       "      <td>International tourism, number of departures</td>\n",
       "    </tr>\n",
       "    <tr>\n",
       "      <th>ST.INT.RCPT.XP.ZS</th>\n",
       "      <td>International tourism, receipts (% of total exports)</td>\n",
       "    </tr>\n",
       "    <tr>\n",
       "      <th>ST.INT.RCPT.CD</th>\n",
       "      <td>International tourism, receipts (current US$)</td>\n",
       "    </tr>\n",
       "    <tr>\n",
       "      <th>Tourist Defecit</th>\n",
       "      <td>The difference in outbound-inbound tourists for a country</td>\n",
       "    </tr>\n",
       "    <tr>\n",
       "      <th>Tourism Net</th>\n",
       "      <td>The difference in tourism recepts-expenditures</td>\n",
       "    </tr>\n",
       "    <tr>\n",
       "      <th>Tourist Avg Net</th>\n",
       "      <td>The average net income per tourist</td>\n",
       "    </tr>\n",
       "    <tr>\n",
       "      <th>Population Estimate</th>\n",
       "      <td>The UNPD estimated population for the country</td>\n",
       "    </tr>\n",
       "    <tr>\n",
       "      <th>ST.INT.ARVL.PER.CAPITA</th>\n",
       "      <td>Inbound tourists per resident</td>\n",
       "    </tr>\n",
       "    <tr>\n",
       "      <th>ST.INT.DPRT.PER.CAPITA</th>\n",
       "      <td>Outbound tourists per resident</td>\n",
       "    </tr>\n",
       "    <tr>\n",
       "      <th>Maddison GDPPC</th>\n",
       "      <td>Real GDP per capita in 2011US$, 2011 benchmark (suitable for cross-country growth comparisons)</td>\n",
       "    </tr>\n",
       "    <tr>\n",
       "      <th>DT.DOD.DIMF.CD</th>\n",
       "      <td>Use of IMF credit (DOD, current US$)</td>\n",
       "    </tr>\n",
       "    <tr>\n",
       "      <th>NY.GNP.PCAP.CD</th>\n",
       "      <td>GNI per capita, Atlas method (current US$)</td>\n",
       "    </tr>\n",
       "    <tr>\n",
       "      <th>NY.GNP.ATLS.CD</th>\n",
       "      <td>GNI, Atlas method (current US$)</td>\n",
       "    </tr>\n",
       "    <tr>\n",
       "      <th>DT.DIS.IDAG.CD</th>\n",
       "      <td>IDA grants (current US$)</td>\n",
       "    </tr>\n",
       "    <tr>\n",
       "      <th>DT.ODA.ODAT.CD</th>\n",
       "      <td>Net official development assistance received (current US$)</td>\n",
       "    </tr>\n",
       "  </tbody>\n",
       "</table>\n",
       "</div>"
      ],
      "text/plain": [
       "                                                                                                        Indicator Name\n",
       "Code                                                                                                                  \n",
       "ST.INT.ARVL             International tourism, number of arrivals                                                     \n",
       "ST.INT.XPND.MP.ZS       International tourism, expenditures (% of total imports)                                      \n",
       "ST.INT.XPND.CD          International tourism, expenditures (current US$)                                             \n",
       "ST.INT.DPRT             International tourism, number of departures                                                   \n",
       "ST.INT.RCPT.XP.ZS       International tourism, receipts (% of total exports)                                          \n",
       "ST.INT.RCPT.CD          International tourism, receipts (current US$)                                                 \n",
       "Tourist Defecit         The difference in outbound-inbound tourists for a country                                     \n",
       "Tourism Net             The difference in tourism recepts-expenditures                                                \n",
       "Tourist Avg Net         The average net income per tourist                                                            \n",
       "Population Estimate     The UNPD estimated population for the country                                                 \n",
       "ST.INT.ARVL.PER.CAPITA  Inbound tourists per resident                                                                 \n",
       "ST.INT.DPRT.PER.CAPITA  Outbound tourists per resident                                                                \n",
       "Maddison GDPPC          Real GDP per capita in 2011US$, 2011 benchmark (suitable for cross-country growth comparisons)\n",
       "DT.DOD.DIMF.CD          Use of IMF credit (DOD, current US$)                                                          \n",
       "NY.GNP.PCAP.CD          GNI per capita, Atlas method (current US$)                                                    \n",
       "NY.GNP.ATLS.CD          GNI, Atlas method (current US$)                                                               \n",
       "DT.DIS.IDAG.CD          IDA grants (current US$)                                                                      \n",
       "DT.ODA.ODAT.CD          Net official development assistance received (current US$)                                    "
      ]
     },
     "execution_count": 3,
     "metadata": {},
     "output_type": "execute_result"
    }
   ],
   "source": [
    "dd"
   ]
  },
  {
   "cell_type": "markdown",
   "metadata": {},
   "source": [
    "## Correlations"
   ]
  },
  {
   "cell_type": "code",
   "execution_count": 4,
   "metadata": {},
   "outputs": [],
   "source": [
    "corr = df.corr().drop(tourism_columns,axis=\"columns\").loc[tourism_columns]"
   ]
  },
  {
   "cell_type": "code",
   "execution_count": 5,
   "metadata": {},
   "outputs": [
    {
     "name": "stderr",
     "output_type": "stream",
     "text": [
      "/opt/conda/lib/python3.7/site-packages/IPython/core/display.py:689: UserWarning:\n",
      "\n",
      "Consider using IPython.display.IFrame instead\n",
      "\n"
     ]
    },
    {
     "data": {
      "text/html": [
       "<iframe id=\"igraph\" scrolling=\"no\" style=\"border:none;\" seamless=\"seamless\" src=\"https://plot.ly/~NoahtTristan/11.embed\" height=\"500px\" width=\"640px\"></iframe>"
      ],
      "text/plain": [
       "<chart_studio.tools.PlotlyDisplay object>"
      ]
     },
     "execution_count": 5,
     "metadata": {},
     "output_type": "execute_result"
    }
   ],
   "source": [
    "corr.iplot(kind='heatmap',colorscale='-rdbu',\n",
    "                                filename='economic-heatmap',\n",
    "          title=\"Correlations between Tourism indicators and economic\",\n",
    "          zerolinecolor=\"white\",\n",
    "          dimensions=(640,500),margin=(150,150,150,50))"
   ]
  },
  {
   "cell_type": "markdown",
   "metadata": {},
   "source": [
    "## Variable Distributions"
   ]
  },
  {
   "cell_type": "code",
   "execution_count": 6,
   "metadata": {},
   "outputs": [
    {
     "name": "stderr",
     "output_type": "stream",
     "text": [
      "/opt/conda/lib/python3.7/site-packages/IPython/core/display.py:689: UserWarning:\n",
      "\n",
      "Consider using IPython.display.IFrame instead\n",
      "\n"
     ]
    },
    {
     "data": {
      "text/html": [
       "<iframe id=\"igraph\" scrolling=\"no\" style=\"border:none;\" seamless=\"seamless\" src=\"https://plot.ly/~NoahtTristan/30.embed\" height=\"525px\" width=\"100%\"></iframe>"
      ],
      "text/plain": [
       "<chart_studio.tools.PlotlyDisplay object>"
      ]
     },
     "execution_count": 6,
     "metadata": {},
     "output_type": "execute_result"
    }
   ],
   "source": [
    "def get_layout(c):\n",
    "    n_columns = 1\n",
    "    n_rows = 1\n",
    "    while n_rows*n_columns != c:\n",
    "        if n_rows > 5:\n",
    "            n_rows = 1\n",
    "            n_columns +=1\n",
    "        else:\n",
    "            n_rows += 1\n",
    "    return (n_rows,n_columns)\n",
    "\n",
    "def draw_histograms(dataframe):\n",
    "    shape = get_layout(len(dataframe.columns))\n",
    "    ax = dataframe.iplot(kind='histogram', subplots=True, shape=shape)\n",
    "    return ax\n",
    "\n",
    "draw_histograms(df)"
   ]
  },
  {
   "cell_type": "markdown",
   "metadata": {},
   "source": [
    "### Normalize"
   ]
  },
  {
   "cell_type": "code",
   "execution_count": 7,
   "metadata": {},
   "outputs": [
    {
     "name": "stderr",
     "output_type": "stream",
     "text": [
      "/opt/conda/lib/python3.7/site-packages/IPython/core/display.py:689: UserWarning:\n",
      "\n",
      "Consider using IPython.display.IFrame instead\n",
      "\n"
     ]
    },
    {
     "data": {
      "text/html": [
       "<iframe id=\"igraph\" scrolling=\"no\" style=\"border:none;\" seamless=\"seamless\" src=\"https://plot.ly/~NoahtTristan/32.embed\" height=\"525px\" width=\"100%\"></iframe>"
      ],
      "text/plain": [
       "<chart_studio.tools.PlotlyDisplay object>"
      ]
     },
     "execution_count": 7,
     "metadata": {},
     "output_type": "execute_result"
    }
   ],
   "source": [
    "df_norm = (df - df.mean()) / (df.max() - df.min())\n",
    "draw_histograms(df_norm)"
   ]
  },
  {
   "cell_type": "markdown",
   "metadata": {},
   "source": [
    "## Analysis"
   ]
  },
  {
   "cell_type": "markdown",
   "metadata": {},
   "source": [
    "### Economic Correlation with Tourism Variables"
   ]
  },
  {
   "cell_type": "markdown",
   "metadata": {},
   "source": [
    "\n",
    "\n",
    "#### More Tourists, More Tourism Income\n",
    "$H_0: \\rho = 0$\n",
    ">There is not a significant linear relationship between x and y\n",
    "\n",
    "$H_a: \\rho \\neq 0$\n",
    ">There is a significant linear relationship between x and y\n",
    "\n",
    "$\\alpha = 0.01$"
   ]
  },
  {
   "cell_type": "code",
   "execution_count": 8,
   "metadata": {},
   "outputs": [
    {
     "name": "stdout",
     "output_type": "stream",
     "text": [
      "The two variables have a spearman correlation of 0.8494315433365026 with a pvalue of 0.0.\n"
     ]
    }
   ],
   "source": [
    "x = df_norm['ST.INT.ARVL']\n",
    "y = df_norm['ST.INT.RCPT.CD']\n",
    "c = spearmanr(x,y)\n",
    "print(\"The two variables have a spearman correlation of {} with a pvalue of {}.\".format(c.correlation,c.pvalue))"
   ]
  },
  {
   "cell_type": "markdown",
   "metadata": {},
   "source": [
    "$\\rho \\neq 0$ at $\\alpha = .01$\n",
    "\n",
    "The null hypothesis is rejected, and the variables are correlated."
   ]
  },
  {
   "cell_type": "code",
   "execution_count": 9,
   "metadata": {},
   "outputs": [
    {
     "data": {
      "image/png": "[encoded data removed]",
      "text/plain": [
       "<Figure size 432x288 with 1 Axes>"
      ]
     },
     "metadata": {
      "needs_background": "light"
     },
     "output_type": "display_data"
    }
   ],
   "source": [
    "plt.scatter(x,y)\n",
    "plt.xlabel(\"International Arrivals\")\n",
    "plt.ylabel(\"Receipts from international tourism\");"
   ]
  },
  {
   "cell_type": "markdown",
   "metadata": {},
   "source": [
    "#### More Tourists, Higher GNI\n",
    "$H_0: \\rho = 0$\n",
    ">There is not a significant linear relationship between x and y\n",
    "\n",
    "$H_a: \\rho \\neq 0$\n",
    ">There is a significant linear relationship between x and y\n",
    "\n",
    "$\\alpha = 0.01$"
   ]
  },
  {
   "cell_type": "code",
   "execution_count": 10,
   "metadata": {},
   "outputs": [
    {
     "name": "stdout",
     "output_type": "stream",
     "text": [
      "The two variables have a spearman correlation of 0.7475348432236621 with a pvalue of 0.0.\n"
     ]
    }
   ],
   "source": [
    "x = df_norm['ST.INT.ARVL']\n",
    "y = df_norm['NY.GNP.ATLS.CD']\n",
    "c = spearmanr(x,y)\n",
    "print(\"The two variables have a spearman correlation of {} with a pvalue of {}.\".format(c.correlation,c.pvalue))"
   ]
  },
  {
   "cell_type": "markdown",
   "metadata": {},
   "source": [
    "$\\rho \\neq 0$ at $\\alpha = .01$\n",
    "\n",
    "The null hypothesis is rejected, and the variables are correlated."
   ]
  },
  {
   "cell_type": "code",
   "execution_count": 11,
   "metadata": {},
   "outputs": [
    {
     "data": {
      "image/png": "[encoded data removed]",
      "text/plain": [
       "<Figure size 432x288 with 1 Axes>"
      ]
     },
     "metadata": {
      "needs_background": "light"
     },
     "output_type": "display_data"
    }
   ],
   "source": [
    "plt.scatter(x,y)\n",
    "plt.xlabel(\"International Arrivals\")\n",
    "plt.ylabel(\"GNI, Atlas method\");"
   ]
  },
  {
   "cell_type": "markdown",
   "metadata": {},
   "source": [
    "#### Higher proportion of tourism for exports, higher gni\n",
    "$H_0: \\rho = 0$\n",
    ">There is not a significant linear relationship between x and y\n",
    "\n",
    "$H_a: \\rho \\neq 0$\n",
    ">There is a significant linear relationship between x and y\n",
    "\n",
    "$\\alpha = 0.01$"
   ]
  },
  {
   "cell_type": "code",
   "execution_count": 12,
   "metadata": {},
   "outputs": [
    {
     "name": "stdout",
     "output_type": "stream",
     "text": [
      "The two variables have a spearman correlation of -0.4050386729748235 with a pvalue of 1.5739350237553317e-181.\n"
     ]
    }
   ],
   "source": [
    "x = df_norm['ST.INT.RCPT.XP.ZS']\n",
    "y = df_norm['NY.GNP.ATLS.CD']\n",
    "c = spearmanr(x,y)\n",
    "print(\"The two variables have a spearman correlation of {} with a pvalue of {}.\".format(c.correlation,c.pvalue))"
   ]
  },
  {
   "cell_type": "markdown",
   "metadata": {},
   "source": [
    "$\\rho \\neq 0$ at $\\alpha = .01$\n",
    "\n",
    "The null hypothesis is rejected, and the variables are negatively correlated."
   ]
  },
  {
   "cell_type": "code",
   "execution_count": 13,
   "metadata": {},
   "outputs": [
    {
     "data": {
      "image/png": "[encoded data removed]",
      "text/plain": [
       "<Figure size 432x288 with 1 Axes>"
      ]
     },
     "metadata": {
      "needs_background": "light"
     },
     "output_type": "display_data"
    }
   ],
   "source": [
    "plt.scatter(x,y)\n",
    "plt.xlabel(\"International tourism, receipts (% of total exports)\")\n",
    "plt.ylabel(\"GNI, Atlas method\");"
   ]
  },
  {
   "cell_type": "markdown",
   "metadata": {},
   "source": [
    "#### Richer countries send more tourists abroad\n",
    "$H_0: \\rho = 0$\n",
    ">There is not a significant linear relationship between x and y\n",
    "\n",
    "$H_a: \\rho \\neq 0$\n",
    ">There is a significant linear relationship between x and y\n",
    "\n",
    "$\\alpha = 0.01$"
   ]
  },
  {
   "cell_type": "code",
   "execution_count": 14,
   "metadata": {},
   "outputs": [
    {
     "name": "stdout",
     "output_type": "stream",
     "text": [
      "The two variables have a spearman correlation of 0.4356578869734564 with a pvalue of 7.509412337449959e-213.\n"
     ]
    }
   ],
   "source": [
    "x = df_norm['NY.GNP.ATLS.CD']\n",
    "y = df_norm['ST.INT.DPRT']\n",
    "c = spearmanr(x,y)\n",
    "print(\"The two variables have a spearman correlation of {} with a pvalue of {}.\".format(c.correlation,c.pvalue))"
   ]
  },
  {
   "cell_type": "markdown",
   "metadata": {},
   "source": [
    "$\\rho \\neq 0$ at $\\alpha = .01$\n",
    "\n",
    "The null hypothesis is rejected, and the variables are correlated."
   ]
  },
  {
   "cell_type": "code",
   "execution_count": 15,
   "metadata": {},
   "outputs": [
    {
     "data": {
      "image/png": "[encoded data removed]",
      "text/plain": [
       "<Figure size 432x288 with 1 Axes>"
      ]
     },
     "metadata": {
      "needs_background": "light"
     },
     "output_type": "display_data"
    }
   ],
   "source": [
    "plt.scatter(x,y)\n",
    "plt.ylabel(\"Outbound tourists\")\n",
    "plt.xlabel(\"GNI, Atlas method\");"
   ]
  },
  {
   "cell_type": "markdown",
   "metadata": {},
   "source": [
    "#### Richer countries (per capita) send more tourists abroad (per capita)\n",
    "$H_0: \\rho = 0$\n",
    ">There is not a significant linear relationship between x and y\n",
    "\n",
    "$H_a: \\rho \\neq 0$\n",
    ">There is a significant linear relationship between x and y\n",
    "\n",
    "$\\alpha = 0.01$"
   ]
  },
  {
   "cell_type": "code",
   "execution_count": 16,
   "metadata": {},
   "outputs": [
    {
     "name": "stdout",
     "output_type": "stream",
     "text": [
      "The two variables have a spearman correlation of 0.5909813594083781 with a pvalue of 0.0.\n"
     ]
    }
   ],
   "source": [
    "x = df_norm['NY.GNP.PCAP.CD']\n",
    "y = df_norm['ST.INT.DPRT.PER.CAPITA']\n",
    "c = spearmanr(x,y)\n",
    "print(\"The two variables have a spearman correlation of {} with a pvalue of {}.\".format(c.correlation,c.pvalue))"
   ]
  },
  {
   "cell_type": "markdown",
   "metadata": {},
   "source": [
    "$\\rho \\neq 0$ at $\\alpha = .01$\n",
    "\n",
    "The null hypothesis is rejected, and the variables are correlated."
   ]
  },
  {
   "cell_type": "code",
   "execution_count": 17,
   "metadata": {},
   "outputs": [
    {
     "data": {
      "image/png": "[encoded data removed]",
      "text/plain": [
       "<Figure size 432x288 with 1 Axes>"
      ]
     },
     "metadata": {
      "needs_background": "light"
     },
     "output_type": "display_data"
    }
   ],
   "source": [
    "plt.scatter(x,y)\n",
    "plt.ylabel(\"Outbound tourists per capita\")\n",
    "plt.xlabel(\"GNI, Atlas method per capita\");"
   ]
  }
 ],
 "metadata": {
  "kernelspec": {
   "display_name": "Python 3",
   "language": "python",
   "name": "python3"
  },
  "language_info": {
   "codemirror_mode": {
    "name": "ipython",
    "version": 3
   },
   "file_extension": ".py",
   "mimetype": "text/x-python",
   "name": "python",
   "nbconvert_exporter": "python",
   "pygments_lexer": "ipython3",
   "version": "3.7.3"
  }
 },
 "nbformat": 4,
 "nbformat_minor": 2
}
