{
 "cells": [
  {
   "cell_type": "markdown",
   "metadata": {},
   "source": [
    "# Full Dataset Cleaning"
   ]
  },
  {
   "cell_type": "code",
   "execution_count": 1,
   "metadata": {},
   "outputs": [],
   "source": [
    "import pandas as pd"
   ]
  },
  {
   "cell_type": "code",
   "execution_count": 2,
   "metadata": {},
   "outputs": [],
   "source": [
    "# Import the dataset\n",
    "df = pd.read_csv(\"../data/processed/Full.csv\")\n",
    "dc = df.columns.values"
   ]
  },
  {
   "cell_type": "code",
   "execution_count": 3,
   "metadata": {},
   "outputs": [
    {
     "name": "stdout",
     "output_type": "stream",
     "text": [
      "Country Code\n",
      "Year\n",
      "ST.INT.ARVL\n",
      "ST.INT.XPND.MP.ZS\n",
      "ST.INT.XPND.CD\n",
      "ST.INT.DPRT\n",
      "ST.INT.RCPT.XP.ZS\n",
      "ST.INT.RCPT.CD\n",
      "Tourist Defecit\n",
      "Tourism Net\n",
      "Tourist Avg Net\n",
      "Population Estimate\n",
      "ST.INT.ARVL.PER.CAPITA\n",
      "ST.INT.DPRT.PER.CAPITA\n",
      "id\n",
      "gini_reported\n",
      "q1\n",
      "q2\n",
      "q3\n",
      "q4\n",
      "q5\n",
      "d1\n",
      "d2\n",
      "d3\n",
      "d4\n",
      "d5\n",
      "d6\n",
      "d7\n",
      "d8\n",
      "d9\n",
      "d10\n",
      "bottom5\n",
      "top5\n",
      "mean\n",
      "median\n",
      "exchangerate\n",
      "mean_usd\n",
      "median_usd\n",
      "gdp_ppp_pc_usd2011\n",
      "population\n",
      "quality_score\n",
      "SI.POV.GINI\n",
      "SI.POV.RUGP\n",
      "SI.POV.URGP\n",
      "SI.POV.NAGP\n",
      "SI.DST.10TH.10\n",
      "SI.DST.FRST.10\n",
      "SP.DYN.LE00.IN\n",
      "EG.ELC.ACCS.ZS\n",
      "SH.STA.HYGN.ZS\n",
      "SH.H2O.SMDW.ZS\n",
      "SH.H2O.BASW.ZS\n",
      "EN.ATM.CO2E.PC\n",
      "EN.CO2.TRAN.ZS\n",
      "ER.LND.PTLD.ZS\n",
      "DT.DOD.PVLX.GN.ZS\n",
      "FB.ATM.TOTL.P5\n",
      "FB.CBK.BRCH.P5\n",
      "FB.CBK.DPTR.P3\n",
      "FB.CBK.BRWR.P3\n",
      "SG.VAW.1549.ZS\n",
      "SG.DMK.ALLD.FN.ZS\n",
      "SG.DMK.SRCR.FN.ZS\n",
      "SH.STA.SUIC.P5\n",
      "SH.STA.WASH.P5\n",
      "SP.DYN.IMRT.IN\n",
      "SH.STA.BRTW.ZS\n",
      "SH.ANM.CHLD.ZS\n",
      "SH.STA.ANVC.ZS\n",
      "SH.STA.FGMS.ZS\n",
      "SH.PRV.SMOK\n",
      "SH.ALC.PCAP.LI\n",
      "IT.NET.BBND.P2\n",
      "IT.NET.USER.ZS\n",
      "IT.CEL.SETS.P2\n",
      "SM.POP.REFG.OR\n",
      "per_si_allsi.cov_pop_tot\n",
      "VC.IHR.PSRC.P5\n",
      "MS.MIL.TOTL.TF.ZS\n",
      "HD.HCI.OVRL\n",
      "Maddison GDPPC\n",
      "SE.ENR.PRSC.FM.ZS\n",
      "SE.ADT.LITR.ZS\n",
      "SE.COM.DURS\n",
      "SE.PRM.UNER.ZS\n",
      "SE.PRM.ENRL.TC.ZS\n",
      "SE.SEC.ENRL.TC.ZS\n",
      "SE.SEC.NENR\n",
      "SL.TLF.ACTI.1524.FE.ZS\n",
      "SL.TLF.CACT.ZS\n",
      "SL.TLF.CACT.FM.ZS\n",
      "SL.TLF.0714.SW.TM\n",
      "SL.TLF.0714.WK.TM\n",
      "SL.EMP.MPYR.ZS\n",
      "SL.AGR.EMPL.ZS\n",
      "SL.IND.EMPL.ZS\n",
      "SL.SRV.EMPL.ZS\n",
      "SL.ISV.IFRM.ZS\n",
      "SL.UEM.TOTL.ZS\n",
      "SL.EMP.SELF.ZS\n",
      "per_lm_alllm.cov_pop_tot\n",
      "SP.URB.TOTL.IN.ZS\n",
      "SP.URB.GROW\n",
      "EN.POP.SLUM.UR.ZS\n",
      "EN.URB.MCTY.TL.ZS\n",
      "EN.URB.LCTY.UR.ZS\n",
      "DT.DOD.DIMF.CD\n",
      "DT.DOD.PVLX.CD\n",
      "NY.GNP.PCAP.CD\n",
      "NY.GNP.ATLS.CD\n",
      "DT.DIS.IDAG.CD\n",
      "DT.ODA.ODAT.CD\n",
      "SI.POV.NAHC\n",
      "SI.POV.URHC\n",
      "SI.POV.RUHC\n"
     ]
    }
   ],
   "source": [
    "# List out the variables\n",
    "for i in dc:\n",
    "    print(i)"
   ]
  },
  {
   "cell_type": "code",
   "execution_count": 4,
   "metadata": {},
   "outputs": [],
   "source": [
    "# Select variables to remove\n",
    "# population: duplicate\n",
    "# quality_score: meta\n",
    "# id: meta\n",
    "rm_vars = [\"quality_score\",\"population\",\"id\"]"
   ]
  },
  {
   "cell_type": "code",
   "execution_count": 5,
   "metadata": {},
   "outputs": [],
   "source": [
    "df.drop(rm_vars, axis=\"columns\", inplace=True)"
   ]
  },
  {
   "cell_type": "code",
   "execution_count": 6,
   "metadata": {},
   "outputs": [],
   "source": [
    "df.to_csv(\"../data/processed/Full_clean.csv\")"
   ]
  }
 ],
 "metadata": {
  "kernelspec": {
   "display_name": "Python 3",
   "language": "python",
   "name": "python3"
  },
  "language_info": {
   "codemirror_mode": {
    "name": "ipython",
    "version": 3
   },
   "file_extension": ".py",
   "mimetype": "text/x-python",
   "name": "python",
   "nbconvert_exporter": "python",
   "pygments_lexer": "ipython3",
   "version": "3.6.8"
  }
 },
 "nbformat": 4,
 "nbformat_minor": 2
}
