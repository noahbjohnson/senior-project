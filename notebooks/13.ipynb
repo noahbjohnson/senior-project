{
 "cells": [
  {
   "cell_type": "markdown",
   "metadata": {},
   "source": [
    "# Full Dataset Cleaning and Imputation"
   ]
  },
  {
   "cell_type": "code",
   "execution_count": 40,
   "metadata": {},
   "outputs": [],
   "source": [
    "import pandas as pd\n",
    "from fancyimpute import IterativeImputer\n",
    "import numpy as np"
   ]
  },
  {
   "cell_type": "code",
   "execution_count": 41,
   "metadata": {},
   "outputs": [],
   "source": [
    "# Import the dataset\n",
    "df = pd.read_csv(\"../data/processed/Full.csv\")\n",
    "dc = df.columns.values"
   ]
  },
  {
   "cell_type": "markdown",
   "metadata": {},
   "source": [
    "## Remove Unneeded Variables"
   ]
  },
  {
   "cell_type": "code",
   "execution_count": 42,
   "metadata": {},
   "outputs": [],
   "source": [
    "# List out the variables\n",
    "# for i in dc:\n",
    "#     print(i)"
   ]
  },
  {
   "cell_type": "code",
   "execution_count": 43,
   "metadata": {},
   "outputs": [],
   "source": [
    "# Select variables to remove\n",
    "# population: duplicate\n",
    "# quality_score: meta\n",
    "# id: meta\n",
    "rm_vars = [\"quality_score\",\"population\",\"id\"]"
   ]
  },
  {
   "cell_type": "code",
   "execution_count": 44,
   "metadata": {},
   "outputs": [],
   "source": [
    "df.drop(rm_vars, axis=\"columns\", inplace=True)"
   ]
  },
  {
   "cell_type": "markdown",
   "metadata": {},
   "source": [
    "## Remove Sparse Variables"
   ]
  },
  {
   "cell_type": "code",
   "execution_count": 45,
   "metadata": {},
   "outputs": [],
   "source": [
    "ds = df.describe().transpose()"
   ]
  },
  {
   "cell_type": "code",
   "execution_count": 46,
   "metadata": {},
   "outputs": [],
   "source": [
    "# columns with <20% values\n",
    "sparse = ds[(ds[\"count\"] < 800)].index.values.tolist()"
   ]
  },
  {
   "cell_type": "code",
   "execution_count": 47,
   "metadata": {},
   "outputs": [],
   "source": [
    "df.drop(sparse,axis=1,inplace=True)"
   ]
  },
  {
   "cell_type": "markdown",
   "metadata": {},
   "source": [
    "## Impute Remaining NaNs"
   ]
  },
  {
   "cell_type": "code",
   "execution_count": 48,
   "metadata": {},
   "outputs": [],
   "source": [
    "df.set_index([\"Country Code\", \"Year\"], inplace=True)"
   ]
  },
  {
   "cell_type": "code",
   "execution_count": 49,
   "metadata": {},
   "outputs": [
    {
     "name": "stdout",
     "output_type": "stream",
     "text": [
      "Imputing set 1 of 5\n",
      "Imputing set 2 of 5\n",
      "Imputing set 3 of 5\n",
      "Imputing set 4 of 5\n",
      "Imputing set 5 of 5\n"
     ]
    }
   ],
   "source": [
    "XY_incomplete = df.values\n",
    "\n",
    "n_imputations = 5\n",
    "XY_completed = []\n",
    "for i in range(n_imputations):\n",
    "    print(\"Imputing set {} of 5\".format(i+1))\n",
    "    imputer = IterativeImputer(n_iter=10, sample_posterior=True, random_state=i, initial_strategy=\"median\")\n",
    "    XY_completed.append(imputer.fit_transform(XY_incomplete))\n",
    "\n",
    "XY_completed_mean = np.mean(XY_completed, 0)\n",
    "XY_completed_std = np.std(XY_completed, 0)"
   ]
  },
  {
   "cell_type": "code",
   "execution_count": 50,
   "metadata": {},
   "outputs": [],
   "source": [
    "df1 = df.copy()\n",
    "df2 = df.copy()\n",
    "df3 = df.copy()\n",
    "df4 = df.copy()\n",
    "df5 = df.copy()\n",
    "df1[:] = XY_completed[0]\n",
    "df2[:] = XY_completed[1]\n",
    "df3[:] = XY_completed[2]\n",
    "df4[:] = XY_completed[3]\n",
    "df5[:] = XY_completed[4]"
   ]
  },
  {
   "cell_type": "markdown",
   "metadata": {},
   "source": [
    "## Check The Integrity of Imputed Dataframes"
   ]
  },
  {
   "cell_type": "code",
   "execution_count": 51,
   "metadata": {},
   "outputs": [],
   "source": [
    "def dfDiff(pair: tuple):\n",
    "    \"\"\"\n",
    "    Takes a tuple of two pandas.DataFrames and returns a dataframe with changed values \n",
    "    \n",
    "    Source: https://wellsr.com/python/pandas-compare-two-data-frames/\n",
    "    \n",
    "    IN:\n",
    "    (\n",
    "    Index | Col \n",
    "    ------|-----\n",
    "    0     |0  \n",
    "    1     |1  \n",
    "    2     |0  \n",
    "    3     |1  \n",
    "    4     |1  \n",
    "    ,\n",
    "    Index | Col \n",
    "    ------|-----\n",
    "    0     |1  \n",
    "    1     |1  \n",
    "    2     |1  \n",
    "    3     |1  \n",
    "    4     |0  \n",
    "    )\n",
    "    \n",
    "    OUT:\n",
    "    Index | Col | Old | New\n",
    "    ------|-----|-----|-----\n",
    "    0     |num  |0    |1\n",
    "    2     |num  |0    |1\n",
    "    4     |num  |1    |0\n",
    "    \"\"\"\n",
    "    oldFrame, newFrame = pair\n",
    "    dfBool = (oldFrame != newFrame).stack()\n",
    "    diff = pd.concat([oldFrame.stack()[dfBool], newFrame.stack()[dfBool]], axis=1)\n",
    "    diff.columns=[\"Old\", \"New\"]\n",
    "    return diff\n",
    "\n",
    "def pairCombinations(l):\n",
    "    \"\"\"\n",
    "    Takes a list (l) and returns a list of sets containing every possible pair\n",
    "    Does not return any sets of two idential objects\n",
    "    \"\"\"\n",
    "    l2 = l[1:]\n",
    "    pairs = []\n",
    "    for one in l:\n",
    "        for two in l2:\n",
    "            pairs.append((one,two))\n",
    "        l2 = l2[1:]\n",
    "    return pairs"
   ]
  },
  {
   "cell_type": "code",
   "execution_count": 52,
   "metadata": {},
   "outputs": [],
   "source": [
    "diffs = [] # This will hold the computed difference dataframes\n",
    "combinations = pairCombinations([df, df1, df2, df3, df4, df5]) # All possible combinations of two dataframes\n",
    "combination_labels = pairCombinations(['df', 'df1', 'df2', 'df3', 'df4', 'df5'])"
   ]
  },
  {
   "cell_type": "code",
   "execution_count": 53,
   "metadata": {},
   "outputs": [],
   "source": [
    "for pair in combinations:\n",
    "    diffs.append(dfDiff(pair))"
   ]
  },
  {
   "cell_type": "code",
   "execution_count": 54,
   "metadata": {},
   "outputs": [],
   "source": [
    "df_one = []\n",
    "df_two = []\n",
    "\n",
    "for pair in combination_labels:\n",
    "    one, two = pair\n",
    "    df_one.append(one)\n",
    "    df_two.append(two)\n",
    "\n",
    "changed = [len(diff) for diff in diffs]\n",
    "\n",
    "cols = {\n",
    "    \"DF ONE\": df_one,\n",
    "    \"DF TWO\": df_two,\n",
    "    \"Changed Values\": changed\n",
    "}"
   ]
  },
  {
   "cell_type": "code",
   "execution_count": 55,
   "metadata": {},
   "outputs": [
    {
     "data": {
      "text/html": [
       "<div>\n",
       "<style scoped>\n",
       "    .dataframe tbody tr th:only-of-type {\n",
       "        vertical-align: middle;\n",
       "    }\n",
       "\n",
       "    .dataframe tbody tr th {\n",
       "        vertical-align: top;\n",
       "    }\n",
       "\n",
       "    .dataframe thead th {\n",
       "        text-align: right;\n",
       "    }\n",
       "</style>\n",
       "<table border=\"1\" class=\"dataframe\">\n",
       "  <thead>\n",
       "    <tr style=\"text-align: right;\">\n",
       "      <th></th>\n",
       "      <th>DF ONE</th>\n",
       "      <th>DF TWO</th>\n",
       "      <th>Changed Values</th>\n",
       "    </tr>\n",
       "  </thead>\n",
       "  <tbody>\n",
       "    <tr>\n",
       "      <th>0</th>\n",
       "      <td>df</td>\n",
       "      <td>df1</td>\n",
       "      <td>149842</td>\n",
       "    </tr>\n",
       "    <tr>\n",
       "      <th>1</th>\n",
       "      <td>df</td>\n",
       "      <td>df2</td>\n",
       "      <td>149842</td>\n",
       "    </tr>\n",
       "    <tr>\n",
       "      <th>2</th>\n",
       "      <td>df</td>\n",
       "      <td>df3</td>\n",
       "      <td>149842</td>\n",
       "    </tr>\n",
       "    <tr>\n",
       "      <th>3</th>\n",
       "      <td>df</td>\n",
       "      <td>df4</td>\n",
       "      <td>149842</td>\n",
       "    </tr>\n",
       "    <tr>\n",
       "      <th>4</th>\n",
       "      <td>df</td>\n",
       "      <td>df5</td>\n",
       "      <td>149842</td>\n",
       "    </tr>\n",
       "    <tr>\n",
       "      <th>5</th>\n",
       "      <td>df1</td>\n",
       "      <td>df2</td>\n",
       "      <td>149842</td>\n",
       "    </tr>\n",
       "    <tr>\n",
       "      <th>6</th>\n",
       "      <td>df1</td>\n",
       "      <td>df3</td>\n",
       "      <td>149842</td>\n",
       "    </tr>\n",
       "    <tr>\n",
       "      <th>7</th>\n",
       "      <td>df1</td>\n",
       "      <td>df4</td>\n",
       "      <td>149842</td>\n",
       "    </tr>\n",
       "    <tr>\n",
       "      <th>8</th>\n",
       "      <td>df1</td>\n",
       "      <td>df5</td>\n",
       "      <td>149842</td>\n",
       "    </tr>\n",
       "    <tr>\n",
       "      <th>9</th>\n",
       "      <td>df2</td>\n",
       "      <td>df3</td>\n",
       "      <td>149842</td>\n",
       "    </tr>\n",
       "    <tr>\n",
       "      <th>10</th>\n",
       "      <td>df2</td>\n",
       "      <td>df4</td>\n",
       "      <td>149842</td>\n",
       "    </tr>\n",
       "    <tr>\n",
       "      <th>11</th>\n",
       "      <td>df2</td>\n",
       "      <td>df5</td>\n",
       "      <td>149842</td>\n",
       "    </tr>\n",
       "    <tr>\n",
       "      <th>12</th>\n",
       "      <td>df3</td>\n",
       "      <td>df4</td>\n",
       "      <td>149842</td>\n",
       "    </tr>\n",
       "    <tr>\n",
       "      <th>13</th>\n",
       "      <td>df3</td>\n",
       "      <td>df5</td>\n",
       "      <td>149842</td>\n",
       "    </tr>\n",
       "    <tr>\n",
       "      <th>14</th>\n",
       "      <td>df4</td>\n",
       "      <td>df5</td>\n",
       "      <td>149842</td>\n",
       "    </tr>\n",
       "  </tbody>\n",
       "</table>\n",
       "</div>"
      ],
      "text/plain": [
       "   DF ONE DF TWO  Changed Values\n",
       "0      df    df1          149842\n",
       "1      df    df2          149842\n",
       "2      df    df3          149842\n",
       "3      df    df4          149842\n",
       "4      df    df5          149842\n",
       "5     df1    df2          149842\n",
       "6     df1    df3          149842\n",
       "7     df1    df4          149842\n",
       "8     df1    df5          149842\n",
       "9     df2    df3          149842\n",
       "10    df2    df4          149842\n",
       "11    df2    df5          149842\n",
       "12    df3    df4          149842\n",
       "13    df3    df5          149842\n",
       "14    df4    df5          149842"
      ]
     },
     "execution_count": 55,
     "metadata": {},
     "output_type": "execute_result"
    }
   ],
   "source": [
    "pd.DataFrame(cols).head(20)"
   ]
  },
  {
   "cell_type": "markdown",
   "metadata": {},
   "source": [
    "## Save the Data Frames"
   ]
  },
  {
   "cell_type": "code",
   "execution_count": 56,
   "metadata": {},
   "outputs": [],
   "source": [
    "df.to_csv(\"../data/production/Full_clean.csv\")\n",
    "df1.to_csv(\"../data/production/Full_clean_imputed_1.csv\")\n",
    "df2.to_csv(\"../data/production/Full_clean_imputed_2.csv\")\n",
    "df3.to_csv(\"../data/production/Full_clean_imputed_3.csv\")\n",
    "df4.to_csv(\"../data/production/Full_clean_imputed_4.csv\")\n",
    "df5.to_csv(\"../data/production/Full_clean_imputed_5.csv\")"
   ]
  }
 ],
 "metadata": {
  "kernelspec": {
   "display_name": "Python 3",
   "language": "python",
   "name": "python3"
  },
  "language_info": {
   "codemirror_mode": {
    "name": "ipython",
    "version": 3
   },
   "file_extension": ".py",
   "mimetype": "text/x-python",
   "name": "python",
   "nbconvert_exporter": "python",
   "pygments_lexer": "ipython3",
   "version": "3.7.3"
  }
 },
 "nbformat": 4,
 "nbformat_minor": 2
}
