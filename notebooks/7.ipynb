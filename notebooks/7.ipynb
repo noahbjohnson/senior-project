{
 "cells": [
  {
   "cell_type": "markdown",
   "metadata": {},
   "source": [
    "# Inequality Data Processing (WIID)\n",
    "\n",
    "## Data Dictionary\n",
    "\n",
    "| Variable           | Definition                                                                                                                                                                                         |\n",
    "|--------------------|----------------------------------------------------------------------------------------------------------------------------------------------------------------------------------------------------|\n",
    "| id                 | Identifier                                                                                                                                                                                         |\n",
    "| country            | Country/area                                                                                                                                                                                       |\n",
    "| c3                 | 3-digit country code in ISO 3166-1 alpha-3 format                                                                                                                                                  |\n",
    "| c2                 | 2-digit country code in ISO 3166-1 alpha-2 format                                                                                                                                                  |\n",
    "| year               | Year. Note that when a survey continues for more than a year, the year when it is finished is considered                                                                                           |\n",
    "| gini_reported      | Gini coefficient as reported by the source (in most cases based on microdata, in some older observations estimates derive from grouped data)                                                       |\n",
    "| q1-q5              | Quintile group shares of resource                                                                                                                                                                  |\n",
    "| d1-d10             | Decile group shares of resource                                                                                                                                                                    |\n",
    "| bottom5 and top5   | Bottom five and top five percent group shares of resource                                                                                                                                          |\n",
    "| resource           | Resource concept                                                                                                                                                                                   |\n",
    "| resource_detailed  | Detailed resource concept                                                                                                                                                                          |\n",
    "| scale              | Equivalence scale                                                                                                                                                                                  |\n",
    "| scale_detailed     | Detailed equivalence scale                                                                                                                                                                         |\n",
    "| sharing_unit       | Income sharing unit/statistical unit                                                                                                                                                               |\n",
    "| reference_unit     | Unit of analysis, indicates whether the data has been weighted with a person or a household weight                                                                                                 |\n",
    "| areacovr           | Area coverage. The land area which was included in the original sample surveys etc.                                                                                                                |\n",
    "| areacovr_detailed  | Detailed area coverage                                                                                                                                                                             |\n",
    "| popcovr            | Population coverage. The population covered in the sample surveys in the land area (all, rural, urban etc.) which was included                                                                     |\n",
    "| popcovr_detailed   | Detailed population coverage, including age coverage information in certain cases                                                                                                                  |\n",
    "| region_un          | Regional grouping based on United Nations geoscheme                                                                                                                                                |\n",
    "| region_un_sub      | Sub-regional grouping based on United Nations geoscheme                                                                                                                                            |\n",
    "| region_wb          | Regional grouping based on World Bank classification                                                                                                                                               |\n",
    "| eu                 | Current EU member state                                                                                                                                                                            |\n",
    "| oecd               | Current OECD member state                                                                                                                                                                          |\n",
    "| incomegroup        | World Bank classification by country income                                                                                                                                                        |\n",
    "| mean               | Survey mean given with the same underlying definitions as the Gini coefficient and the share data                                                                                                  |\n",
    "| median             | Survey median given with the same underlying definitions as the Gini coefficient and the share data                                                                                                |\n",
    "| currency           | Currency for the mean and median values. If the reference is US$2011PPP it means that the currency is in 2011 US dollar per month, with purchasing power parity applied on it.                     |\n",
    "| reference_period   | Time period for measuring mean and median values                                                                                                                                                   |\n",
    "| exchangerate       | Conversion rate from local currency units (LCU) to United States Dollars (USD)                                                                                                                     |\n",
    "| mean_usd           | Mean measure in United States Dollar (USD)                                                                                                                                                         |\n",
    "| median_usd         | Median measure in United States Dollar (USD)                                                                                                                                                       |\n",
    "| gdp_ppp_pc_usd2011 | Gross Domestic Product (GDP) is converted to United States Dollars (USD) using purchasing power parity rates and divided by total population. Data are in constant 2011 United States Dollar (USD) |\n",
    "| population         | Population of countries from the UN population prospects                                                                                                                                           |\n",
    "| revision           | Indicates the time of the revision when the observation was included to the database                                                                                                               |\n",
    "| quality            | Quality assessment                                                                                                                                                                                 |\n",
    "| quality_score      | Computed quality score                                                                                                                                                                             |\n",
    "| source             | Source type                                                                                                                                                                                        |\n",
    "| source_detailed    | Source from which the observation was obtained                                                                                                                                                     |\n",
    "| source_comments    | Additional source comments                                                                                                                                                                         |\n",
    "| survey             | Originating survey information                                                                                                                                                                     |"
   ]
  },
  {
   "cell_type": "code",
   "execution_count": 1,
   "metadata": {},
   "outputs": [],
   "source": [
    "import re\n",
    "\n",
    "import numpy as np\n",
    "import pandas as pd\n",
    "import pycountry\n",
    "\n",
    "%matplotlib inline\n",
    "\n",
    "pd.set_option('display.float_format', lambda x: '%.3f' % x)\n",
    "pd.set_option('display.max_columns', None)"
   ]
  },
  {
   "cell_type": "markdown",
   "metadata": {},
   "source": [
    "## Load The File"
   ]
  },
  {
   "cell_type": "code",
   "execution_count": 2,
   "metadata": {},
   "outputs": [],
   "source": [
    "df = pd.read_excel('../data/external/Inequality/WIID/WIID_19Dec2018.xlsx')"
   ]
  },
  {
   "cell_type": "markdown",
   "metadata": {},
   "source": [
    "## Standardize Country Codes"
   ]
  },
  {
   "cell_type": "code",
   "execution_count": 3,
   "metadata": {},
   "outputs": [],
   "source": [
    "\"\"\" Only Select rows with valid country codes\n",
    "\"\"\"\n",
    "country_locations = []\n",
    "for country in df['c3']:\n",
    "    try:\n",
    "        pycountry.countries.lookup(country)\n",
    "        country_locations.append(True)\n",
    "    except LookupError:\n",
    "        country_locations.append(False)\n",
    "df = df[country_locations]"
   ]
  },
  {
   "cell_type": "markdown",
   "metadata": {},
   "source": [
    "## Standardize Indexes"
   ]
  },
  {
   "cell_type": "code",
   "execution_count": 4,
   "metadata": {},
   "outputs": [],
   "source": [
    "df.rename(\n",
    "    {\n",
    "        \"c3\": \"Country Code\",\n",
    "        \"year\": \"Year\"\n",
    "    },\n",
    "    axis='columns',\n",
    "    inplace=True)"
   ]
  },
  {
   "cell_type": "markdown",
   "metadata": {},
   "source": [
    "## Remove out of scope rows (consumption/gross)"
   ]
  },
  {
   "cell_type": "code",
   "execution_count": 5,
   "metadata": {},
   "outputs": [],
   "source": [
    "df = df[(df.resource != \"Consumption\")]"
   ]
  },
  {
   "cell_type": "markdown",
   "metadata": {},
   "source": [
    "## Remove out of scope rows by year"
   ]
  },
  {
   "cell_type": "code",
   "execution_count": 6,
   "metadata": {},
   "outputs": [],
   "source": [
    "df = df[df[\"Year\"] > 1994]\n",
    "df = df[df[\"Year\"] < 2018]\n",
    "\n",
    "df = df.groupby([\"Country Code\",\"Year\"]).mean()"
   ]
  },
  {
   "cell_type": "markdown",
   "metadata": {},
   "source": [
    "## Save Data"
   ]
  },
  {
   "cell_type": "code",
   "execution_count": 7,
   "metadata": {},
   "outputs": [],
   "source": [
    "df.to_pickle(\"../data/processed/Inequality_WIID.pickle\")"
   ]
  }
 ],
 "metadata": {
  "hide_input": false,
  "kernelspec": {
   "display_name": "Python 3",
   "language": "python",
   "name": "python3"
  },
  "language_info": {
   "codemirror_mode": {
    "name": "ipython",
    "version": 3
   },
   "file_extension": ".py",
   "mimetype": "text/x-python",
   "name": "python",
   "nbconvert_exporter": "python",
   "pygments_lexer": "ipython3",
   "version": "3.7.1"
  }
 },
 "nbformat": 4,
 "nbformat_minor": 2
}
