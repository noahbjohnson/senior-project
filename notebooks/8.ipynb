{
 "cells": [
  {
   "cell_type": "markdown",
   "metadata": {},
   "source": [
    "# Education Data Processing (WDI)\n",
    "## Data Dictionary\n",
    "| Code              | Indicator Name                                                              |\n",
    "|-------------------|-----------------------------------------------------------------------------|\n",
    "| SE.ENR.PRSC.FM.ZS | School enrollment, primary and secondary (gross), gender parity index (GPI) |\n",
    "| SE.ADT.LITR.ZS    | Literacy rate, adult total (% of people ages 15 and above)                  |\n",
    "| SE.COM.DURS       | Compulsory education, duration (years)                                      |\n",
    "| SE.PRM.UNER.ZS    | Children out of school (% of primary school age)                            |\n",
    "| SE.PRM.ENRL.TC.ZS | Pupil-teacher ratio, primary                                                |\n",
    "| SE.SEC.ENRL.TC.ZS | Pupil-teacher ratio, secondary                                              |\n",
    "| SE.SEC.NENR       | School enrollment, secondary (% net)                                        |"
   ]
  },
  {
   "cell_type": "code",
   "execution_count": 1,
   "metadata": {},
   "outputs": [],
   "source": [
    "import re\n",
    "\n",
    "import numpy as np\n",
    "import pandas as pd\n",
    "import pycountry\n",
    "\n",
    "%matplotlib inline\n",
    "\n",
    "pd.set_option('display.float_format', lambda x: '%.3f' % x)"
   ]
  },
  {
   "cell_type": "markdown",
   "metadata": {},
   "source": [
    "## Load The File"
   ]
  },
  {
   "cell_type": "code",
   "execution_count": 2,
   "metadata": {},
   "outputs": [],
   "source": [
    "df = pd.read_excel(\"../data/external/Education/WDI/Data_Extract_From_World_Development_Indicators.xlsx\")"
   ]
  },
  {
   "cell_type": "code",
   "execution_count": 3,
   "metadata": {},
   "outputs": [
    {
     "data": {
      "text/html": [
       "<div>\n",
       "<style scoped>\n",
       "    .dataframe tbody tr th:only-of-type {\n",
       "        vertical-align: middle;\n",
       "    }\n",
       "\n",
       "    .dataframe tbody tr th {\n",
       "        vertical-align: top;\n",
       "    }\n",
       "\n",
       "    .dataframe thead th {\n",
       "        text-align: right;\n",
       "    }\n",
       "</style>\n",
       "<table border=\"1\" class=\"dataframe\">\n",
       "  <thead>\n",
       "    <tr style=\"text-align: right;\">\n",
       "      <th></th>\n",
       "      <th>Time</th>\n",
       "      <th>Time Code</th>\n",
       "      <th>Country Name</th>\n",
       "      <th>Country Code</th>\n",
       "      <th>School enrollment, primary and secondary (gross), gender parity index (GPI) [SE.ENR.PRSC.FM.ZS]</th>\n",
       "      <th>Literacy rate, adult total (% of people ages 15 and above) [SE.ADT.LITR.ZS]</th>\n",
       "      <th>Compulsory education, duration (years) [SE.COM.DURS]</th>\n",
       "      <th>Children out of school (% of primary school age) [SE.PRM.UNER.ZS]</th>\n",
       "      <th>Pupil-teacher ratio, primary [SE.PRM.ENRL.TC.ZS]</th>\n",
       "      <th>Pupil-teacher ratio, secondary [SE.SEC.ENRL.TC.ZS]</th>\n",
       "      <th>School enrollment, secondary (% net) [SE.SEC.NENR]</th>\n",
       "    </tr>\n",
       "  </thead>\n",
       "  <tbody>\n",
       "    <tr>\n",
       "      <th>2359</th>\n",
       "      <td>2003</td>\n",
       "      <td>YR2003</td>\n",
       "      <td>Middle East &amp; North Africa (IDA &amp; IBRD countries)</td>\n",
       "      <td>TMN</td>\n",
       "      <td>0.914</td>\n",
       "      <td>71.843</td>\n",
       "      <td>9</td>\n",
       "      <td>9.910</td>\n",
       "      <td>23.312</td>\n",
       "      <td>19.504</td>\n",
       "      <td>62.504</td>\n",
       "    </tr>\n",
       "    <tr>\n",
       "      <th>2941</th>\n",
       "      <td>2006</td>\n",
       "      <td>YR2006</td>\n",
       "      <td>Belize</td>\n",
       "      <td>BLZ</td>\n",
       "      <td>0.994</td>\n",
       "      <td>..</td>\n",
       "      <td>8</td>\n",
       "      <td>4.284</td>\n",
       "      <td>22.939</td>\n",
       "      <td>17.280</td>\n",
       "      <td>64.775</td>\n",
       "    </tr>\n",
       "    <tr>\n",
       "      <th>160</th>\n",
       "      <td>1995</td>\n",
       "      <td>YR1995</td>\n",
       "      <td>Paraguay</td>\n",
       "      <td>PRY</td>\n",
       "      <td>0.992</td>\n",
       "      <td>..</td>\n",
       "      <td>..</td>\n",
       "      <td>8.295</td>\n",
       "      <td>22.306</td>\n",
       "      <td>..</td>\n",
       "      <td>..</td>\n",
       "    </tr>\n",
       "    <tr>\n",
       "      <th>4721</th>\n",
       "      <td>2012</td>\n",
       "      <td>YR2012</td>\n",
       "      <td>IDA &amp; IBRD total</td>\n",
       "      <td>IBT</td>\n",
       "      <td>0.973</td>\n",
       "      <td>82.460</td>\n",
       "      <td>9</td>\n",
       "      <td>9.658</td>\n",
       "      <td>26.306</td>\n",
       "      <td>18.224</td>\n",
       "      <td>60.644</td>\n",
       "    </tr>\n",
       "    <tr>\n",
       "      <th>1848</th>\n",
       "      <td>2002</td>\n",
       "      <td>YR2002</td>\n",
       "      <td>Argentina</td>\n",
       "      <td>ARG</td>\n",
       "      <td>1.024</td>\n",
       "      <td>..</td>\n",
       "      <td>10</td>\n",
       "      <td>..</td>\n",
       "      <td>17.596</td>\n",
       "      <td>17.041</td>\n",
       "      <td>79.362</td>\n",
       "    </tr>\n",
       "  </tbody>\n",
       "</table>\n",
       "</div>"
      ],
      "text/plain": [
       "      Time Time Code                                       Country Name  \\\n",
       "2359  2003    YR2003  Middle East & North Africa (IDA & IBRD countries)   \n",
       "2941  2006    YR2006                                             Belize   \n",
       "160   1995    YR1995                                           Paraguay   \n",
       "4721  2012    YR2012                                   IDA & IBRD total   \n",
       "1848  2002    YR2002                                          Argentina   \n",
       "\n",
       "     Country Code  \\\n",
       "2359          TMN   \n",
       "2941          BLZ   \n",
       "160           PRY   \n",
       "4721          IBT   \n",
       "1848          ARG   \n",
       "\n",
       "     School enrollment, primary and secondary (gross), gender parity index (GPI) [SE.ENR.PRSC.FM.ZS]  \\\n",
       "2359                                              0.914                                                \n",
       "2941                                              0.994                                                \n",
       "160                                               0.992                                                \n",
       "4721                                              0.973                                                \n",
       "1848                                              1.024                                                \n",
       "\n",
       "     Literacy rate, adult total (% of people ages 15 and above) [SE.ADT.LITR.ZS]  \\\n",
       "2359                                             71.843                            \n",
       "2941                                                 ..                            \n",
       "160                                                  ..                            \n",
       "4721                                             82.460                            \n",
       "1848                                                 ..                            \n",
       "\n",
       "     Compulsory education, duration (years) [SE.COM.DURS]  \\\n",
       "2359                                                  9     \n",
       "2941                                                  8     \n",
       "160                                                  ..     \n",
       "4721                                                  9     \n",
       "1848                                                 10     \n",
       "\n",
       "     Children out of school (% of primary school age) [SE.PRM.UNER.ZS]  \\\n",
       "2359                                              9.910                  \n",
       "2941                                              4.284                  \n",
       "160                                               8.295                  \n",
       "4721                                              9.658                  \n",
       "1848                                                 ..                  \n",
       "\n",
       "     Pupil-teacher ratio, primary [SE.PRM.ENRL.TC.ZS]  \\\n",
       "2359                                           23.312   \n",
       "2941                                           22.939   \n",
       "160                                            22.306   \n",
       "4721                                           26.306   \n",
       "1848                                           17.596   \n",
       "\n",
       "     Pupil-teacher ratio, secondary [SE.SEC.ENRL.TC.ZS]  \\\n",
       "2359                                             19.504   \n",
       "2941                                             17.280   \n",
       "160                                                  ..   \n",
       "4721                                             18.224   \n",
       "1848                                             17.041   \n",
       "\n",
       "     School enrollment, secondary (% net) [SE.SEC.NENR]  \n",
       "2359                                             62.504  \n",
       "2941                                             64.775  \n",
       "160                                                  ..  \n",
       "4721                                             60.644  \n",
       "1848                                             79.362  "
      ]
     },
     "execution_count": 3,
     "metadata": {},
     "output_type": "execute_result"
    }
   ],
   "source": [
    "df.sample(5)"
   ]
  },
  {
   "cell_type": "markdown",
   "metadata": {},
   "source": [
    "## Standardize Country Codes"
   ]
  },
  {
   "cell_type": "code",
   "execution_count": 4,
   "metadata": {},
   "outputs": [],
   "source": [
    "\"\"\" Only Select rows with valid country codes\n",
    "\"\"\"\n",
    "country_locations = []\n",
    "for country in df['Country Code']:\n",
    "    try:\n",
    "        pycountry.countries.lookup(country)\n",
    "        country_locations.append(True)\n",
    "    except LookupError:\n",
    "        country_locations.append(False)\n",
    "df = df[country_locations]"
   ]
  },
  {
   "cell_type": "markdown",
   "metadata": {},
   "source": [
    "## Standardize Indexes"
   ]
  },
  {
   "cell_type": "code",
   "execution_count": 5,
   "metadata": {},
   "outputs": [],
   "source": [
    "df.rename(\n",
    "    {\n",
    "        \"Time\": \"Year\"\n",
    "    },\n",
    "    axis='columns',\n",
    "    inplace=True)"
   ]
  },
  {
   "cell_type": "code",
   "execution_count": 6,
   "metadata": {},
   "outputs": [],
   "source": [
    "df.set_index([\"Country Code\", \"Year\"], inplace=True)"
   ]
  },
  {
   "cell_type": "markdown",
   "metadata": {},
   "source": [
    "## Clean Data"
   ]
  },
  {
   "cell_type": "markdown",
   "metadata": {},
   "source": [
    "### Header"
   ]
  },
  {
   "cell_type": "code",
   "execution_count": 7,
   "metadata": {},
   "outputs": [],
   "source": [
    "df.drop([\"Time Code\", \"Country Name\"],\n",
    "        axis='columns',\n",
    "        inplace=True)"
   ]
  },
  {
   "cell_type": "code",
   "execution_count": 8,
   "metadata": {},
   "outputs": [],
   "source": [
    "c = [ re.search(r\"\\[(\\w+\\.)+\\w+\\]\",d)[0].replace(\"[\",\"\").replace(\"]\",\"\") for d in df.columns ]"
   ]
  },
  {
   "cell_type": "code",
   "execution_count": 9,
   "metadata": {},
   "outputs": [],
   "source": [
    "c_names = {}\n",
    "for x in range(len(c)):\n",
    "    c_names[df.columns[x]] = c[x]"
   ]
  },
  {
   "cell_type": "code",
   "execution_count": 10,
   "metadata": {},
   "outputs": [],
   "source": [
    "df.rename(c_names,axis='columns',inplace=True)"
   ]
  },
  {
   "cell_type": "markdown",
   "metadata": {},
   "source": [
    "### Data Types"
   ]
  },
  {
   "cell_type": "code",
   "execution_count": 11,
   "metadata": {},
   "outputs": [],
   "source": [
    "\"\"\" Replace '..' with np.nan for better parsing\n",
    "\"\"\"\n",
    "df = df.replace('..', np.NaN)"
   ]
  },
  {
   "cell_type": "code",
   "execution_count": 12,
   "metadata": {},
   "outputs": [],
   "source": [
    "df = df.astype(float)"
   ]
  },
  {
   "cell_type": "code",
   "execution_count": 13,
   "metadata": {},
   "outputs": [
    {
     "data": {
      "text/html": [
       "<div>\n",
       "<style scoped>\n",
       "    .dataframe tbody tr th:only-of-type {\n",
       "        vertical-align: middle;\n",
       "    }\n",
       "\n",
       "    .dataframe tbody tr th {\n",
       "        vertical-align: top;\n",
       "    }\n",
       "\n",
       "    .dataframe thead th {\n",
       "        text-align: right;\n",
       "    }\n",
       "</style>\n",
       "<table border=\"1\" class=\"dataframe\">\n",
       "  <thead>\n",
       "    <tr style=\"text-align: right;\">\n",
       "      <th></th>\n",
       "      <th></th>\n",
       "      <th>SE.ENR.PRSC.FM.ZS</th>\n",
       "      <th>SE.ADT.LITR.ZS</th>\n",
       "      <th>SE.COM.DURS</th>\n",
       "      <th>SE.PRM.UNER.ZS</th>\n",
       "      <th>SE.PRM.ENRL.TC.ZS</th>\n",
       "      <th>SE.SEC.ENRL.TC.ZS</th>\n",
       "      <th>SE.SEC.NENR</th>\n",
       "    </tr>\n",
       "    <tr>\n",
       "      <th>Country Code</th>\n",
       "      <th>Year</th>\n",
       "      <th></th>\n",
       "      <th></th>\n",
       "      <th></th>\n",
       "      <th></th>\n",
       "      <th></th>\n",
       "      <th></th>\n",
       "      <th></th>\n",
       "    </tr>\n",
       "  </thead>\n",
       "  <tbody>\n",
       "    <tr>\n",
       "      <th>NCL</th>\n",
       "      <th>2017</th>\n",
       "      <td>nan</td>\n",
       "      <td>nan</td>\n",
       "      <td>nan</td>\n",
       "      <td>nan</td>\n",
       "      <td>nan</td>\n",
       "      <td>nan</td>\n",
       "      <td>nan</td>\n",
       "    </tr>\n",
       "    <tr>\n",
       "      <th>KWT</th>\n",
       "      <th>2011</th>\n",
       "      <td>0.987</td>\n",
       "      <td>nan</td>\n",
       "      <td>9.000</td>\n",
       "      <td>0.900</td>\n",
       "      <td>8.609</td>\n",
       "      <td>nan</td>\n",
       "      <td>86.078</td>\n",
       "    </tr>\n",
       "    <tr>\n",
       "      <th>KNA</th>\n",
       "      <th>2010</th>\n",
       "      <td>nan</td>\n",
       "      <td>nan</td>\n",
       "      <td>12.000</td>\n",
       "      <td>nan</td>\n",
       "      <td>14.120</td>\n",
       "      <td>9.267</td>\n",
       "      <td>nan</td>\n",
       "    </tr>\n",
       "    <tr>\n",
       "      <th>MAR</th>\n",
       "      <th>2000</th>\n",
       "      <td>0.832</td>\n",
       "      <td>nan</td>\n",
       "      <td>9.000</td>\n",
       "      <td>23.722</td>\n",
       "      <td>28.763</td>\n",
       "      <td>16.973</td>\n",
       "      <td>nan</td>\n",
       "    </tr>\n",
       "    <tr>\n",
       "      <th>GEO</th>\n",
       "      <th>2010</th>\n",
       "      <td>nan</td>\n",
       "      <td>nan</td>\n",
       "      <td>9.000</td>\n",
       "      <td>nan</td>\n",
       "      <td>nan</td>\n",
       "      <td>nan</td>\n",
       "      <td>nan</td>\n",
       "    </tr>\n",
       "  </tbody>\n",
       "</table>\n",
       "</div>"
      ],
      "text/plain": [
       "                   SE.ENR.PRSC.FM.ZS  SE.ADT.LITR.ZS  SE.COM.DURS  \\\n",
       "Country Code Year                                                   \n",
       "NCL          2017                nan             nan          nan   \n",
       "KWT          2011              0.987             nan        9.000   \n",
       "KNA          2010                nan             nan       12.000   \n",
       "MAR          2000              0.832             nan        9.000   \n",
       "GEO          2010                nan             nan        9.000   \n",
       "\n",
       "                   SE.PRM.UNER.ZS  SE.PRM.ENRL.TC.ZS  SE.SEC.ENRL.TC.ZS  \\\n",
       "Country Code Year                                                         \n",
       "NCL          2017             nan                nan                nan   \n",
       "KWT          2011           0.900              8.609                nan   \n",
       "KNA          2010             nan             14.120              9.267   \n",
       "MAR          2000          23.722             28.763             16.973   \n",
       "GEO          2010             nan                nan                nan   \n",
       "\n",
       "                   SE.SEC.NENR  \n",
       "Country Code Year               \n",
       "NCL          2017          nan  \n",
       "KWT          2011       86.078  \n",
       "KNA          2010          nan  \n",
       "MAR          2000          nan  \n",
       "GEO          2010          nan  "
      ]
     },
     "execution_count": 13,
     "metadata": {},
     "output_type": "execute_result"
    }
   ],
   "source": [
    "df.sample(5)"
   ]
  },
  {
   "cell_type": "markdown",
   "metadata": {},
   "source": [
    "## Save Data"
   ]
  },
  {
   "cell_type": "code",
   "execution_count": 14,
   "metadata": {},
   "outputs": [],
   "source": [
    "df.to_pickle(\"../data/processed/Education_WDI.pickle\")"
   ]
  }
 ],
 "metadata": {
  "hide_input": false,
  "kernelspec": {
   "display_name": "Python 3",
   "language": "python",
   "name": "python3"
  },
  "language_info": {
   "codemirror_mode": {
    "name": "ipython",
    "version": 3
   },
   "file_extension": ".py",
   "mimetype": "text/x-python",
   "name": "python",
   "nbconvert_exporter": "python",
   "pygments_lexer": "ipython3",
   "version": "3.7.1"
  }
 },
 "nbformat": 4,
 "nbformat_minor": 2
}
