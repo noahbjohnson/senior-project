{
 "cells": [
  {
   "cell_type": "markdown",
   "metadata": {},
   "source": [
    "# Inequality Data Processing (WDI)\n",
    "\n",
    "## Data Dictionary\n",
    "\n",
    "| Code           | Indicator Name                                  |\n",
    "|----------------|-------------------------------------------------|\n",
    "| SI.POV.GINI    | GINI index (World Bank estimate)                |\n",
    "| SI.POV.RUGP    | Rural poverty gap at national poverty lines (%) |\n",
    "| SI.POV.URGP    | Urban poverty gap at national poverty lines (%) |\n",
    "| SI.POV.NAGP    | Poverty gap at national poverty lines (%)       |\n",
    "| SI.DST.10TH.10 | Income share held by highest 10%                |\n",
    "| SI.DST.FRST.10 | Income share held by lowest 10%                 |"
   ]
  },
  {
   "cell_type": "code",
   "execution_count": 1,
   "metadata": {},
   "outputs": [],
   "source": [
    "import re\n",
    "\n",
    "import numpy as np\n",
    "import pandas as pd\n",
    "import pycountry\n",
    "\n",
    "%matplotlib inline\n",
    "\n",
    "pd.set_option('display.float_format', lambda x: '%.3f' % x)"
   ]
  },
  {
   "cell_type": "markdown",
   "metadata": {},
   "source": [
    "## Load The File"
   ]
  },
  {
   "cell_type": "code",
   "execution_count": 2,
   "metadata": {},
   "outputs": [],
   "source": [
    "df = pd.read_excel('../data/external/Inequality/WDI/Data_Extract_From_Poverty_and_Equity.xlsx')"
   ]
  },
  {
   "cell_type": "markdown",
   "metadata": {},
   "source": [
    "## Standardize Country Codes"
   ]
  },
  {
   "cell_type": "code",
   "execution_count": 3,
   "metadata": {},
   "outputs": [],
   "source": [
    "\"\"\" Only Select rows with valid country codes\n",
    "\"\"\"\n",
    "country_locations = []\n",
    "for country in df['Country Code']:\n",
    "    try:\n",
    "        pycountry.countries.lookup(country)\n",
    "        country_locations.append(True)\n",
    "    except LookupError:\n",
    "        country_locations.append(False)\n",
    "df = df[country_locations]"
   ]
  },
  {
   "cell_type": "markdown",
   "metadata": {},
   "source": [
    "## Standardize Indexes"
   ]
  },
  {
   "cell_type": "code",
   "execution_count": 4,
   "metadata": {},
   "outputs": [],
   "source": [
    "df.set_index([\"Country Code\", \"Year\"], inplace=True)"
   ]
  },
  {
   "cell_type": "markdown",
   "metadata": {},
   "source": [
    "## Clean Data"
   ]
  },
  {
   "cell_type": "markdown",
   "metadata": {},
   "source": [
    "### Header"
   ]
  },
  {
   "cell_type": "code",
   "execution_count": 5,
   "metadata": {},
   "outputs": [
    {
     "data": {
      "text/html": [
       "<div>\n",
       "<style scoped>\n",
       "    .dataframe tbody tr th:only-of-type {\n",
       "        vertical-align: middle;\n",
       "    }\n",
       "\n",
       "    .dataframe tbody tr th {\n",
       "        vertical-align: top;\n",
       "    }\n",
       "\n",
       "    .dataframe thead th {\n",
       "        text-align: right;\n",
       "    }\n",
       "</style>\n",
       "<table border=\"1\" class=\"dataframe\">\n",
       "  <thead>\n",
       "    <tr style=\"text-align: right;\">\n",
       "      <th></th>\n",
       "      <th></th>\n",
       "      <th>Year Code</th>\n",
       "      <th>Country</th>\n",
       "      <th>GINI index (World Bank estimate) [SI.POV.GINI]</th>\n",
       "      <th>Rural poverty gap at national poverty lines (%) [SI.POV.RUGP]</th>\n",
       "      <th>Urban poverty gap at national poverty lines (%) [SI.POV.URGP]</th>\n",
       "      <th>Poverty gap at national poverty lines (%) [SI.POV.NAGP]</th>\n",
       "      <th>Income share held by highest 10% [SI.DST.10TH.10]</th>\n",
       "      <th>Income share held by lowest 10% [SI.DST.FRST.10]</th>\n",
       "    </tr>\n",
       "    <tr>\n",
       "      <th>Country Code</th>\n",
       "      <th>Year</th>\n",
       "      <th></th>\n",
       "      <th></th>\n",
       "      <th></th>\n",
       "      <th></th>\n",
       "      <th></th>\n",
       "      <th></th>\n",
       "      <th></th>\n",
       "      <th></th>\n",
       "    </tr>\n",
       "  </thead>\n",
       "  <tbody>\n",
       "    <tr>\n",
       "      <th>AFG</th>\n",
       "      <th>1994</th>\n",
       "      <td>YR1994</td>\n",
       "      <td>Afghanistan</td>\n",
       "      <td>..</td>\n",
       "      <td>..</td>\n",
       "      <td>..</td>\n",
       "      <td>..</td>\n",
       "      <td>..</td>\n",
       "      <td>..</td>\n",
       "    </tr>\n",
       "    <tr>\n",
       "      <th>ALB</th>\n",
       "      <th>1994</th>\n",
       "      <td>YR1994</td>\n",
       "      <td>Albania</td>\n",
       "      <td>..</td>\n",
       "      <td>..</td>\n",
       "      <td>..</td>\n",
       "      <td>..</td>\n",
       "      <td>..</td>\n",
       "      <td>..</td>\n",
       "    </tr>\n",
       "    <tr>\n",
       "      <th>DZA</th>\n",
       "      <th>1994</th>\n",
       "      <td>YR1994</td>\n",
       "      <td>Algeria</td>\n",
       "      <td>..</td>\n",
       "      <td>..</td>\n",
       "      <td>..</td>\n",
       "      <td>..</td>\n",
       "      <td>..</td>\n",
       "      <td>..</td>\n",
       "    </tr>\n",
       "    <tr>\n",
       "      <th>AGO</th>\n",
       "      <th>1994</th>\n",
       "      <td>YR1994</td>\n",
       "      <td>Angola</td>\n",
       "      <td>..</td>\n",
       "      <td>..</td>\n",
       "      <td>..</td>\n",
       "      <td>..</td>\n",
       "      <td>..</td>\n",
       "      <td>..</td>\n",
       "    </tr>\n",
       "    <tr>\n",
       "      <th>ARG</th>\n",
       "      <th>1994</th>\n",
       "      <td>YR1994</td>\n",
       "      <td>Argentina</td>\n",
       "      <td>45.900</td>\n",
       "      <td>..</td>\n",
       "      <td>..</td>\n",
       "      <td>..</td>\n",
       "      <td>34.400</td>\n",
       "      <td>1.500</td>\n",
       "    </tr>\n",
       "  </tbody>\n",
       "</table>\n",
       "</div>"
      ],
      "text/plain": [
       "                  Year Code      Country  \\\n",
       "Country Code Year                          \n",
       "AFG          1994    YR1994  Afghanistan   \n",
       "ALB          1994    YR1994      Albania   \n",
       "DZA          1994    YR1994      Algeria   \n",
       "AGO          1994    YR1994       Angola   \n",
       "ARG          1994    YR1994    Argentina   \n",
       "\n",
       "                  GINI index (World Bank estimate) [SI.POV.GINI]  \\\n",
       "Country Code Year                                                  \n",
       "AFG          1994                                             ..   \n",
       "ALB          1994                                             ..   \n",
       "DZA          1994                                             ..   \n",
       "AGO          1994                                             ..   \n",
       "ARG          1994                                         45.900   \n",
       "\n",
       "                  Rural poverty gap at national poverty lines (%) [SI.POV.RUGP]  \\\n",
       "Country Code Year                                                                 \n",
       "AFG          1994                                                 ..              \n",
       "ALB          1994                                                 ..              \n",
       "DZA          1994                                                 ..              \n",
       "AGO          1994                                                 ..              \n",
       "ARG          1994                                                 ..              \n",
       "\n",
       "                  Urban poverty gap at national poverty lines (%) [SI.POV.URGP]  \\\n",
       "Country Code Year                                                                 \n",
       "AFG          1994                                                 ..              \n",
       "ALB          1994                                                 ..              \n",
       "DZA          1994                                                 ..              \n",
       "AGO          1994                                                 ..              \n",
       "ARG          1994                                                 ..              \n",
       "\n",
       "                  Poverty gap at national poverty lines (%) [SI.POV.NAGP]  \\\n",
       "Country Code Year                                                           \n",
       "AFG          1994                                                 ..        \n",
       "ALB          1994                                                 ..        \n",
       "DZA          1994                                                 ..        \n",
       "AGO          1994                                                 ..        \n",
       "ARG          1994                                                 ..        \n",
       "\n",
       "                  Income share held by highest 10% [SI.DST.10TH.10]  \\\n",
       "Country Code Year                                                     \n",
       "AFG          1994                                                ..   \n",
       "ALB          1994                                                ..   \n",
       "DZA          1994                                                ..   \n",
       "AGO          1994                                                ..   \n",
       "ARG          1994                                            34.400   \n",
       "\n",
       "                  Income share held by lowest 10% [SI.DST.FRST.10]  \n",
       "Country Code Year                                                   \n",
       "AFG          1994                                               ..  \n",
       "ALB          1994                                               ..  \n",
       "DZA          1994                                               ..  \n",
       "AGO          1994                                               ..  \n",
       "ARG          1994                                            1.500  "
      ]
     },
     "execution_count": 5,
     "metadata": {},
     "output_type": "execute_result"
    }
   ],
   "source": [
    "df.head()"
   ]
  },
  {
   "cell_type": "code",
   "execution_count": 6,
   "metadata": {},
   "outputs": [],
   "source": [
    "df.drop([\"Year Code\", \"Country\"],\n",
    "        axis='columns',\n",
    "        inplace=True)"
   ]
  },
  {
   "cell_type": "code",
   "execution_count": 7,
   "metadata": {},
   "outputs": [],
   "source": [
    "c = [ re.search(r\"\\[(\\w+\\.)+\\w+\\]\",d)[0].replace(\"[\",\"\").replace(\"]\",\"\") for d in df.columns ]\n",
    "c_names = {}\n",
    "for x in range(len(c)):\n",
    "    c_names[df.columns[x]] = c[x]\n",
    "df.rename(c_names,axis='columns',inplace=True)"
   ]
  },
  {
   "cell_type": "markdown",
   "metadata": {},
   "source": [
    "### Data Types"
   ]
  },
  {
   "cell_type": "code",
   "execution_count": 8,
   "metadata": {},
   "outputs": [],
   "source": [
    "\"\"\" Replace '..' with np.nan for better parsing\n",
    "\"\"\"\n",
    "df = df.replace('..', np.NaN)\n",
    "df = df.astype(float)"
   ]
  },
  {
   "cell_type": "markdown",
   "metadata": {},
   "source": [
    "## Save Data"
   ]
  },
  {
   "cell_type": "code",
   "execution_count": 9,
   "metadata": {},
   "outputs": [],
   "source": [
    "df.to_pickle(\"../data/processed/Inequality_WDI.pickle\")"
   ]
  }
 ],
 "metadata": {
  "hide_input": false,
  "kernelspec": {
   "display_name": "Python 3",
   "language": "python",
   "name": "python3"
  },
  "language_info": {
   "codemirror_mode": {
    "name": "ipython",
    "version": 3
   },
   "file_extension": ".py",
   "mimetype": "text/x-python",
   "name": "python",
   "nbconvert_exporter": "python",
   "pygments_lexer": "ipython3",
   "version": "3.7.1"
  }
 },
 "nbformat": 4,
 "nbformat_minor": 2
}
