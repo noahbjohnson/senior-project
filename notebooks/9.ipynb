{
 "cells": [
  {
   "cell_type": "markdown",
   "metadata": {},
   "source": [
    "# Urbanization Data Processing (UNPD)\n",
    "## Data Dictionary\n",
    "| Code              | Indicator Name                                                                    |\n",
    "|-------------------|-----------------------------------------------------------------------------------|\n",
    "| SP.URB.TOTL.IN.ZS | Urban population (% of total)                                                     |\n",
    "| SP.URB.GROW       | Urban population growth (annual %)                                                |\n",
    "| EN.POP.SLUM.UR.ZS | Population living in slums (% of urban population)                                |\n",
    "| EN.URB.MCTY.TL.ZS | Population in urban agglomerations of more than 1 million (% of total population) |\n",
    "| EN.URB.LCTY.UR.ZS | Population in the largest city (% of urban population)                            |"
   ]
  },
  {
   "cell_type": "code",
   "execution_count": 1,
   "metadata": {},
   "outputs": [],
   "source": [
    "import re\n",
    "\n",
    "import numpy as np\n",
    "import pandas as pd\n",
    "import pycountry\n",
    "\n",
    "%matplotlib inline\n",
    "\n",
    "pd.set_option('display.float_format', lambda x: '%.3f' % x)"
   ]
  },
  {
   "cell_type": "markdown",
   "metadata": {},
   "source": [
    "## Load The File"
   ]
  },
  {
   "cell_type": "code",
   "execution_count": 2,
   "metadata": {},
   "outputs": [],
   "source": [
    "df = pd.read_excel(\"../data/external/Urbanization/UNPD/Data_Extract_From_World_Development_Indicators.xlsx\")"
   ]
  },
  {
   "cell_type": "code",
   "execution_count": 3,
   "metadata": {},
   "outputs": [
    {
     "data": {
      "text/html": [
       "<div>\n",
       "<style scoped>\n",
       "    .dataframe tbody tr th:only-of-type {\n",
       "        vertical-align: middle;\n",
       "    }\n",
       "\n",
       "    .dataframe tbody tr th {\n",
       "        vertical-align: top;\n",
       "    }\n",
       "\n",
       "    .dataframe thead th {\n",
       "        text-align: right;\n",
       "    }\n",
       "</style>\n",
       "<table border=\"1\" class=\"dataframe\">\n",
       "  <thead>\n",
       "    <tr style=\"text-align: right;\">\n",
       "      <th></th>\n",
       "      <th>Time</th>\n",
       "      <th>Time Code</th>\n",
       "      <th>Country Name</th>\n",
       "      <th>Country Code</th>\n",
       "      <th>Urban population (% of total) [SP.URB.TOTL.IN.ZS]</th>\n",
       "      <th>Urban population growth (annual %) [SP.URB.GROW]</th>\n",
       "      <th>Population living in slums (% of urban population) [EN.POP.SLUM.UR.ZS]</th>\n",
       "      <th>Population in urban agglomerations of more than 1 million (% of total population) [EN.URB.MCTY.TL.ZS]</th>\n",
       "      <th>Population in the largest city (% of urban population) [EN.URB.LCTY.UR.ZS]</th>\n",
       "    </tr>\n",
       "  </thead>\n",
       "  <tbody>\n",
       "    <tr>\n",
       "      <th>355</th>\n",
       "      <td>1995</td>\n",
       "      <td>YR1995</td>\n",
       "      <td>Greenland</td>\n",
       "      <td>GRL</td>\n",
       "      <td>80.902</td>\n",
       "      <td>0.785</td>\n",
       "      <td>..</td>\n",
       "      <td>..</td>\n",
       "      <td>..</td>\n",
       "    </tr>\n",
       "    <tr>\n",
       "      <th>1948</th>\n",
       "      <td>2001</td>\n",
       "      <td>YR2001</td>\n",
       "      <td>Hong Kong SAR, China</td>\n",
       "      <td>HKG</td>\n",
       "      <td>100</td>\n",
       "      <td>0.737</td>\n",
       "      <td>..</td>\n",
       "      <td>100</td>\n",
       "      <td>100</td>\n",
       "    </tr>\n",
       "    <tr>\n",
       "      <th>4993</th>\n",
       "      <td>2012</td>\n",
       "      <td>YR2012</td>\n",
       "      <td>Least developed countries: UN classification</td>\n",
       "      <td>LDC</td>\n",
       "      <td>30.462</td>\n",
       "      <td>4.133</td>\n",
       "      <td>..</td>\n",
       "      <td>11.703</td>\n",
       "      <td>33.354</td>\n",
       "    </tr>\n",
       "    <tr>\n",
       "      <th>600</th>\n",
       "      <td>1996</td>\n",
       "      <td>YR1996</td>\n",
       "      <td>Dominican Republic</td>\n",
       "      <td>DOM</td>\n",
       "      <td>58.441</td>\n",
       "      <td>3.170</td>\n",
       "      <td>..</td>\n",
       "      <td>21.897</td>\n",
       "      <td>37.469</td>\n",
       "    </tr>\n",
       "    <tr>\n",
       "      <th>4832</th>\n",
       "      <td>2012</td>\n",
       "      <td>YR2012</td>\n",
       "      <td>Ethiopia</td>\n",
       "      <td>ETH</td>\n",
       "      <td>18.160</td>\n",
       "      <td>4.996</td>\n",
       "      <td>..</td>\n",
       "      <td>3.684</td>\n",
       "      <td>20.285</td>\n",
       "    </tr>\n",
       "  </tbody>\n",
       "</table>\n",
       "</div>"
      ],
      "text/plain": [
       "      Time Time Code                                  Country Name  \\\n",
       "355   1995    YR1995                                     Greenland   \n",
       "1948  2001    YR2001                          Hong Kong SAR, China   \n",
       "4993  2012    YR2012  Least developed countries: UN classification   \n",
       "600   1996    YR1996                            Dominican Republic   \n",
       "4832  2012    YR2012                                      Ethiopia   \n",
       "\n",
       "     Country Code Urban population (% of total) [SP.URB.TOTL.IN.ZS]  \\\n",
       "355           GRL                                            80.902   \n",
       "1948          HKG                                               100   \n",
       "4993          LDC                                            30.462   \n",
       "600           DOM                                            58.441   \n",
       "4832          ETH                                            18.160   \n",
       "\n",
       "     Urban population growth (annual %) [SP.URB.GROW]  \\\n",
       "355                                             0.785   \n",
       "1948                                            0.737   \n",
       "4993                                            4.133   \n",
       "600                                             3.170   \n",
       "4832                                            4.996   \n",
       "\n",
       "     Population living in slums (% of urban population) [EN.POP.SLUM.UR.ZS]  \\\n",
       "355                                                  ..                       \n",
       "1948                                                 ..                       \n",
       "4993                                                 ..                       \n",
       "600                                                  ..                       \n",
       "4832                                                 ..                       \n",
       "\n",
       "     Population in urban agglomerations of more than 1 million (% of total population) [EN.URB.MCTY.TL.ZS]  \\\n",
       "355                                                  ..                                                      \n",
       "1948                                                100                                                      \n",
       "4993                                             11.703                                                      \n",
       "600                                              21.897                                                      \n",
       "4832                                              3.684                                                      \n",
       "\n",
       "     Population in the largest city (% of urban population) [EN.URB.LCTY.UR.ZS]  \n",
       "355                                                  ..                          \n",
       "1948                                                100                          \n",
       "4993                                             33.354                          \n",
       "600                                              37.469                          \n",
       "4832                                             20.285                          "
      ]
     },
     "execution_count": 3,
     "metadata": {},
     "output_type": "execute_result"
    }
   ],
   "source": [
    "df.sample(5)"
   ]
  },
  {
   "cell_type": "markdown",
   "metadata": {},
   "source": [
    "## Standardize Country Codes"
   ]
  },
  {
   "cell_type": "code",
   "execution_count": 4,
   "metadata": {},
   "outputs": [],
   "source": [
    "\"\"\" Only Select rows with valid country codes\n",
    "\"\"\"\n",
    "country_locations = []\n",
    "for country in df['Country Code']:\n",
    "    try:\n",
    "        pycountry.countries.lookup(country)\n",
    "        country_locations.append(True)\n",
    "    except LookupError:\n",
    "        country_locations.append(False)\n",
    "df = df[country_locations]"
   ]
  },
  {
   "cell_type": "markdown",
   "metadata": {},
   "source": [
    "## Standardize Indexes"
   ]
  },
  {
   "cell_type": "code",
   "execution_count": 5,
   "metadata": {},
   "outputs": [],
   "source": [
    "df.rename(\n",
    "    {\n",
    "        \"Time\": \"Year\"\n",
    "    },\n",
    "    axis='columns',\n",
    "    inplace=True)"
   ]
  },
  {
   "cell_type": "code",
   "execution_count": 6,
   "metadata": {},
   "outputs": [],
   "source": [
    "df.set_index([\"Country Code\", \"Year\"], inplace=True)"
   ]
  },
  {
   "cell_type": "markdown",
   "metadata": {},
   "source": [
    "## Clean Data"
   ]
  },
  {
   "cell_type": "markdown",
   "metadata": {},
   "source": [
    "### Header"
   ]
  },
  {
   "cell_type": "code",
   "execution_count": 7,
   "metadata": {},
   "outputs": [],
   "source": [
    "df.drop([\"Time Code\", \"Country Name\"],\n",
    "        axis='columns',\n",
    "        inplace=True)"
   ]
  },
  {
   "cell_type": "code",
   "execution_count": 8,
   "metadata": {},
   "outputs": [],
   "source": [
    "c = [ re.search(r\"\\[(\\w+\\.)+\\w+\\]\",d)[0].replace(\"[\",\"\").replace(\"]\",\"\") for d in df.columns ]"
   ]
  },
  {
   "cell_type": "code",
   "execution_count": 9,
   "metadata": {},
   "outputs": [],
   "source": [
    "c_names = {}\n",
    "for x in range(len(c)):\n",
    "    c_names[df.columns[x]] = c[x]"
   ]
  },
  {
   "cell_type": "code",
   "execution_count": 10,
   "metadata": {},
   "outputs": [],
   "source": [
    "df.rename(c_names,axis='columns',inplace=True)"
   ]
  },
  {
   "cell_type": "markdown",
   "metadata": {},
   "source": [
    "### Data Types"
   ]
  },
  {
   "cell_type": "code",
   "execution_count": 11,
   "metadata": {},
   "outputs": [],
   "source": [
    "\"\"\" Replace '..' with np.nan for better parsing\n",
    "\"\"\"\n",
    "df = df.replace('..', np.NaN)"
   ]
  },
  {
   "cell_type": "code",
   "execution_count": 12,
   "metadata": {},
   "outputs": [],
   "source": [
    "df = df.astype(float)"
   ]
  },
  {
   "cell_type": "code",
   "execution_count": 13,
   "metadata": {},
   "outputs": [
    {
     "data": {
      "text/html": [
       "<div>\n",
       "<style scoped>\n",
       "    .dataframe tbody tr th:only-of-type {\n",
       "        vertical-align: middle;\n",
       "    }\n",
       "\n",
       "    .dataframe tbody tr th {\n",
       "        vertical-align: top;\n",
       "    }\n",
       "\n",
       "    .dataframe thead th {\n",
       "        text-align: right;\n",
       "    }\n",
       "</style>\n",
       "<table border=\"1\" class=\"dataframe\">\n",
       "  <thead>\n",
       "    <tr style=\"text-align: right;\">\n",
       "      <th></th>\n",
       "      <th></th>\n",
       "      <th>SP.URB.TOTL.IN.ZS</th>\n",
       "      <th>SP.URB.GROW</th>\n",
       "      <th>EN.POP.SLUM.UR.ZS</th>\n",
       "      <th>EN.URB.MCTY.TL.ZS</th>\n",
       "      <th>EN.URB.LCTY.UR.ZS</th>\n",
       "    </tr>\n",
       "    <tr>\n",
       "      <th>Country Code</th>\n",
       "      <th>Year</th>\n",
       "      <th></th>\n",
       "      <th></th>\n",
       "      <th></th>\n",
       "      <th></th>\n",
       "      <th></th>\n",
       "    </tr>\n",
       "  </thead>\n",
       "  <tbody>\n",
       "    <tr>\n",
       "      <th>CHN</th>\n",
       "      <th>1998</th>\n",
       "      <td>33.867</td>\n",
       "      <td>3.908</td>\n",
       "      <td>nan</td>\n",
       "      <td>15.235</td>\n",
       "      <td>3.062</td>\n",
       "    </tr>\n",
       "    <tr>\n",
       "      <th>ARM</th>\n",
       "      <th>2003</th>\n",
       "      <td>64.137</td>\n",
       "      <td>-0.686</td>\n",
       "      <td>nan</td>\n",
       "      <td>36.314</td>\n",
       "      <td>56.620</td>\n",
       "    </tr>\n",
       "    <tr>\n",
       "      <th>JPN</th>\n",
       "      <th>2016</th>\n",
       "      <td>91.457</td>\n",
       "      <td>-0.032</td>\n",
       "      <td>nan</td>\n",
       "      <td>64.125</td>\n",
       "      <td>32.138</td>\n",
       "    </tr>\n",
       "    <tr>\n",
       "      <th>GRL</th>\n",
       "      <th>1998</th>\n",
       "      <td>81.351</td>\n",
       "      <td>0.331</td>\n",
       "      <td>nan</td>\n",
       "      <td>nan</td>\n",
       "      <td>nan</td>\n",
       "    </tr>\n",
       "    <tr>\n",
       "      <th>ROU</th>\n",
       "      <th>1998</th>\n",
       "      <td>53.311</td>\n",
       "      <td>-0.492</td>\n",
       "      <td>nan</td>\n",
       "      <td>8.782</td>\n",
       "      <td>16.473</td>\n",
       "    </tr>\n",
       "  </tbody>\n",
       "</table>\n",
       "</div>"
      ],
      "text/plain": [
       "                   SP.URB.TOTL.IN.ZS  SP.URB.GROW  EN.POP.SLUM.UR.ZS  \\\n",
       "Country Code Year                                                      \n",
       "CHN          1998             33.867        3.908                nan   \n",
       "ARM          2003             64.137       -0.686                nan   \n",
       "JPN          2016             91.457       -0.032                nan   \n",
       "GRL          1998             81.351        0.331                nan   \n",
       "ROU          1998             53.311       -0.492                nan   \n",
       "\n",
       "                   EN.URB.MCTY.TL.ZS  EN.URB.LCTY.UR.ZS  \n",
       "Country Code Year                                        \n",
       "CHN          1998             15.235              3.062  \n",
       "ARM          2003             36.314             56.620  \n",
       "JPN          2016             64.125             32.138  \n",
       "GRL          1998                nan                nan  \n",
       "ROU          1998              8.782             16.473  "
      ]
     },
     "execution_count": 13,
     "metadata": {},
     "output_type": "execute_result"
    }
   ],
   "source": [
    "df.sample(5)"
   ]
  },
  {
   "cell_type": "markdown",
   "metadata": {},
   "source": [
    "## Save Data"
   ]
  },
  {
   "cell_type": "code",
   "execution_count": 14,
   "metadata": {},
   "outputs": [],
   "source": [
    "df.to_pickle(\"../data/processed/Urbanization_UNPD.pickle\")"
   ]
  }
 ],
 "metadata": {
  "hide_input": false,
  "kernelspec": {
   "display_name": "Python 3",
   "language": "python",
   "name": "python3"
  },
  "language_info": {
   "codemirror_mode": {
    "name": "ipython",
    "version": 3
   },
   "file_extension": ".py",
   "mimetype": "text/x-python",
   "name": "python",
   "nbconvert_exporter": "python",
   "pygments_lexer": "ipython3",
   "version": "3.7.1"
  }
 },
 "nbformat": 4,
 "nbformat_minor": 2
}
